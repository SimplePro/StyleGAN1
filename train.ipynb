{
 "cells": [
  {
   "cell_type": "code",
   "execution_count": 1,
   "metadata": {},
   "outputs": [
    {
     "name": "stderr",
     "output_type": "stream",
     "text": [
      "/home/kdhsimplepro/.local/lib/python3.10/site-packages/tqdm/auto.py:22: TqdmWarning: IProgress not found. Please update jupyter and ipywidgets. See https://ipywidgets.readthedocs.io/en/stable/user_install.html\n",
      "  from .autonotebook import tqdm as notebook_tqdm\n"
     ]
    }
   ],
   "source": [
    "import torch\n",
    "\n",
    "import wandb\n",
    "\n",
    "from trainer import Trainer\n",
    "from models import Generator, Discriminator\n",
    "from utils import get_loader"
   ]
  },
  {
   "cell_type": "code",
   "execution_count": 2,
   "metadata": {},
   "outputs": [],
   "source": [
    "def train_step(\n",
    "    gen_state_dict=None,\n",
    "    disc_state_dict=None,\n",
    "    z_dim=512,\n",
    "    w_dim=512,\n",
    "    step=0,\n",
    "    epochs=50,\n",
    "    lr=0.0002,\n",
    "    betas=(0.5, 0.99),\n",
    "    alpha=1e-7,\n",
    "    could_gp=True,\n",
    "    image_size=4,\n",
    "    dataset_root=\"/home/kdhsimplepro/kdhsimplepro/AI/ffhq/\",\n",
    "    batch_size=4,\n",
    "):\n",
    "    trainer = Trainer(\n",
    "        gen_state_dict,\n",
    "        disc_state_dict,\n",
    "        z_dim,\n",
    "        w_dim,\n",
    "        lr=lr,\n",
    "        betas=betas,\n",
    "        alpha=alpha,\n",
    "        step=step,\n",
    "        could_gp=could_gp\n",
    "    )\n",
    "\n",
    "    loader, _ = get_loader(\n",
    "        image_size=image_size,\n",
    "        dataset_root=dataset_root,\n",
    "        batch_size=batch_size\n",
    "    )\n",
    "\n",
    "    trainer.run(epochs=epochs, loader=loader)\n",
    "\n",
    "    torch.save(trainer.gen.state_dict(), f\"./state_dict/step{step}/gen_state_dict.pt\")\n",
    "    torch.save(trainer.disc.state_dict(), f\"./state_dict/step{step}/disc_state_dict.pt\")"
   ]
  },
  {
   "attachments": {},
   "cell_type": "markdown",
   "metadata": {},
   "source": [
    "### Step 0"
   ]
  },
  {
   "cell_type": "code",
   "execution_count": 3,
   "metadata": {},
   "outputs": [
    {
     "name": "stderr",
     "output_type": "stream",
     "text": [
      "Failed to detect the name of this notebook, you can set it manually with the WANDB_NOTEBOOK_NAME environment variable to enable code saving.\n",
      "\u001b[34m\u001b[1mwandb\u001b[0m: Currently logged in as: \u001b[33mdonghwankim\u001b[0m. Use \u001b[1m`wandb login --relogin`\u001b[0m to force relogin\n"
     ]
    },
    {
     "data": {
      "text/html": [
       "wandb version 0.13.9 is available!  To upgrade, please run:\n",
       " $ pip install wandb --upgrade"
      ],
      "text/plain": [
       "<IPython.core.display.HTML object>"
      ]
     },
     "metadata": {},
     "output_type": "display_data"
    },
    {
     "data": {
      "text/html": [
       "Tracking run with wandb version 0.13.7"
      ],
      "text/plain": [
       "<IPython.core.display.HTML object>"
      ]
     },
     "metadata": {},
     "output_type": "display_data"
    },
    {
     "data": {
      "text/html": [
       "Run data is saved locally in <code>/home/kdhsimplepro/kdhsimplepro/AI/StyleGAN1/wandb/run-20230128_194224-uujxawrj</code>"
      ],
      "text/plain": [
       "<IPython.core.display.HTML object>"
      ]
     },
     "metadata": {},
     "output_type": "display_data"
    },
    {
     "data": {
      "text/html": [
       "Syncing run <strong><a href=\"https://wandb.ai/donghwankim/StyleGAN1/runs/uujxawrj\" target=\"_blank\">auspicious-springroll-61</a></strong> to <a href=\"https://wandb.ai/donghwankim/StyleGAN1\" target=\"_blank\">Weights & Biases</a> (<a href=\"https://wandb.me/run\" target=\"_blank\">docs</a>)<br/>"
      ],
      "text/plain": [
       "<IPython.core.display.HTML object>"
      ]
     },
     "metadata": {},
     "output_type": "display_data"
    },
    {
     "name": "stderr",
     "output_type": "stream",
     "text": [
      "\u001b[34m\u001b[1mwandb\u001b[0m: \u001b[33mWARNING\u001b[0m Calling wandb.run.save without any arguments is deprecated.Changes to attributes are automatically persisted.\n"
     ]
    },
    {
     "name": "stdout",
     "output_type": "stream",
     "text": [
      "\n",
      "\n",
      "Image Size: 4x4\n",
      "\n",
      "EPOCH: 1/20\n"
     ]
    },
    {
     "name": "stderr",
     "output_type": "stream",
     "text": [
      "100%|██████████| 204/204 [05:01<00:00,  1.48s/it, disc_loss=-9.69, gen_loss=14.7, gp=0.345]\n"
     ]
    },
    {
     "name": "stdout",
     "output_type": "stream",
     "text": [
      "EPOCH: 2/20\n"
     ]
    },
    {
     "name": "stderr",
     "output_type": "stream",
     "text": [
      "100%|██████████| 204/204 [05:00<00:00,  1.47s/it, disc_loss=-5.5, gen_loss=7.12, gp=0.313] \n"
     ]
    },
    {
     "name": "stdout",
     "output_type": "stream",
     "text": [
      "EPOCH: 3/20\n"
     ]
    },
    {
     "name": "stderr",
     "output_type": "stream",
     "text": [
      "100%|██████████| 204/204 [05:00<00:00,  1.47s/it, disc_loss=-4.03, gen_loss=2.28, gp=0.16]  \n"
     ]
    },
    {
     "name": "stdout",
     "output_type": "stream",
     "text": [
      "EPOCH: 4/20\n"
     ]
    },
    {
     "name": "stderr",
     "output_type": "stream",
     "text": [
      "100%|██████████| 204/204 [05:00<00:00,  1.47s/it, disc_loss=-6.14, gen_loss=6.01, gp=0.103] \n"
     ]
    },
    {
     "name": "stdout",
     "output_type": "stream",
     "text": [
      "EPOCH: 5/20\n"
     ]
    },
    {
     "name": "stderr",
     "output_type": "stream",
     "text": [
      "100%|██████████| 204/204 [05:00<00:00,  1.47s/it, disc_loss=-4.78, gen_loss=2.46, gp=0.0366]\n"
     ]
    },
    {
     "name": "stdout",
     "output_type": "stream",
     "text": [
      "EPOCH: 6/20\n"
     ]
    },
    {
     "name": "stderr",
     "output_type": "stream",
     "text": [
      "100%|██████████| 204/204 [05:00<00:00,  1.47s/it, disc_loss=-3.43, gen_loss=3.9, gp=0.0898] \n"
     ]
    },
    {
     "name": "stdout",
     "output_type": "stream",
     "text": [
      "EPOCH: 7/20\n"
     ]
    },
    {
     "name": "stderr",
     "output_type": "stream",
     "text": [
      "100%|██████████| 204/204 [05:00<00:00,  1.47s/it, disc_loss=-3.11, gen_loss=3.47, gp=0.0362]\n"
     ]
    },
    {
     "name": "stdout",
     "output_type": "stream",
     "text": [
      "EPOCH: 8/20\n"
     ]
    },
    {
     "name": "stderr",
     "output_type": "stream",
     "text": [
      "100%|██████████| 204/204 [05:00<00:00,  1.47s/it, disc_loss=-3.39, gen_loss=4.63, gp=0.0322]\n"
     ]
    },
    {
     "name": "stdout",
     "output_type": "stream",
     "text": [
      "EPOCH: 9/20\n"
     ]
    },
    {
     "name": "stderr",
     "output_type": "stream",
     "text": [
      "100%|██████████| 204/204 [05:00<00:00,  1.47s/it, disc_loss=-2.39, gen_loss=3.18, gp=0.0437]\n"
     ]
    },
    {
     "name": "stdout",
     "output_type": "stream",
     "text": [
      "EPOCH: 10/20\n"
     ]
    },
    {
     "name": "stderr",
     "output_type": "stream",
     "text": [
      "100%|██████████| 204/204 [05:00<00:00,  1.47s/it, disc_loss=-2.46, gen_loss=3.42, gp=0.0254]\n"
     ]
    },
    {
     "name": "stdout",
     "output_type": "stream",
     "text": [
      "EPOCH: 11/20\n"
     ]
    },
    {
     "name": "stderr",
     "output_type": "stream",
     "text": [
      "100%|██████████| 204/204 [05:00<00:00,  1.47s/it, disc_loss=-1.42, gen_loss=2.46, gp=0.0331]\n"
     ]
    },
    {
     "name": "stdout",
     "output_type": "stream",
     "text": [
      "EPOCH: 12/20\n"
     ]
    },
    {
     "name": "stderr",
     "output_type": "stream",
     "text": [
      "100%|██████████| 204/204 [05:00<00:00,  1.47s/it, disc_loss=-1.07, gen_loss=1.6, gp=0.0246]  \n"
     ]
    },
    {
     "name": "stdout",
     "output_type": "stream",
     "text": [
      "EPOCH: 13/20\n"
     ]
    },
    {
     "name": "stderr",
     "output_type": "stream",
     "text": [
      "100%|██████████| 204/204 [05:00<00:00,  1.47s/it, disc_loss=-1.11, gen_loss=1.26, gp=0.0162]   \n"
     ]
    },
    {
     "name": "stdout",
     "output_type": "stream",
     "text": [
      "EPOCH: 14/20\n"
     ]
    },
    {
     "name": "stderr",
     "output_type": "stream",
     "text": [
      "100%|██████████| 204/204 [05:00<00:00,  1.47s/it, disc_loss=-.827, gen_loss=1.17, gp=0.00621]\n"
     ]
    },
    {
     "name": "stdout",
     "output_type": "stream",
     "text": [
      "EPOCH: 15/20\n"
     ]
    },
    {
     "name": "stderr",
     "output_type": "stream",
     "text": [
      "100%|██████████| 204/204 [05:00<00:00,  1.47s/it, disc_loss=-.86, gen_loss=1.11, gp=0.00481]  \n"
     ]
    },
    {
     "name": "stdout",
     "output_type": "stream",
     "text": [
      "EPOCH: 16/20\n"
     ]
    },
    {
     "name": "stderr",
     "output_type": "stream",
     "text": [
      "100%|██████████| 204/204 [05:00<00:00,  1.47s/it, disc_loss=-.223, gen_loss=0.291, gp=0.019]  \n"
     ]
    },
    {
     "name": "stdout",
     "output_type": "stream",
     "text": [
      "EPOCH: 17/20\n"
     ]
    },
    {
     "name": "stderr",
     "output_type": "stream",
     "text": [
      "100%|██████████| 204/204 [05:00<00:00,  1.47s/it, disc_loss=-.352, gen_loss=0.465, gp=0.0133]  \n"
     ]
    },
    {
     "name": "stdout",
     "output_type": "stream",
     "text": [
      "EPOCH: 18/20\n"
     ]
    },
    {
     "name": "stderr",
     "output_type": "stream",
     "text": [
      "100%|██████████| 204/204 [05:00<00:00,  1.47s/it, disc_loss=-.2, gen_loss=0.273, gp=0.0232]    \n"
     ]
    },
    {
     "name": "stdout",
     "output_type": "stream",
     "text": [
      "EPOCH: 19/20\n"
     ]
    },
    {
     "name": "stderr",
     "output_type": "stream",
     "text": [
      "100%|██████████| 204/204 [05:00<00:00,  1.47s/it, disc_loss=-.237, gen_loss=0.239, gp=0.00494] \n"
     ]
    },
    {
     "name": "stdout",
     "output_type": "stream",
     "text": [
      "EPOCH: 20/20\n"
     ]
    },
    {
     "name": "stderr",
     "output_type": "stream",
     "text": [
      "100%|██████████| 204/204 [05:00<00:00,  1.47s/it, disc_loss=-.233, gen_loss=0.727, gp=0.0141]   \n"
     ]
    }
   ],
   "source": [
    "DEVICE = torch.device(\"cuda\" if torch.cuda.is_available() else \"cpu\")\n",
    "\n",
    "args = {\n",
    "    \"Z_DIM\": 512,\n",
    "    \"W_DIM\": 512,\n",
    "    \"LAMBDA_GP\": 10,\n",
    "    \"EPOCHS\": [20, 20, 20, 50, 50, 75, 75, 100],\n",
    "    \"BATCH_SIZES\": [256, 256, 128, 64, 32, 16, 8, 4],\n",
    "    \"IMAGE_SIZES\": [4, 8, 16, 32, 64, 128, 256, 512],\n",
    "    \"STEP\": 0,\n",
    "}\n",
    "\n",
    "wandb.init(project=\"StyleGAN1\", entity=\"donghwankim\")\n",
    "\n",
    "wandb.run.name = f'ffhq/LAMBDA_GP:{args[\"LAMBDA_GP\"]}/z_dim:{args[\"Z_DIM\"]}/w_dim:{args[\"W_DIM\"]}/step:{args[\"STEP\"]}'\n",
    "wandb.save()\n",
    "\n",
    "wandb.config.update(args)\n",
    "\n",
    "train_step(\n",
    "    gen_state_dict=None,\n",
    "    disc_state_dict=None,\n",
    "    z_dim=args[\"Z_DIM\"],\n",
    "    w_dim=args[\"W_DIM\"],\n",
    "    step=args[\"STEP\"],\n",
    "    epochs=args[\"EPOCHS\"][args[\"STEP\"]],\n",
    "    lr=0.001,\n",
    "    betas=(0.5, 0.99),\n",
    "    alpha=1e-7,\n",
    "    could_gp=True,\n",
    "    image_size=args[\"IMAGE_SIZES\"][args[\"STEP\"]],\n",
    "    dataset_root=\"/home/kdhsimplepro/kdhsimplepro/AI/ffhq/\",\n",
    "    batch_size=args[\"BATCH_SIZES\"][args[\"STEP\"]]\n",
    ")"
   ]
  },
  {
   "attachments": {},
   "cell_type": "markdown",
   "metadata": {},
   "source": [
    "### Step 1"
   ]
  },
  {
   "cell_type": "code",
   "execution_count": 3,
   "metadata": {},
   "outputs": [
    {
     "name": "stderr",
     "output_type": "stream",
     "text": [
      "Failed to detect the name of this notebook, you can set it manually with the WANDB_NOTEBOOK_NAME environment variable to enable code saving.\n",
      "\u001b[34m\u001b[1mwandb\u001b[0m: Currently logged in as: \u001b[33mdonghwankim\u001b[0m. Use \u001b[1m`wandb login --relogin`\u001b[0m to force relogin\n"
     ]
    },
    {
     "data": {
      "text/html": [
       "wandb version 0.13.9 is available!  To upgrade, please run:\n",
       " $ pip install wandb --upgrade"
      ],
      "text/plain": [
       "<IPython.core.display.HTML object>"
      ]
     },
     "metadata": {},
     "output_type": "display_data"
    },
    {
     "data": {
      "text/html": [
       "Tracking run with wandb version 0.13.7"
      ],
      "text/plain": [
       "<IPython.core.display.HTML object>"
      ]
     },
     "metadata": {},
     "output_type": "display_data"
    },
    {
     "data": {
      "text/html": [
       "Run data is saved locally in <code>/home/kdhsimplepro/kdhsimplepro/AI/StyleGAN1/wandb/run-20230128_213115-255v4en9</code>"
      ],
      "text/plain": [
       "<IPython.core.display.HTML object>"
      ]
     },
     "metadata": {},
     "output_type": "display_data"
    },
    {
     "data": {
      "text/html": [
       "Syncing run <strong><a href=\"https://wandb.ai/donghwankim/StyleGAN1/runs/255v4en9\" target=\"_blank\">dancing-mandu-62</a></strong> to <a href=\"https://wandb.ai/donghwankim/StyleGAN1\" target=\"_blank\">Weights & Biases</a> (<a href=\"https://wandb.me/run\" target=\"_blank\">docs</a>)<br/>"
      ],
      "text/plain": [
       "<IPython.core.display.HTML object>"
      ]
     },
     "metadata": {},
     "output_type": "display_data"
    },
    {
     "name": "stderr",
     "output_type": "stream",
     "text": [
      "\u001b[34m\u001b[1mwandb\u001b[0m: \u001b[33mWARNING\u001b[0m Calling wandb.run.save without any arguments is deprecated.Changes to attributes are automatically persisted.\n"
     ]
    },
    {
     "name": "stdout",
     "output_type": "stream",
     "text": [
      "\n",
      "\n",
      "Image Size: 8x8\n",
      "\n",
      "EPOCH: 1/20\n"
     ]
    },
    {
     "name": "stderr",
     "output_type": "stream",
     "text": [
      "100%|██████████| 204/204 [05:40<00:00,  1.67s/it, disc_loss=0.0165, gen_loss=1.98, gp=0.015]    \n"
     ]
    },
    {
     "name": "stdout",
     "output_type": "stream",
     "text": [
      "EPOCH: 2/20\n"
     ]
    },
    {
     "name": "stderr",
     "output_type": "stream",
     "text": [
      "100%|██████████| 204/204 [05:39<00:00,  1.66s/it, disc_loss=-.0643, gen_loss=0.177, gp=0.00895]\n"
     ]
    },
    {
     "name": "stdout",
     "output_type": "stream",
     "text": [
      "EPOCH: 3/20\n"
     ]
    },
    {
     "name": "stderr",
     "output_type": "stream",
     "text": [
      "100%|██████████| 204/204 [05:39<00:00,  1.66s/it, disc_loss=-.204, gen_loss=0.176, gp=0.00357]  \n"
     ]
    },
    {
     "name": "stdout",
     "output_type": "stream",
     "text": [
      "EPOCH: 4/20\n"
     ]
    },
    {
     "name": "stderr",
     "output_type": "stream",
     "text": [
      "100%|██████████| 204/204 [05:39<00:00,  1.66s/it, disc_loss=-.129, gen_loss=0.523, gp=0.00417]  \n"
     ]
    },
    {
     "name": "stdout",
     "output_type": "stream",
     "text": [
      "EPOCH: 5/20\n"
     ]
    },
    {
     "name": "stderr",
     "output_type": "stream",
     "text": [
      "100%|██████████| 204/204 [05:39<00:00,  1.66s/it, disc_loss=-.176, gen_loss=0.737, gp=0.00561]  \n"
     ]
    },
    {
     "name": "stdout",
     "output_type": "stream",
     "text": [
      "EPOCH: 6/20\n"
     ]
    },
    {
     "name": "stderr",
     "output_type": "stream",
     "text": [
      "100%|██████████| 204/204 [05:39<00:00,  1.66s/it, disc_loss=-.425, gen_loss=0.853, gp=0.0133]  \n"
     ]
    },
    {
     "name": "stdout",
     "output_type": "stream",
     "text": [
      "EPOCH: 7/20\n"
     ]
    },
    {
     "name": "stderr",
     "output_type": "stream",
     "text": [
      "100%|██████████| 204/204 [05:39<00:00,  1.66s/it, disc_loss=-.0587, gen_loss=0.0875, gp=0.0106]\n"
     ]
    },
    {
     "name": "stdout",
     "output_type": "stream",
     "text": [
      "EPOCH: 8/20\n"
     ]
    },
    {
     "name": "stderr",
     "output_type": "stream",
     "text": [
      "100%|██████████| 204/204 [05:39<00:00,  1.66s/it, disc_loss=-.161, gen_loss=-.0575, gp=0.00898] \n"
     ]
    },
    {
     "name": "stdout",
     "output_type": "stream",
     "text": [
      "EPOCH: 9/20\n"
     ]
    },
    {
     "name": "stderr",
     "output_type": "stream",
     "text": [
      "100%|██████████| 204/204 [05:39<00:00,  1.67s/it, disc_loss=-.262, gen_loss=0.249, gp=0.0086]   \n"
     ]
    },
    {
     "name": "stdout",
     "output_type": "stream",
     "text": [
      "EPOCH: 10/20\n"
     ]
    },
    {
     "name": "stderr",
     "output_type": "stream",
     "text": [
      "100%|██████████| 204/204 [05:39<00:00,  1.66s/it, disc_loss=-.13, gen_loss=0.525, gp=0.0106]   \n"
     ]
    },
    {
     "name": "stdout",
     "output_type": "stream",
     "text": [
      "EPOCH: 11/20\n"
     ]
    },
    {
     "name": "stderr",
     "output_type": "stream",
     "text": [
      "100%|██████████| 204/204 [05:39<00:00,  1.66s/it, disc_loss=-.426, gen_loss=0.535, gp=0.0166]   \n"
     ]
    },
    {
     "name": "stdout",
     "output_type": "stream",
     "text": [
      "EPOCH: 12/20\n"
     ]
    },
    {
     "name": "stderr",
     "output_type": "stream",
     "text": [
      "100%|██████████| 204/204 [05:39<00:00,  1.66s/it, disc_loss=-.211, gen_loss=0.608, gp=0.0132]   \n"
     ]
    },
    {
     "name": "stdout",
     "output_type": "stream",
     "text": [
      "EPOCH: 13/20\n"
     ]
    },
    {
     "name": "stderr",
     "output_type": "stream",
     "text": [
      "100%|██████████| 204/204 [05:39<00:00,  1.66s/it, disc_loss=-.161, gen_loss=0.631, gp=0.00964]  \n"
     ]
    },
    {
     "name": "stdout",
     "output_type": "stream",
     "text": [
      "EPOCH: 14/20\n"
     ]
    },
    {
     "name": "stderr",
     "output_type": "stream",
     "text": [
      "100%|██████████| 204/204 [05:39<00:00,  1.66s/it, disc_loss=-.0761, gen_loss=0.373, gp=0.00842]\n"
     ]
    },
    {
     "name": "stdout",
     "output_type": "stream",
     "text": [
      "EPOCH: 15/20\n"
     ]
    },
    {
     "name": "stderr",
     "output_type": "stream",
     "text": [
      "100%|██████████| 204/204 [05:39<00:00,  1.67s/it, disc_loss=-.292, gen_loss=1.07, gp=0.0127]   \n"
     ]
    },
    {
     "name": "stdout",
     "output_type": "stream",
     "text": [
      "EPOCH: 16/20\n"
     ]
    },
    {
     "name": "stderr",
     "output_type": "stream",
     "text": [
      "100%|██████████| 204/204 [05:39<00:00,  1.66s/it, disc_loss=-.488, gen_loss=0.546, gp=0.0105]  \n"
     ]
    },
    {
     "name": "stdout",
     "output_type": "stream",
     "text": [
      "EPOCH: 17/20\n"
     ]
    },
    {
     "name": "stderr",
     "output_type": "stream",
     "text": [
      "100%|██████████| 204/204 [05:39<00:00,  1.66s/it, disc_loss=-.243, gen_loss=0.0322, gp=0.0106]  \n"
     ]
    },
    {
     "name": "stdout",
     "output_type": "stream",
     "text": [
      "EPOCH: 18/20\n"
     ]
    },
    {
     "name": "stderr",
     "output_type": "stream",
     "text": [
      "100%|██████████| 204/204 [05:39<00:00,  1.66s/it, disc_loss=-.271, gen_loss=0.939, gp=0.0115]    \n"
     ]
    },
    {
     "name": "stdout",
     "output_type": "stream",
     "text": [
      "EPOCH: 19/20\n"
     ]
    },
    {
     "name": "stderr",
     "output_type": "stream",
     "text": [
      "100%|██████████| 204/204 [05:39<00:00,  1.66s/it, disc_loss=0.11, gen_loss=0.301, gp=0.0099]     \n"
     ]
    },
    {
     "name": "stdout",
     "output_type": "stream",
     "text": [
      "EPOCH: 20/20\n"
     ]
    },
    {
     "name": "stderr",
     "output_type": "stream",
     "text": [
      "100%|██████████| 204/204 [05:39<00:00,  1.67s/it, disc_loss=0.222, gen_loss=-.178, gp=0.00904]   \n"
     ]
    }
   ],
   "source": [
    "DEVICE = torch.device(\"cuda\" if torch.cuda.is_available() else \"cpu\")\n",
    "\n",
    "args = {\n",
    "    \"Z_DIM\": 512,\n",
    "    \"W_DIM\": 512,\n",
    "    \"LAMBDA_GP\": 10,\n",
    "    \"EPOCHS\": [20, 20, 20, 50, 50, 75, 75, 100],\n",
    "    \"BATCH_SIZES\": [256, 256, 128, 64, 32, 16, 8, 4],\n",
    "    \"IMAGE_SIZES\": [4, 8, 16, 32, 64, 128, 256, 512],\n",
    "    \"STEP\": 1,\n",
    "}\n",
    "\n",
    "wandb.init(project=\"StyleGAN1\", entity=\"donghwankim\")\n",
    "\n",
    "wandb.run.name = f'ffhq/LAMBDA_GP:{args[\"LAMBDA_GP\"]}/z_dim:{args[\"Z_DIM\"]}/w_dim:{args[\"W_DIM\"]}/step:{args[\"STEP\"]}'\n",
    "wandb.save()\n",
    "\n",
    "wandb.config.update(args)\n",
    "\n",
    "train_step(\n",
    "    gen_state_dict=torch.load(\"./state_dict/step0/gen_state_dict.pt\"),\n",
    "    disc_state_dict=torch.load(\"./state_dict/step0/disc_state_dict.pt\"),\n",
    "    z_dim=args[\"Z_DIM\"],\n",
    "    w_dim=args[\"W_DIM\"],\n",
    "    step=args[\"STEP\"],\n",
    "    epochs=args[\"EPOCHS\"][args[\"STEP\"]],\n",
    "    lr=0.0005,\n",
    "    betas=(0.5, 0.99),\n",
    "    alpha=1e-7,\n",
    "    could_gp=True,\n",
    "    image_size=args[\"IMAGE_SIZES\"][args[\"STEP\"]],\n",
    "    dataset_root=\"/home/kdhsimplepro/kdhsimplepro/AI/ffhq/\",\n",
    "    batch_size=args[\"BATCH_SIZES\"][args[\"STEP\"]]\n",
    ")"
   ]
  },
  {
   "attachments": {},
   "cell_type": "markdown",
   "metadata": {},
   "source": [
    "### Step 2"
   ]
  },
  {
   "cell_type": "code",
   "execution_count": 3,
   "metadata": {},
   "outputs": [
    {
     "name": "stderr",
     "output_type": "stream",
     "text": [
      "Failed to detect the name of this notebook, you can set it manually with the WANDB_NOTEBOOK_NAME environment variable to enable code saving.\n",
      "\u001b[34m\u001b[1mwandb\u001b[0m: Currently logged in as: \u001b[33mdonghwankim\u001b[0m. Use \u001b[1m`wandb login --relogin`\u001b[0m to force relogin\n"
     ]
    },
    {
     "data": {
      "text/html": [
       "wandb version 0.13.9 is available!  To upgrade, please run:\n",
       " $ pip install wandb --upgrade"
      ],
      "text/plain": [
       "<IPython.core.display.HTML object>"
      ]
     },
     "metadata": {},
     "output_type": "display_data"
    },
    {
     "data": {
      "text/html": [
       "Tracking run with wandb version 0.13.7"
      ],
      "text/plain": [
       "<IPython.core.display.HTML object>"
      ]
     },
     "metadata": {},
     "output_type": "display_data"
    },
    {
     "data": {
      "text/html": [
       "Run data is saved locally in <code>/home/kdhsimplepro/kdhsimplepro/AI/StyleGAN1/wandb/run-20230128_233042-1di378t8</code>"
      ],
      "text/plain": [
       "<IPython.core.display.HTML object>"
      ]
     },
     "metadata": {},
     "output_type": "display_data"
    },
    {
     "data": {
      "text/html": [
       "Syncing run <strong><a href=\"https://wandb.ai/donghwankim/StyleGAN1/runs/1di378t8\" target=\"_blank\">floating-kumquat-63</a></strong> to <a href=\"https://wandb.ai/donghwankim/StyleGAN1\" target=\"_blank\">Weights & Biases</a> (<a href=\"https://wandb.me/run\" target=\"_blank\">docs</a>)<br/>"
      ],
      "text/plain": [
       "<IPython.core.display.HTML object>"
      ]
     },
     "metadata": {},
     "output_type": "display_data"
    },
    {
     "name": "stderr",
     "output_type": "stream",
     "text": [
      "\u001b[34m\u001b[1mwandb\u001b[0m: \u001b[33mWARNING\u001b[0m Calling wandb.run.save without any arguments is deprecated.Changes to attributes are automatically persisted.\n"
     ]
    },
    {
     "name": "stdout",
     "output_type": "stream",
     "text": [
      "\n",
      "\n",
      "Image Size: 16x16\n",
      "\n",
      "EPOCH: 1/20\n"
     ]
    },
    {
     "name": "stderr",
     "output_type": "stream",
     "text": [
      "  5%|▍         | 20/407 [00:22<07:07,  1.10s/it, disc_loss=0.145, gen_loss=1.45, gp=0.0708] "
     ]
    }
   ],
   "source": [
    "DEVICE = torch.device(\"cuda\" if torch.cuda.is_available() else \"cpu\")\n",
    "\n",
    "args = {\n",
    "    \"Z_DIM\": 512,\n",
    "    \"W_DIM\": 512,\n",
    "    \"LAMBDA_GP\": 10,\n",
    "    \"EPOCHS\": [20, 20, 20, 50, 50, 75, 75, 100],\n",
    "    \"BATCH_SIZES\": [256, 256, 128, 64, 32, 16, 8, 4],\n",
    "    \"IMAGE_SIZES\": [4, 8, 16, 32, 64, 128, 256, 512],\n",
    "    \"STEP\": 2,\n",
    "}\n",
    "\n",
    "wandb.init(project=\"StyleGAN1\", entity=\"donghwankim\")\n",
    "\n",
    "wandb.run.name = f'ffhq/LAMBDA_GP:{args[\"LAMBDA_GP\"]}/z_dim:{args[\"Z_DIM\"]}/w_dim:{args[\"W_DIM\"]}/step:{args[\"STEP\"]}'\n",
    "wandb.save()\n",
    "\n",
    "wandb.config.update(args)\n",
    "\n",
    "train_step(\n",
    "    gen_state_dict=torch.load(f\"./state_dict/step{args['STEP']-1}/gen_state_dict.pt\"),\n",
    "    disc_state_dict=torch.load(f\"./state_dict/step{args['STEP']-1}/disc_state_dict.pt\"),\n",
    "    z_dim=args[\"Z_DIM\"],\n",
    "    w_dim=args[\"W_DIM\"],\n",
    "    step=args[\"STEP\"],\n",
    "    epochs=args[\"EPOCHS\"][args[\"STEP\"]],\n",
    "    lr=0.0004,\n",
    "    betas=(0.5, 0.99),\n",
    "    alpha=1e-7,\n",
    "    could_gp=True,\n",
    "    image_size=args[\"IMAGE_SIZES\"][args[\"STEP\"]],\n",
    "    dataset_root=\"/home/kdhsimplepro/kdhsimplepro/AI/ffhq/\",\n",
    "    batch_size=args[\"BATCH_SIZES\"][args[\"STEP\"]]\n",
    ")"
   ]
  },
  {
   "attachments": {},
   "cell_type": "markdown",
   "metadata": {},
   "source": [
    "### Step 3"
   ]
  },
  {
   "cell_type": "code",
   "execution_count": 3,
   "metadata": {},
   "outputs": [
    {
     "name": "stderr",
     "output_type": "stream",
     "text": [
      "Failed to detect the name of this notebook, you can set it manually with the WANDB_NOTEBOOK_NAME environment variable to enable code saving.\n",
      "\u001b[34m\u001b[1mwandb\u001b[0m: Currently logged in as: \u001b[33mdonghwankim\u001b[0m. Use \u001b[1m`wandb login --relogin`\u001b[0m to force relogin\n"
     ]
    },
    {
     "data": {
      "text/html": [
       "wandb version 0.13.9 is available!  To upgrade, please run:\n",
       " $ pip install wandb --upgrade"
      ],
      "text/plain": [
       "<IPython.core.display.HTML object>"
      ]
     },
     "metadata": {},
     "output_type": "display_data"
    },
    {
     "data": {
      "text/html": [
       "Tracking run with wandb version 0.13.7"
      ],
      "text/plain": [
       "<IPython.core.display.HTML object>"
      ]
     },
     "metadata": {},
     "output_type": "display_data"
    },
    {
     "data": {
      "text/html": [
       "Run data is saved locally in <code>/home/kdhsimplepro/kdhsimplepro/AI/StyleGAN1/wandb/run-20230127_211235-1tz4msq1</code>"
      ],
      "text/plain": [
       "<IPython.core.display.HTML object>"
      ]
     },
     "metadata": {},
     "output_type": "display_data"
    },
    {
     "data": {
      "text/html": [
       "Syncing run <strong><a href=\"https://wandb.ai/donghwankim/StyleGAN1/runs/1tz4msq1\" target=\"_blank\">golden-fuse-36</a></strong> to <a href=\"https://wandb.ai/donghwankim/StyleGAN1\" target=\"_blank\">Weights & Biases</a> (<a href=\"https://wandb.me/run\" target=\"_blank\">docs</a>)<br/>"
      ],
      "text/plain": [
       "<IPython.core.display.HTML object>"
      ]
     },
     "metadata": {},
     "output_type": "display_data"
    },
    {
     "name": "stderr",
     "output_type": "stream",
     "text": [
      "\u001b[34m\u001b[1mwandb\u001b[0m: \u001b[33mWARNING\u001b[0m Calling wandb.run.save without any arguments is deprecated.Changes to attributes are automatically persisted.\n"
     ]
    },
    {
     "name": "stdout",
     "output_type": "stream",
     "text": [
      "\n",
      "\n",
      "Image Size: 32x32\n",
      "\n",
      "EPOCH: 1/50\n"
     ]
    },
    {
     "name": "stderr",
     "output_type": "stream",
     "text": [
      "100%|██████████| 813/813 [12:50<00:00,  1.06it/s, disc_loss=-2.01, gen_loss=2, gp=0.00949]     \n"
     ]
    },
    {
     "name": "stdout",
     "output_type": "stream",
     "text": [
      "EPOCH: 2/50\n"
     ]
    },
    {
     "name": "stderr",
     "output_type": "stream",
     "text": [
      "100%|██████████| 813/813 [12:49<00:00,  1.06it/s, disc_loss=-.805, gen_loss=2.64, gp=0.0115]    \n"
     ]
    },
    {
     "name": "stdout",
     "output_type": "stream",
     "text": [
      "EPOCH: 3/50\n"
     ]
    },
    {
     "name": "stderr",
     "output_type": "stream",
     "text": [
      "100%|██████████| 813/813 [12:49<00:00,  1.06it/s, disc_loss=0.0182, gen_loss=-1.99, gp=0.00459] \n"
     ]
    },
    {
     "name": "stdout",
     "output_type": "stream",
     "text": [
      "EPOCH: 4/50\n"
     ]
    },
    {
     "name": "stderr",
     "output_type": "stream",
     "text": [
      "100%|██████████| 813/813 [12:49<00:00,  1.06it/s, disc_loss=-.844, gen_loss=-2.5, gp=0.0168]     \n"
     ]
    },
    {
     "name": "stdout",
     "output_type": "stream",
     "text": [
      "EPOCH: 5/50\n"
     ]
    },
    {
     "name": "stderr",
     "output_type": "stream",
     "text": [
      "100%|██████████| 813/813 [12:49<00:00,  1.06it/s, disc_loss=-1.51, gen_loss=1.5, gp=0.0158]    \n"
     ]
    },
    {
     "name": "stdout",
     "output_type": "stream",
     "text": [
      "EPOCH: 6/50\n"
     ]
    },
    {
     "name": "stderr",
     "output_type": "stream",
     "text": [
      "100%|██████████| 813/813 [12:49<00:00,  1.06it/s, disc_loss=-1.88, gen_loss=9.54, gp=0.00532]   \n"
     ]
    },
    {
     "name": "stdout",
     "output_type": "stream",
     "text": [
      "EPOCH: 7/50\n"
     ]
    },
    {
     "name": "stderr",
     "output_type": "stream",
     "text": [
      "100%|██████████| 813/813 [12:49<00:00,  1.06it/s, disc_loss=-.548, gen_loss=-.0274, gp=0.018]   \n"
     ]
    },
    {
     "name": "stdout",
     "output_type": "stream",
     "text": [
      "EPOCH: 8/50\n"
     ]
    },
    {
     "name": "stderr",
     "output_type": "stream",
     "text": [
      "100%|██████████| 813/813 [12:49<00:00,  1.06it/s, disc_loss=-1.07, gen_loss=2.42, gp=0.00387]   \n"
     ]
    },
    {
     "name": "stdout",
     "output_type": "stream",
     "text": [
      "EPOCH: 9/50\n"
     ]
    },
    {
     "name": "stderr",
     "output_type": "stream",
     "text": [
      "100%|██████████| 813/813 [12:49<00:00,  1.06it/s, disc_loss=-.694, gen_loss=8.96, gp=0.0214]    \n"
     ]
    },
    {
     "name": "stdout",
     "output_type": "stream",
     "text": [
      "EPOCH: 10/50\n"
     ]
    },
    {
     "name": "stderr",
     "output_type": "stream",
     "text": [
      "100%|██████████| 813/813 [12:49<00:00,  1.06it/s, disc_loss=-.0484, gen_loss=-.889, gp=0.00362] \n"
     ]
    },
    {
     "name": "stdout",
     "output_type": "stream",
     "text": [
      "EPOCH: 11/50\n"
     ]
    },
    {
     "name": "stderr",
     "output_type": "stream",
     "text": [
      "100%|██████████| 813/813 [12:49<00:00,  1.06it/s, disc_loss=-.339, gen_loss=-1.21, gp=0.00382]  \n"
     ]
    },
    {
     "name": "stdout",
     "output_type": "stream",
     "text": [
      "EPOCH: 12/50\n"
     ]
    },
    {
     "name": "stderr",
     "output_type": "stream",
     "text": [
      "100%|██████████| 813/813 [12:49<00:00,  1.06it/s, disc_loss=-.777, gen_loss=-2.17, gp=0.0281]   \n"
     ]
    },
    {
     "name": "stdout",
     "output_type": "stream",
     "text": [
      "EPOCH: 13/50\n"
     ]
    },
    {
     "name": "stderr",
     "output_type": "stream",
     "text": [
      "100%|██████████| 813/813 [12:49<00:00,  1.06it/s, disc_loss=-.693, gen_loss=6.47, gp=0.00717]    \n"
     ]
    },
    {
     "name": "stdout",
     "output_type": "stream",
     "text": [
      "EPOCH: 14/50\n"
     ]
    },
    {
     "name": "stderr",
     "output_type": "stream",
     "text": [
      "100%|██████████| 813/813 [12:49<00:00,  1.06it/s, disc_loss=-.644, gen_loss=-1.89, gp=0.00215]  \n"
     ]
    },
    {
     "name": "stdout",
     "output_type": "stream",
     "text": [
      "EPOCH: 15/50\n"
     ]
    },
    {
     "name": "stderr",
     "output_type": "stream",
     "text": [
      "100%|██████████| 813/813 [12:49<00:00,  1.06it/s, disc_loss=0.0744, gen_loss=8.08, gp=0.0197]   \n"
     ]
    },
    {
     "name": "stdout",
     "output_type": "stream",
     "text": [
      "EPOCH: 16/50\n"
     ]
    },
    {
     "name": "stderr",
     "output_type": "stream",
     "text": [
      "100%|██████████| 813/813 [12:49<00:00,  1.06it/s, disc_loss=0.528, gen_loss=3.44, gp=0.004]     \n"
     ]
    },
    {
     "name": "stdout",
     "output_type": "stream",
     "text": [
      "EPOCH: 17/50\n"
     ]
    },
    {
     "name": "stderr",
     "output_type": "stream",
     "text": [
      "100%|██████████| 813/813 [12:49<00:00,  1.06it/s, disc_loss=-.744, gen_loss=-2.93, gp=0.0123]   \n"
     ]
    },
    {
     "name": "stdout",
     "output_type": "stream",
     "text": [
      "EPOCH: 18/50\n"
     ]
    },
    {
     "name": "stderr",
     "output_type": "stream",
     "text": [
      "100%|██████████| 813/813 [12:49<00:00,  1.06it/s, disc_loss=0.258, gen_loss=17.1, gp=0.0106]     \n"
     ]
    },
    {
     "name": "stdout",
     "output_type": "stream",
     "text": [
      "EPOCH: 19/50\n"
     ]
    },
    {
     "name": "stderr",
     "output_type": "stream",
     "text": [
      "100%|██████████| 813/813 [12:49<00:00,  1.06it/s, disc_loss=0.0194, gen_loss=1.09, gp=0.00796]  \n"
     ]
    },
    {
     "name": "stdout",
     "output_type": "stream",
     "text": [
      "EPOCH: 20/50\n"
     ]
    },
    {
     "name": "stderr",
     "output_type": "stream",
     "text": [
      "100%|██████████| 813/813 [12:49<00:00,  1.06it/s, disc_loss=-.518, gen_loss=-5.65, gp=0.0218]    \n"
     ]
    },
    {
     "name": "stdout",
     "output_type": "stream",
     "text": [
      "EPOCH: 21/50\n"
     ]
    },
    {
     "name": "stderr",
     "output_type": "stream",
     "text": [
      "100%|██████████| 813/813 [12:49<00:00,  1.06it/s, disc_loss=-.985, gen_loss=-2.41, gp=0.0111]   \n"
     ]
    },
    {
     "name": "stdout",
     "output_type": "stream",
     "text": [
      "EPOCH: 22/50\n"
     ]
    },
    {
     "name": "stderr",
     "output_type": "stream",
     "text": [
      "100%|██████████| 813/813 [12:49<00:00,  1.06it/s, disc_loss=-1.09, gen_loss=5.97, gp=0.0168]    \n"
     ]
    },
    {
     "name": "stdout",
     "output_type": "stream",
     "text": [
      "EPOCH: 23/50\n"
     ]
    },
    {
     "name": "stderr",
     "output_type": "stream",
     "text": [
      "100%|██████████| 813/813 [12:49<00:00,  1.06it/s, disc_loss=-.651, gen_loss=-1.48, gp=0.0111]    \n"
     ]
    },
    {
     "name": "stdout",
     "output_type": "stream",
     "text": [
      "EPOCH: 24/50\n"
     ]
    },
    {
     "name": "stderr",
     "output_type": "stream",
     "text": [
      "100%|██████████| 813/813 [12:49<00:00,  1.06it/s, disc_loss=-.494, gen_loss=-2.73, gp=0.00767]   \n"
     ]
    },
    {
     "name": "stdout",
     "output_type": "stream",
     "text": [
      "EPOCH: 25/50\n"
     ]
    },
    {
     "name": "stderr",
     "output_type": "stream",
     "text": [
      "100%|██████████| 813/813 [12:49<00:00,  1.06it/s, disc_loss=-.398, gen_loss=-3.18, gp=0.00475]  \n"
     ]
    },
    {
     "name": "stdout",
     "output_type": "stream",
     "text": [
      "EPOCH: 26/50\n"
     ]
    },
    {
     "name": "stderr",
     "output_type": "stream",
     "text": [
      "100%|██████████| 813/813 [12:49<00:00,  1.06it/s, disc_loss=-.83, gen_loss=1.01, gp=0.0138]     \n"
     ]
    },
    {
     "name": "stdout",
     "output_type": "stream",
     "text": [
      "EPOCH: 27/50\n"
     ]
    },
    {
     "name": "stderr",
     "output_type": "stream",
     "text": [
      "100%|██████████| 813/813 [12:49<00:00,  1.06it/s, disc_loss=-1.06, gen_loss=2.11, gp=0.00832]   \n"
     ]
    },
    {
     "name": "stdout",
     "output_type": "stream",
     "text": [
      "EPOCH: 28/50\n"
     ]
    },
    {
     "name": "stderr",
     "output_type": "stream",
     "text": [
      "100%|██████████| 813/813 [12:49<00:00,  1.06it/s, disc_loss=-.463, gen_loss=-4.74, gp=0.0106]   \n"
     ]
    },
    {
     "name": "stdout",
     "output_type": "stream",
     "text": [
      "EPOCH: 29/50\n"
     ]
    },
    {
     "name": "stderr",
     "output_type": "stream",
     "text": [
      "100%|██████████| 813/813 [12:49<00:00,  1.06it/s, disc_loss=-1.03, gen_loss=-6.35, gp=0.00321]  \n"
     ]
    },
    {
     "name": "stdout",
     "output_type": "stream",
     "text": [
      "EPOCH: 30/50\n"
     ]
    },
    {
     "name": "stderr",
     "output_type": "stream",
     "text": [
      "100%|██████████| 813/813 [12:49<00:00,  1.06it/s, disc_loss=-1.08, gen_loss=-2.14, gp=0.0307]    \n"
     ]
    },
    {
     "name": "stdout",
     "output_type": "stream",
     "text": [
      "EPOCH: 31/50\n"
     ]
    },
    {
     "name": "stderr",
     "output_type": "stream",
     "text": [
      "100%|██████████| 813/813 [12:49<00:00,  1.06it/s, disc_loss=-.679, gen_loss=-1.27, gp=0.0039]   \n"
     ]
    },
    {
     "name": "stdout",
     "output_type": "stream",
     "text": [
      "EPOCH: 32/50\n"
     ]
    },
    {
     "name": "stderr",
     "output_type": "stream",
     "text": [
      "100%|██████████| 813/813 [12:49<00:00,  1.06it/s, disc_loss=-.0826, gen_loss=5.52, gp=0.0033]   \n"
     ]
    },
    {
     "name": "stdout",
     "output_type": "stream",
     "text": [
      "EPOCH: 33/50\n"
     ]
    },
    {
     "name": "stderr",
     "output_type": "stream",
     "text": [
      "100%|██████████| 813/813 [12:49<00:00,  1.06it/s, disc_loss=-.917, gen_loss=3.33, gp=0.00743]   \n"
     ]
    },
    {
     "name": "stdout",
     "output_type": "stream",
     "text": [
      "EPOCH: 34/50\n"
     ]
    },
    {
     "name": "stderr",
     "output_type": "stream",
     "text": [
      "100%|██████████| 813/813 [12:49<00:00,  1.06it/s, disc_loss=0.342, gen_loss=0.279, gp=0.0146]    \n"
     ]
    },
    {
     "name": "stdout",
     "output_type": "stream",
     "text": [
      "EPOCH: 35/50\n"
     ]
    },
    {
     "name": "stderr",
     "output_type": "stream",
     "text": [
      "100%|██████████| 813/813 [12:49<00:00,  1.06it/s, disc_loss=-.241, gen_loss=-.256, gp=0.00505]   \n"
     ]
    },
    {
     "name": "stdout",
     "output_type": "stream",
     "text": [
      "EPOCH: 36/50\n"
     ]
    },
    {
     "name": "stderr",
     "output_type": "stream",
     "text": [
      "100%|██████████| 813/813 [12:49<00:00,  1.06it/s, disc_loss=-.201, gen_loss=-.00537, gp=0.00177]\n"
     ]
    },
    {
     "name": "stdout",
     "output_type": "stream",
     "text": [
      "EPOCH: 37/50\n"
     ]
    },
    {
     "name": "stderr",
     "output_type": "stream",
     "text": [
      "100%|██████████| 813/813 [12:49<00:00,  1.06it/s, disc_loss=0.36, gen_loss=1.91, gp=0.0171]     \n"
     ]
    },
    {
     "name": "stdout",
     "output_type": "stream",
     "text": [
      "EPOCH: 38/50\n"
     ]
    },
    {
     "name": "stderr",
     "output_type": "stream",
     "text": [
      "100%|██████████| 813/813 [12:49<00:00,  1.06it/s, disc_loss=-.908, gen_loss=-5.09, gp=0.00369]   \n"
     ]
    },
    {
     "name": "stdout",
     "output_type": "stream",
     "text": [
      "EPOCH: 39/50\n"
     ]
    },
    {
     "name": "stderr",
     "output_type": "stream",
     "text": [
      "100%|██████████| 813/813 [12:49<00:00,  1.06it/s, disc_loss=-.37, gen_loss=-.541, gp=0.00386]    \n"
     ]
    },
    {
     "name": "stdout",
     "output_type": "stream",
     "text": [
      "EPOCH: 40/50\n"
     ]
    },
    {
     "name": "stderr",
     "output_type": "stream",
     "text": [
      "100%|██████████| 813/813 [12:49<00:00,  1.06it/s, disc_loss=-.761, gen_loss=-.513, gp=0.00555]  \n"
     ]
    },
    {
     "name": "stdout",
     "output_type": "stream",
     "text": [
      "EPOCH: 41/50\n"
     ]
    },
    {
     "name": "stderr",
     "output_type": "stream",
     "text": [
      "100%|██████████| 813/813 [12:49<00:00,  1.06it/s, disc_loss=-.187, gen_loss=-2.25, gp=0.00313]   \n"
     ]
    },
    {
     "name": "stdout",
     "output_type": "stream",
     "text": [
      "EPOCH: 42/50\n"
     ]
    },
    {
     "name": "stderr",
     "output_type": "stream",
     "text": [
      "100%|██████████| 813/813 [12:49<00:00,  1.06it/s, disc_loss=0.612, gen_loss=7.61, gp=0.00447]   \n"
     ]
    },
    {
     "name": "stdout",
     "output_type": "stream",
     "text": [
      "EPOCH: 43/50\n"
     ]
    },
    {
     "name": "stderr",
     "output_type": "stream",
     "text": [
      "100%|██████████| 813/813 [12:49<00:00,  1.06it/s, disc_loss=-.679, gen_loss=0.696, gp=0.00326]  \n"
     ]
    },
    {
     "name": "stdout",
     "output_type": "stream",
     "text": [
      "EPOCH: 44/50\n"
     ]
    },
    {
     "name": "stderr",
     "output_type": "stream",
     "text": [
      "100%|██████████| 813/813 [12:49<00:00,  1.06it/s, disc_loss=0.0455, gen_loss=-4.57, gp=0.00467]  \n"
     ]
    },
    {
     "name": "stdout",
     "output_type": "stream",
     "text": [
      "EPOCH: 45/50\n"
     ]
    },
    {
     "name": "stderr",
     "output_type": "stream",
     "text": [
      "100%|██████████| 813/813 [12:49<00:00,  1.06it/s, disc_loss=-.114, gen_loss=-.383, gp=0.00405]  \n"
     ]
    },
    {
     "name": "stdout",
     "output_type": "stream",
     "text": [
      "EPOCH: 46/50\n"
     ]
    },
    {
     "name": "stderr",
     "output_type": "stream",
     "text": [
      "100%|██████████| 813/813 [12:49<00:00,  1.06it/s, disc_loss=0.0651, gen_loss=5.21, gp=0.0109]   \n"
     ]
    },
    {
     "name": "stdout",
     "output_type": "stream",
     "text": [
      "EPOCH: 47/50\n"
     ]
    },
    {
     "name": "stderr",
     "output_type": "stream",
     "text": [
      "100%|██████████| 813/813 [12:49<00:00,  1.06it/s, disc_loss=-.332, gen_loss=3.65, gp=0.0025]     \n"
     ]
    },
    {
     "name": "stdout",
     "output_type": "stream",
     "text": [
      "EPOCH: 48/50\n"
     ]
    },
    {
     "name": "stderr",
     "output_type": "stream",
     "text": [
      "100%|██████████| 813/813 [12:49<00:00,  1.06it/s, disc_loss=-.0739, gen_loss=-.588, gp=0.00218]  \n"
     ]
    },
    {
     "name": "stdout",
     "output_type": "stream",
     "text": [
      "EPOCH: 49/50\n"
     ]
    },
    {
     "name": "stderr",
     "output_type": "stream",
     "text": [
      "100%|██████████| 813/813 [12:49<00:00,  1.06it/s, disc_loss=0.252, gen_loss=0.49, gp=0.00247]   \n"
     ]
    },
    {
     "name": "stdout",
     "output_type": "stream",
     "text": [
      "EPOCH: 50/50\n"
     ]
    },
    {
     "name": "stderr",
     "output_type": "stream",
     "text": [
      "100%|██████████| 813/813 [12:49<00:00,  1.06it/s, disc_loss=-.13, gen_loss=7.34, gp=0.00626]    \n"
     ]
    }
   ],
   "source": [
    "DEVICE = torch.device(\"cuda\" if torch.cuda.is_available() else \"cpu\")\n",
    "\n",
    "args = {\n",
    "    \"Z_DIM\": 512,\n",
    "    \"W_DIM\": 512,\n",
    "    \"LAMBDA_GP\": 10,\n",
    "    \"EPOCHS\": [20, 20, 20, 50, 50, 75, 75, 100],\n",
    "    \"BATCH_SIZES\": [256, 256, 128, 64, 32, 16, 8, 4],\n",
    "    \"IMAGE_SIZES\": [4, 8, 16, 32, 64, 128, 256, 512],\n",
    "    \"STEP\": 3,\n",
    "}\n",
    "\n",
    "wandb.init(project=\"StyleGAN1\", entity=\"donghwankim\")\n",
    "\n",
    "wandb.run.name = f'ffhq/LAMBDA_GP:{args[\"LAMBDA_GP\"]}/z_dim:{args[\"Z_DIM\"]}/w_dim:{args[\"W_DIM\"]}/step:{args[\"STEP\"]}'\n",
    "wandb.save()\n",
    "\n",
    "wandb.config.update(args)\n",
    "\n",
    "train_step(\n",
    "    gen_state_dict=torch.load(f\"./gen_state_dict_step{args['STEP']-1}.pt\"),\n",
    "    disc_state_dict=torch.load(f\"./disc_state_dict_step{args['STEP']-1}.pt\"),\n",
    "    z_dim=args[\"Z_DIM\"],\n",
    "    w_dim=args[\"W_DIM\"],\n",
    "    step=args[\"STEP\"],\n",
    "    epochs=args[\"EPOCHS\"][args[\"STEP\"]],\n",
    "    lr=0.0008,\n",
    "    betas=(0.5, 0.99),\n",
    "    alpha=1e-7,\n",
    "    could_gp=True,\n",
    "    image_size=args[\"IMAGE_SIZES\"][args[\"STEP\"]],\n",
    "    dataset_root=\"/home/kdhsimplepro/kdhsimplepro/AI/ffhq/\",\n",
    "    batch_size=args[\"BATCH_SIZES\"][args[\"STEP\"]]\n",
    ")"
   ]
  },
  {
   "attachments": {},
   "cell_type": "markdown",
   "metadata": {},
   "source": [
    "### Step 4"
   ]
  },
  {
   "cell_type": "code",
   "execution_count": 3,
   "metadata": {},
   "outputs": [
    {
     "name": "stderr",
     "output_type": "stream",
     "text": [
      "Failed to detect the name of this notebook, you can set it manually with the WANDB_NOTEBOOK_NAME environment variable to enable code saving.\n",
      "\u001b[34m\u001b[1mwandb\u001b[0m: Currently logged in as: \u001b[33mdonghwankim\u001b[0m. Use \u001b[1m`wandb login --relogin`\u001b[0m to force relogin\n"
     ]
    },
    {
     "data": {
      "text/html": [
       "wandb version 0.13.9 is available!  To upgrade, please run:\n",
       " $ pip install wandb --upgrade"
      ],
      "text/plain": [
       "<IPython.core.display.HTML object>"
      ]
     },
     "metadata": {},
     "output_type": "display_data"
    },
    {
     "data": {
      "text/html": [
       "Tracking run with wandb version 0.13.7"
      ],
      "text/plain": [
       "<IPython.core.display.HTML object>"
      ]
     },
     "metadata": {},
     "output_type": "display_data"
    },
    {
     "data": {
      "text/html": [
       "Run data is saved locally in <code>/home/kdhsimplepro/kdhsimplepro/AI/StyleGAN1/wandb/run-20230128_183703-35ztc9q2</code>"
      ],
      "text/plain": [
       "<IPython.core.display.HTML object>"
      ]
     },
     "metadata": {},
     "output_type": "display_data"
    },
    {
     "data": {
      "text/html": [
       "Syncing run <strong><a href=\"https://wandb.ai/donghwankim/StyleGAN1/runs/35ztc9q2\" target=\"_blank\">virtuous-chrysanthemum-58</a></strong> to <a href=\"https://wandb.ai/donghwankim/StyleGAN1\" target=\"_blank\">Weights & Biases</a> (<a href=\"https://wandb.me/run\" target=\"_blank\">docs</a>)<br/>"
      ],
      "text/plain": [
       "<IPython.core.display.HTML object>"
      ]
     },
     "metadata": {},
     "output_type": "display_data"
    },
    {
     "name": "stderr",
     "output_type": "stream",
     "text": [
      "\u001b[34m\u001b[1mwandb\u001b[0m: \u001b[33mWARNING\u001b[0m Calling wandb.run.save without any arguments is deprecated.Changes to attributes are automatically persisted.\n"
     ]
    },
    {
     "name": "stdout",
     "output_type": "stream",
     "text": [
      "52001\n",
      "\n",
      "\n",
      "Image Size: 64x64\n",
      "\n",
      "EPOCH: 1/1\n"
     ]
    },
    {
     "name": "stderr",
     "output_type": "stream",
     "text": [
      "100%|██████████| 1626/1626 [25:06<00:00,  1.08it/s, disc_loss=nan, gen_loss=nan, gp=nan]        \n"
     ]
    }
   ],
   "source": [
    "DEVICE = torch.device(\"cuda\" if torch.cuda.is_available() else \"cpu\")\n",
    "\n",
    "args = {\n",
    "    \"Z_DIM\": 512,\n",
    "    \"W_DIM\": 512,\n",
    "    \"LAMBDA_GP\": 10,\n",
    "    \"EPOCHS\": [20, 20, 20, 50, 1, 75, 75, 100],\n",
    "    \"BATCH_SIZES\": [256, 256, 128, 64, 32, 16, 8, 4],\n",
    "    \"IMAGE_SIZES\": [4, 8, 16, 32, 64, 128, 256, 512],\n",
    "    \"STEP\": 4,\n",
    "}\n",
    "\n",
    "wandb.init(project=\"StyleGAN1\", entity=\"donghwankim\")\n",
    "\n",
    "wandb.run.name = f'ffhq/LAMBDA_GP:{args[\"LAMBDA_GP\"]}/z_dim:{args[\"Z_DIM\"]}/w_dim:{args[\"W_DIM\"]}/step:{args[\"STEP\"]}'\n",
    "wandb.save()\n",
    "\n",
    "wandb.config.update(args)\n",
    "\n",
    "train_step(\n",
    "    gen_state_dict=torch.load(f\"./gen_state_dict_step{args['STEP']-1}.pt\"),\n",
    "    disc_state_dict=torch.load(f\"./disc_state_dict_step{args['STEP']-1}.pt\"),\n",
    "    z_dim=args[\"Z_DIM\"],\n",
    "    w_dim=args[\"W_DIM\"],\n",
    "    step=args[\"STEP\"],\n",
    "    epochs=args[\"EPOCHS\"][args[\"STEP\"]],\n",
    "    lr=0.0001,\n",
    "    betas=(0.5, 0.99),\n",
    "    alpha=1e-8,\n",
    "    could_gp=True,\n",
    "    image_size=args[\"IMAGE_SIZES\"][args[\"STEP\"]],\n",
    "    dataset_root=\"/home/kdhsimplepro/kdhsimplepro/AI/ffhq/\",\n",
    "    batch_size=args[\"BATCH_SIZES\"][args[\"STEP\"]]\n",
    ")"
   ]
  },
  {
   "cell_type": "code",
   "execution_count": null,
   "metadata": {},
   "outputs": [],
   "source": []
  },
  {
   "cell_type": "code",
   "execution_count": 3,
   "metadata": {},
   "outputs": [
    {
     "name": "stderr",
     "output_type": "stream",
     "text": [
      "Failed to detect the name of this notebook, you can set it manually with the WANDB_NOTEBOOK_NAME environment variable to enable code saving.\n",
      "\u001b[34m\u001b[1mwandb\u001b[0m: Currently logged in as: \u001b[33mdonghwankim\u001b[0m. Use \u001b[1m`wandb login --relogin`\u001b[0m to force relogin\n"
     ]
    },
    {
     "data": {
      "text/html": [
       "wandb version 0.13.9 is available!  To upgrade, please run:\n",
       " $ pip install wandb --upgrade"
      ],
      "text/plain": [
       "<IPython.core.display.HTML object>"
      ]
     },
     "metadata": {},
     "output_type": "display_data"
    },
    {
     "data": {
      "text/html": [
       "Tracking run with wandb version 0.13.7"
      ],
      "text/plain": [
       "<IPython.core.display.HTML object>"
      ]
     },
     "metadata": {},
     "output_type": "display_data"
    },
    {
     "data": {
      "text/html": [
       "Run data is saved locally in <code>/home/kdhsimplepro/kdhsimplepro/AI/StyleGAN1/wandb/run-20230128_151907-339eeyzi</code>"
      ],
      "text/plain": [
       "<IPython.core.display.HTML object>"
      ]
     },
     "metadata": {},
     "output_type": "display_data"
    },
    {
     "data": {
      "text/html": [
       "Syncing run <strong><a href=\"https://wandb.ai/donghwankim/StyleGAN1/runs/339eeyzi\" target=\"_blank\">scintillating-dumpling-52</a></strong> to <a href=\"https://wandb.ai/donghwankim/StyleGAN1\" target=\"_blank\">Weights & Biases</a> (<a href=\"https://wandb.me/run\" target=\"_blank\">docs</a>)<br/>"
      ],
      "text/plain": [
       "<IPython.core.display.HTML object>"
      ]
     },
     "metadata": {},
     "output_type": "display_data"
    },
    {
     "name": "stderr",
     "output_type": "stream",
     "text": [
      "\u001b[34m\u001b[1mwandb\u001b[0m: \u001b[33mWARNING\u001b[0m Calling wandb.run.save without any arguments is deprecated.Changes to attributes are automatically persisted.\n"
     ]
    },
    {
     "name": "stdout",
     "output_type": "stream",
     "text": [
      "\n",
      "\n",
      "Image Size: 128x128\n",
      "\n",
      "EPOCH: 1/1\n"
     ]
    },
    {
     "name": "stderr",
     "output_type": "stream",
     "text": [
      "100%|█████████▉| 13000/13001 [1:09:19<00:00,  3.13it/s, disc_loss=2.26, gen_loss=-3.56, gp=0.00252]   \n"
     ]
    }
   ],
   "source": [
    "DEVICE = torch.device(\"cuda\" if torch.cuda.is_available() else \"cpu\")\n",
    "\n",
    "args = {\n",
    "    \"Z_DIM\": 512,\n",
    "    \"W_DIM\": 512,\n",
    "    \"LAMBDA_GP\": 10,\n",
    "    \"EPOCHS\": [20, 20, 20, 50, 50, 1, 75, 100],\n",
    "    \"BATCH_SIZES\": [256, 256, 128, 64, 32, 4, 8, 4],\n",
    "    \"IMAGE_SIZES\": [4, 8, 16, 32, 64, 128, 256, 512],\n",
    "    \"STEP\": 5,\n",
    "}\n",
    "\n",
    "wandb.init(project=\"StyleGAN1\", entity=\"donghwankim\")\n",
    "\n",
    "wandb.run.name = f'ffhq/LAMBDA_GP:{args[\"LAMBDA_GP\"]}/z_dim:{args[\"Z_DIM\"]}/w_dim:{args[\"W_DIM\"]}/step:{args[\"STEP\"]}'\n",
    "wandb.save()\n",
    "\n",
    "wandb.config.update(args)\n",
    "\n",
    "train_step(\n",
    "    gen_state_dict=torch.load(f\"./gen_state_dict_step{args['STEP']-1}.pt\"),\n",
    "    disc_state_dict=torch.load(f\"./disc_state_dict_step{args['STEP']-1}.pt\"),\n",
    "    z_dim=args[\"Z_DIM\"],\n",
    "    w_dim=args[\"W_DIM\"],\n",
    "    step=args[\"STEP\"],\n",
    "    epochs=args[\"EPOCHS\"][args[\"STEP\"]],\n",
    "    lr=0.0002,\n",
    "    betas=(0.5, 0.99),\n",
    "    alpha=1e-8,\n",
    "    could_gp=True,\n",
    "    image_size=args[\"IMAGE_SIZES\"][args[\"STEP\"]],\n",
    "    dataset_root=\"/home/kdhsimplepro/kdhsimplepro/AI/ffhq/\",\n",
    "    batch_size=args[\"BATCH_SIZES\"][args[\"STEP\"]]\n",
    ")"
   ]
  }
 ],
 "metadata": {
  "kernelspec": {
   "display_name": "Python 3",
   "language": "python",
   "name": "python3"
  },
  "language_info": {
   "codemirror_mode": {
    "name": "ipython",
    "version": 3
   },
   "file_extension": ".py",
   "mimetype": "text/x-python",
   "name": "python",
   "nbconvert_exporter": "python",
   "pygments_lexer": "ipython3",
   "version": "3.10.6"
  },
  "orig_nbformat": 4,
  "vscode": {
   "interpreter": {
    "hash": "916dbcbb3f70747c44a77c7bcd40155683ae19c65e1c03b4aa3499c5328201f1"
   }
  }
 },
 "nbformat": 4,
 "nbformat_minor": 2
}
