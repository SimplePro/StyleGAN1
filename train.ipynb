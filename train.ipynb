{
 "cells": [
  {
   "cell_type": "code",
   "execution_count": 1,
   "metadata": {},
   "outputs": [
    {
     "name": "stderr",
     "output_type": "stream",
     "text": [
      "/home/kdhsimplepro/.local/lib/python3.10/site-packages/tqdm/auto.py:22: TqdmWarning: IProgress not found. Please update jupyter and ipywidgets. See https://ipywidgets.readthedocs.io/en/stable/user_install.html\n",
      "  from .autonotebook import tqdm as notebook_tqdm\n"
     ]
    }
   ],
   "source": [
    "import torch\n",
    "\n",
    "import wandb\n",
    "\n",
    "from trainer import Trainer\n",
    "from models import Generator, Discriminator\n",
    "from utils import get_loader"
   ]
  },
  {
   "cell_type": "code",
   "execution_count": 2,
   "metadata": {},
   "outputs": [],
   "source": [
    "def train_step(\n",
    "    gen_state_dict=None,\n",
    "    disc_state_dict=None,\n",
    "    z_dim=512,\n",
    "    w_dim=512,\n",
    "    step=0,\n",
    "    epochs=50,\n",
    "    lr=0.0002,\n",
    "    betas=(0.5, 0.99),\n",
    "    alpha=1e-7,\n",
    "    could_gp=True,\n",
    "    image_size=4,\n",
    "    dataset_root=\"/home/kdhsimplepro/kdhsimplepro/AI/ffhq/\",\n",
    "    batch_size=4,\n",
    "):\n",
    "    trainer = Trainer(\n",
    "        gen_state_dict,\n",
    "        disc_state_dict,\n",
    "        z_dim,\n",
    "        w_dim,\n",
    "        lr=lr,\n",
    "        betas=betas,\n",
    "        alpha=alpha,\n",
    "        step=step,\n",
    "        could_gp=could_gp\n",
    "    )\n",
    "\n",
    "    loader, _ = get_loader(\n",
    "        image_size=image_size,\n",
    "        dataset_root=dataset_root,\n",
    "        batch_size=batch_size\n",
    "    )\n",
    "\n",
    "    trainer.run(epochs=epochs, loader=loader)\n",
    "\n",
    "    torch.save(trainer.gen.state_dict(), f\"./gen_state_dict_step{step}.pt\")\n",
    "    torch.save(trainer.disc.state_dict(), f\"./disc_state_dict_step{step}.pt\")"
   ]
  },
  {
   "attachments": {},
   "cell_type": "markdown",
   "metadata": {},
   "source": [
    "### Step 0"
   ]
  },
  {
   "cell_type": "code",
   "execution_count": 3,
   "metadata": {},
   "outputs": [
    {
     "name": "stderr",
     "output_type": "stream",
     "text": [
      "\u001b[34m\u001b[1mwandb\u001b[0m: Currently logged in as: \u001b[33mdonghwankim\u001b[0m. Use \u001b[1m`wandb login --relogin`\u001b[0m to force relogin\n"
     ]
    },
    {
     "data": {
      "text/html": [
       "wandb version 0.13.9 is available!  To upgrade, please run:\n",
       " $ pip install wandb --upgrade"
      ],
      "text/plain": [
       "<IPython.core.display.HTML object>"
      ]
     },
     "metadata": {},
     "output_type": "display_data"
    },
    {
     "data": {
      "text/html": [
       "Tracking run with wandb version 0.13.7"
      ],
      "text/plain": [
       "<IPython.core.display.HTML object>"
      ]
     },
     "metadata": {},
     "output_type": "display_data"
    },
    {
     "data": {
      "text/html": [
       "Run data is saved locally in <code>/home/kdhsimplepro/kdhsimplepro/AI/StyleGAN1/wandb/run-20230127_144948-1qk4wo2j</code>"
      ],
      "text/plain": [
       "<IPython.core.display.HTML object>"
      ]
     },
     "metadata": {},
     "output_type": "display_data"
    },
    {
     "data": {
      "text/html": [
       "Syncing run <strong><a href=\"https://wandb.ai/donghwankim/StyleGAN1/runs/1qk4wo2j\" target=\"_blank\">vibrant-rabbit-29</a></strong> to <a href=\"https://wandb.ai/donghwankim/StyleGAN1\" target=\"_blank\">Weights & Biases</a> (<a href=\"https://wandb.me/run\" target=\"_blank\">docs</a>)<br/>"
      ],
      "text/plain": [
       "<IPython.core.display.HTML object>"
      ]
     },
     "metadata": {},
     "output_type": "display_data"
    },
    {
     "name": "stderr",
     "output_type": "stream",
     "text": [
      "\u001b[34m\u001b[1mwandb\u001b[0m: \u001b[33mWARNING\u001b[0m Calling wandb.run.save without any arguments is deprecated.Changes to attributes are automatically persisted.\n"
     ]
    }
   ],
   "source": [
    "DEVICE = torch.device(\"cuda\" if torch.cuda.is_available() else \"cpu\")\n",
    "\n",
    "args = {\n",
    "    \"Z_DIM\": 512,\n",
    "    \"W_DIM\": 512,\n",
    "    \"LAMBDA_GP\": 10,\n",
    "    \"EPOCHS\": [20, 20, 20, 50, 50, 75, 75, 100],\n",
    "    \"BATCH_SIZES\": [256, 256, 128, 64, 32, 16, 8, 4],\n",
    "    \"IMAGE_SIZES\": [4, 8, 16, 32, 64, 128, 256, 512],\n",
    "    \"STEP\": 0,\n",
    "}\n",
    "\n",
    "wandb.init(project=\"StyleGAN1\", entity=\"donghwankim\")\n",
    "\n",
    "wandb.run.name = f'ffhq/LAMBDA_GP:{args[\"LAMBDA_GP\"]}/z_dim:{args[\"Z_DIM\"]}/w_dim:{args[\"W_DIM\"]}/step:{args[\"STEP\"]}'\n",
    "wandb.save()\n",
    "\n",
    "wandb.config.update(args)"
   ]
  },
  {
   "cell_type": "code",
   "execution_count": 4,
   "metadata": {},
   "outputs": [
    {
     "name": "stdout",
     "output_type": "stream",
     "text": [
      "\n",
      "\n",
      "Image Size: 4x4\n",
      "\n",
      "EPOCH: 1/20\n"
     ]
    },
    {
     "name": "stderr",
     "output_type": "stream",
     "text": [
      "100%|██████████| 204/204 [05:02<00:00,  1.48s/it, disc_loss=-8.01, gen_loss=10.6, gp=0.201]\n"
     ]
    },
    {
     "name": "stdout",
     "output_type": "stream",
     "text": [
      "EPOCH: 2/20\n"
     ]
    },
    {
     "name": "stderr",
     "output_type": "stream",
     "text": [
      "100%|██████████| 204/204 [05:01<00:00,  1.48s/it, disc_loss=-8.15, gen_loss=9.06, gp=0.174] \n"
     ]
    },
    {
     "name": "stdout",
     "output_type": "stream",
     "text": [
      "EPOCH: 3/20\n"
     ]
    },
    {
     "name": "stderr",
     "output_type": "stream",
     "text": [
      "100%|██████████| 204/204 [05:01<00:00,  1.48s/it, disc_loss=-4.46, gen_loss=3.92, gp=0.153] \n"
     ]
    },
    {
     "name": "stdout",
     "output_type": "stream",
     "text": [
      "EPOCH: 4/20\n"
     ]
    },
    {
     "name": "stderr",
     "output_type": "stream",
     "text": [
      "100%|██████████| 204/204 [05:01<00:00,  1.48s/it, disc_loss=-4.14, gen_loss=4.25, gp=0.0896]\n"
     ]
    },
    {
     "name": "stdout",
     "output_type": "stream",
     "text": [
      "EPOCH: 5/20\n"
     ]
    },
    {
     "name": "stderr",
     "output_type": "stream",
     "text": [
      "100%|██████████| 204/204 [05:01<00:00,  1.48s/it, disc_loss=-4.63, gen_loss=2.98, gp=0.0922] \n"
     ]
    },
    {
     "name": "stdout",
     "output_type": "stream",
     "text": [
      "EPOCH: 6/20\n"
     ]
    },
    {
     "name": "stderr",
     "output_type": "stream",
     "text": [
      "100%|██████████| 204/204 [05:01<00:00,  1.48s/it, disc_loss=-3.93, gen_loss=3.61, gp=0.056] \n"
     ]
    },
    {
     "name": "stdout",
     "output_type": "stream",
     "text": [
      "EPOCH: 7/20\n"
     ]
    },
    {
     "name": "stderr",
     "output_type": "stream",
     "text": [
      "100%|██████████| 204/204 [05:01<00:00,  1.48s/it, disc_loss=-3.79, gen_loss=2.77, gp=0.0523]\n"
     ]
    },
    {
     "name": "stdout",
     "output_type": "stream",
     "text": [
      "EPOCH: 8/20\n"
     ]
    },
    {
     "name": "stderr",
     "output_type": "stream",
     "text": [
      "100%|██████████| 204/204 [05:01<00:00,  1.48s/it, disc_loss=-2.76, gen_loss=3.31, gp=0.0418]\n"
     ]
    },
    {
     "name": "stdout",
     "output_type": "stream",
     "text": [
      "EPOCH: 9/20\n"
     ]
    },
    {
     "name": "stderr",
     "output_type": "stream",
     "text": [
      "100%|██████████| 204/204 [05:01<00:00,  1.48s/it, disc_loss=-2.86, gen_loss=3.01, gp=0.0272]\n"
     ]
    },
    {
     "name": "stdout",
     "output_type": "stream",
     "text": [
      "EPOCH: 10/20\n"
     ]
    },
    {
     "name": "stderr",
     "output_type": "stream",
     "text": [
      "100%|██████████| 204/204 [05:01<00:00,  1.48s/it, disc_loss=-2.53, gen_loss=3.99, gp=0.0282]\n"
     ]
    },
    {
     "name": "stdout",
     "output_type": "stream",
     "text": [
      "EPOCH: 11/20\n"
     ]
    },
    {
     "name": "stderr",
     "output_type": "stream",
     "text": [
      "100%|██████████| 204/204 [05:01<00:00,  1.48s/it, disc_loss=-1.31, gen_loss=1.67, gp=0.0263]\n"
     ]
    },
    {
     "name": "stdout",
     "output_type": "stream",
     "text": [
      "EPOCH: 12/20\n"
     ]
    },
    {
     "name": "stderr",
     "output_type": "stream",
     "text": [
      "100%|██████████| 204/204 [05:01<00:00,  1.48s/it, disc_loss=-1.42, gen_loss=1.98, gp=0.0186]\n"
     ]
    },
    {
     "name": "stdout",
     "output_type": "stream",
     "text": [
      "EPOCH: 13/20\n"
     ]
    },
    {
     "name": "stderr",
     "output_type": "stream",
     "text": [
      "100%|██████████| 204/204 [05:01<00:00,  1.48s/it, disc_loss=-1.21, gen_loss=2.14, gp=0.0186]\n"
     ]
    },
    {
     "name": "stdout",
     "output_type": "stream",
     "text": [
      "EPOCH: 14/20\n"
     ]
    },
    {
     "name": "stderr",
     "output_type": "stream",
     "text": [
      "100%|██████████| 204/204 [05:01<00:00,  1.48s/it, disc_loss=-.908, gen_loss=1.84, gp=0.0103]\n"
     ]
    },
    {
     "name": "stdout",
     "output_type": "stream",
     "text": [
      "EPOCH: 15/20\n"
     ]
    },
    {
     "name": "stderr",
     "output_type": "stream",
     "text": [
      "100%|██████████| 204/204 [05:02<00:00,  1.48s/it, disc_loss=-1.02, gen_loss=1.4, gp=0.0205]  \n"
     ]
    },
    {
     "name": "stdout",
     "output_type": "stream",
     "text": [
      "EPOCH: 16/20\n"
     ]
    },
    {
     "name": "stderr",
     "output_type": "stream",
     "text": [
      "100%|██████████| 204/204 [05:04<00:00,  1.49s/it, disc_loss=-.716, gen_loss=0.678, gp=0.0129]\n"
     ]
    },
    {
     "name": "stdout",
     "output_type": "stream",
     "text": [
      "EPOCH: 17/20\n"
     ]
    },
    {
     "name": "stderr",
     "output_type": "stream",
     "text": [
      "100%|██████████| 204/204 [05:02<00:00,  1.48s/it, disc_loss=-.596, gen_loss=0.726, gp=0.0294]\n"
     ]
    },
    {
     "name": "stdout",
     "output_type": "stream",
     "text": [
      "EPOCH: 18/20\n"
     ]
    },
    {
     "name": "stderr",
     "output_type": "stream",
     "text": [
      "100%|██████████| 204/204 [05:02<00:00,  1.48s/it, disc_loss=-.352, gen_loss=0.566, gp=0.00843]\n"
     ]
    },
    {
     "name": "stdout",
     "output_type": "stream",
     "text": [
      "EPOCH: 19/20\n"
     ]
    },
    {
     "name": "stderr",
     "output_type": "stream",
     "text": [
      "100%|██████████| 204/204 [05:02<00:00,  1.48s/it, disc_loss=-.586, gen_loss=0.521, gp=0.0125] \n"
     ]
    },
    {
     "name": "stdout",
     "output_type": "stream",
     "text": [
      "EPOCH: 20/20\n"
     ]
    },
    {
     "name": "stderr",
     "output_type": "stream",
     "text": [
      "100%|██████████| 204/204 [05:03<00:00,  1.49s/it, disc_loss=-.449, gen_loss=0.492, gp=0.00684]\n"
     ]
    }
   ],
   "source": [
    "train_step(\n",
    "    gen_state_dict=None,\n",
    "    disc_state_dict=None,\n",
    "    z_dim=args[\"Z_DIM\"],\n",
    "    w_dim=args[\"W_DIM\"],\n",
    "    step=args[\"STEP\"],\n",
    "    epochs=args[\"EPOCHS\"][args[\"STEP\"]],\n",
    "    lr=0.0008,\n",
    "    betas=(0.5, 0.99),\n",
    "    alpha=1e-7,\n",
    "    could_gp=True,\n",
    "    image_size=args[\"IMAGE_SIZES\"][args[\"STEP\"]],\n",
    "    dataset_root=\"/home/kdhsimplepro/kdhsimplepro/AI/ffhq/\",\n",
    "    batch_size=args[\"BATCH_SIZES\"][args[\"STEP\"]]\n",
    ")"
   ]
  }
 ],
 "metadata": {
  "kernelspec": {
   "display_name": "Python 3",
   "language": "python",
   "name": "python3"
  },
  "language_info": {
   "codemirror_mode": {
    "name": "ipython",
    "version": 3
   },
   "file_extension": ".py",
   "mimetype": "text/x-python",
   "name": "python",
   "nbconvert_exporter": "python",
   "pygments_lexer": "ipython3",
   "version": "3.10.6"
  },
  "orig_nbformat": 4,
  "vscode": {
   "interpreter": {
    "hash": "916dbcbb3f70747c44a77c7bcd40155683ae19c65e1c03b4aa3499c5328201f1"
   }
  }
 },
 "nbformat": 4,
 "nbformat_minor": 2
}
