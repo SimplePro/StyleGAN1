{
 "cells": [
  {
   "cell_type": "code",
   "execution_count": 1,
   "metadata": {},
   "outputs": [
    {
     "name": "stderr",
     "output_type": "stream",
     "text": [
      "/home/kdhsimplepro/.local/lib/python3.10/site-packages/tqdm/auto.py:22: TqdmWarning: IProgress not found. Please update jupyter and ipywidgets. See https://ipywidgets.readthedocs.io/en/stable/user_install.html\n",
      "  from .autonotebook import tqdm as notebook_tqdm\n"
     ]
    }
   ],
   "source": [
    "import torch\n",
    "\n",
    "import wandb\n",
    "\n",
    "from trainer import Trainer\n",
    "from models import Generator, Discriminator\n",
    "from utils import get_loader\n",
    "\n",
    "\n",
    "DEVICE = torch.device(\"cuda\" if torch.cuda.is_available() else \"cpu\")\n",
    "\n",
    "args = {\n",
    "    \"Z_DIM\": 512,\n",
    "    \"W_DIM\": 512,\n",
    "    \"LAMBDA_GP\": 10,\n",
    "    \"EPOCHS\": [40] * 8,\n",
    "    \"BATCH_SIZES\": [256, 256, 128, 64, 32, 16, 8, 4],\n",
    "    \"IMAGE_SIZES\": [4, 8, 16, 32, 64, 128, 256, 512],\n",
    "}"
   ]
  },
  {
   "cell_type": "code",
   "execution_count": 2,
   "metadata": {},
   "outputs": [
    {
     "name": "stderr",
     "output_type": "stream",
     "text": [
      "\u001b[34m\u001b[1mwandb\u001b[0m: W&B API key is configured. Use \u001b[1m`wandb login --relogin`\u001b[0m to force relogin\n"
     ]
    },
    {
     "data": {
      "text/html": [
       "wandb version 0.13.9 is available!  To upgrade, please run:\n",
       " $ pip install wandb --upgrade"
      ],
      "text/plain": [
       "<IPython.core.display.HTML object>"
      ]
     },
     "metadata": {},
     "output_type": "display_data"
    },
    {
     "data": {
      "text/html": [
       "Tracking run with wandb version 0.13.7"
      ],
      "text/plain": [
       "<IPython.core.display.HTML object>"
      ]
     },
     "metadata": {},
     "output_type": "display_data"
    },
    {
     "data": {
      "text/html": [
       "Run data is saved locally in <code>/home/kdhsimplepro/kdhsimplepro/AI/StyleGAN1/wandb/run-20230126_155438-3tcg54rp</code>"
      ],
      "text/plain": [
       "<IPython.core.display.HTML object>"
      ]
     },
     "metadata": {},
     "output_type": "display_data"
    },
    {
     "data": {
      "text/html": [
       "Syncing run <strong><a href=\"https://wandb.ai/donghwankim/StyleGAN1/runs/3tcg54rp\" target=\"_blank\">festive-bao-22</a></strong> to <a href=\"https://wandb.ai/donghwankim/StyleGAN1\" target=\"_blank\">Weights & Biases</a> (<a href=\"https://wandb.me/run\" target=\"_blank\">docs</a>)<br/>"
      ],
      "text/plain": [
       "<IPython.core.display.HTML object>"
      ]
     },
     "metadata": {},
     "output_type": "display_data"
    },
    {
     "name": "stderr",
     "output_type": "stream",
     "text": [
      "\u001b[34m\u001b[1mwandb\u001b[0m: \u001b[33mWARNING\u001b[0m Calling wandb.run.save without any arguments is deprecated.Changes to attributes are automatically persisted.\n"
     ]
    }
   ],
   "source": [
    "wandb.init(project=\"StyleGAN1\", entity=\"donghwankim\")\n",
    "\n",
    "wandb.run.name = f'ffhq/lambda_gp:{args[\"LAMBDA_GP\"]}/z_dim:{args[\"Z_DIM\"]}/w_dim:{args[\"W_DIM\"]}'\n",
    "wandb.save()\n",
    "\n",
    "wandb.config.update(args)"
   ]
  },
  {
   "cell_type": "code",
   "execution_count": 3,
   "metadata": {},
   "outputs": [
    {
     "name": "stdout",
     "output_type": "stream",
     "text": [
      "26179256\n",
      "25430785\n"
     ]
    }
   ],
   "source": [
    "gen = Generator(args[\"Z_DIM\"], args[\"W_DIM\"], const_channels=512)\n",
    "disc = Discriminator()\n",
    "\n",
    "print(sum([p.numel() for p in gen.parameters()]))\n",
    "print(sum([p.numel() for p in disc.parameters()]))"
   ]
  },
  {
   "cell_type": "code",
   "execution_count": 4,
   "metadata": {},
   "outputs": [
    {
     "name": "stdout",
     "output_type": "stream",
     "text": [
      "\n",
      "\n",
      "Image Size: 4x4\n",
      "\n",
      "EPOCH: 1/40\n"
     ]
    },
    {
     "name": "stderr",
     "output_type": "stream",
     "text": [
      "100%|██████████| 204/204 [05:01<00:00,  1.48s/it, disc_loss=-13.4, gen_loss=20.1, gp=0.41] \n"
     ]
    },
    {
     "name": "stdout",
     "output_type": "stream",
     "text": [
      "EPOCH: 2/40\n"
     ]
    },
    {
     "name": "stderr",
     "output_type": "stream",
     "text": [
      "100%|██████████| 204/204 [05:02<00:00,  1.48s/it, disc_loss=-12.4, gen_loss=16.9, gp=0.299]\n"
     ]
    },
    {
     "name": "stdout",
     "output_type": "stream",
     "text": [
      "EPOCH: 3/40\n"
     ]
    },
    {
     "name": "stderr",
     "output_type": "stream",
     "text": [
      "100%|██████████| 204/204 [05:02<00:00,  1.48s/it, disc_loss=-11.1, gen_loss=16.9, gp=0.291]\n"
     ]
    },
    {
     "name": "stdout",
     "output_type": "stream",
     "text": [
      "EPOCH: 4/40\n"
     ]
    },
    {
     "name": "stderr",
     "output_type": "stream",
     "text": [
      "100%|██████████| 204/204 [05:01<00:00,  1.48s/it, disc_loss=-9.85, gen_loss=11.3, gp=0.211]\n"
     ]
    },
    {
     "name": "stdout",
     "output_type": "stream",
     "text": [
      "EPOCH: 5/40\n"
     ]
    },
    {
     "name": "stderr",
     "output_type": "stream",
     "text": [
      "100%|██████████| 204/204 [05:01<00:00,  1.48s/it, disc_loss=-7.84, gen_loss=9.39, gp=0.165]\n"
     ]
    },
    {
     "name": "stdout",
     "output_type": "stream",
     "text": [
      "EPOCH: 6/40\n"
     ]
    },
    {
     "name": "stderr",
     "output_type": "stream",
     "text": [
      "100%|██████████| 204/204 [05:02<00:00,  1.48s/it, disc_loss=-6.42, gen_loss=7.08, gp=0.218]\n"
     ]
    },
    {
     "name": "stdout",
     "output_type": "stream",
     "text": [
      "EPOCH: 7/40\n"
     ]
    },
    {
     "name": "stderr",
     "output_type": "stream",
     "text": [
      "100%|██████████| 204/204 [05:03<00:00,  1.49s/it, disc_loss=-7.67, gen_loss=8.76, gp=0.15] \n"
     ]
    },
    {
     "name": "stdout",
     "output_type": "stream",
     "text": [
      "EPOCH: 8/40\n"
     ]
    },
    {
     "name": "stderr",
     "output_type": "stream",
     "text": [
      "100%|██████████| 204/204 [05:01<00:00,  1.48s/it, disc_loss=-7.72, gen_loss=8.83, gp=0.109]\n"
     ]
    },
    {
     "name": "stdout",
     "output_type": "stream",
     "text": [
      "EPOCH: 9/40\n"
     ]
    },
    {
     "name": "stderr",
     "output_type": "stream",
     "text": [
      "100%|██████████| 204/204 [05:01<00:00,  1.48s/it, disc_loss=-7.1, gen_loss=6.95, gp=0.133]  \n"
     ]
    },
    {
     "name": "stdout",
     "output_type": "stream",
     "text": [
      "EPOCH: 10/40\n"
     ]
    },
    {
     "name": "stderr",
     "output_type": "stream",
     "text": [
      "100%|██████████| 204/204 [05:01<00:00,  1.48s/it, disc_loss=-6.73, gen_loss=6.58, gp=0.152] \n"
     ]
    },
    {
     "name": "stdout",
     "output_type": "stream",
     "text": [
      "EPOCH: 11/40\n"
     ]
    },
    {
     "name": "stderr",
     "output_type": "stream",
     "text": [
      "100%|██████████| 204/204 [05:00<00:00,  1.47s/it, disc_loss=-5.79, gen_loss=5.87, gp=0.123] \n"
     ]
    },
    {
     "name": "stdout",
     "output_type": "stream",
     "text": [
      "EPOCH: 12/40\n"
     ]
    },
    {
     "name": "stderr",
     "output_type": "stream",
     "text": [
      "100%|██████████| 204/204 [04:59<00:00,  1.47s/it, disc_loss=-4.98, gen_loss=5.5, gp=0.105]  \n"
     ]
    },
    {
     "name": "stdout",
     "output_type": "stream",
     "text": [
      "EPOCH: 13/40\n"
     ]
    },
    {
     "name": "stderr",
     "output_type": "stream",
     "text": [
      "100%|██████████| 204/204 [04:59<00:00,  1.47s/it, disc_loss=-5.66, gen_loss=7.01, gp=0.0777]\n"
     ]
    },
    {
     "name": "stdout",
     "output_type": "stream",
     "text": [
      "EPOCH: 14/40\n"
     ]
    },
    {
     "name": "stderr",
     "output_type": "stream",
     "text": [
      "100%|██████████| 204/204 [05:01<00:00,  1.48s/it, disc_loss=-3.64, gen_loss=3.94, gp=0.0741]\n"
     ]
    },
    {
     "name": "stdout",
     "output_type": "stream",
     "text": [
      "EPOCH: 15/40\n"
     ]
    },
    {
     "name": "stderr",
     "output_type": "stream",
     "text": [
      "100%|██████████| 204/204 [05:01<00:00,  1.48s/it, disc_loss=-5.35, gen_loss=8, gp=0.0879]   \n"
     ]
    },
    {
     "name": "stdout",
     "output_type": "stream",
     "text": [
      "EPOCH: 16/40\n"
     ]
    },
    {
     "name": "stderr",
     "output_type": "stream",
     "text": [
      "100%|██████████| 204/204 [05:01<00:00,  1.48s/it, disc_loss=-4.68, gen_loss=5.73, gp=0.0773]\n"
     ]
    },
    {
     "name": "stdout",
     "output_type": "stream",
     "text": [
      "EPOCH: 17/40\n"
     ]
    },
    {
     "name": "stderr",
     "output_type": "stream",
     "text": [
      "100%|██████████| 204/204 [05:00<00:00,  1.47s/it, disc_loss=-4.34, gen_loss=5.99, gp=0.0603]\n"
     ]
    },
    {
     "name": "stdout",
     "output_type": "stream",
     "text": [
      "EPOCH: 18/40\n"
     ]
    },
    {
     "name": "stderr",
     "output_type": "stream",
     "text": [
      "100%|██████████| 204/204 [05:00<00:00,  1.48s/it, disc_loss=-4.18, gen_loss=7.03, gp=0.0357]\n"
     ]
    },
    {
     "name": "stdout",
     "output_type": "stream",
     "text": [
      "EPOCH: 19/40\n"
     ]
    },
    {
     "name": "stderr",
     "output_type": "stream",
     "text": [
      "100%|██████████| 204/204 [05:00<00:00,  1.47s/it, disc_loss=-2.64, gen_loss=2.82, gp=0.0628]\n"
     ]
    },
    {
     "name": "stdout",
     "output_type": "stream",
     "text": [
      "EPOCH: 20/40\n"
     ]
    },
    {
     "name": "stderr",
     "output_type": "stream",
     "text": [
      "100%|██████████| 204/204 [05:00<00:00,  1.47s/it, disc_loss=-2.63, gen_loss=3.66, gp=0.0344]\n"
     ]
    },
    {
     "name": "stdout",
     "output_type": "stream",
     "text": [
      "EPOCH: 21/40\n"
     ]
    },
    {
     "name": "stderr",
     "output_type": "stream",
     "text": [
      "100%|██████████| 204/204 [04:59<00:00,  1.47s/it, disc_loss=-2.25, gen_loss=3.7, gp=0.0251] \n"
     ]
    },
    {
     "name": "stdout",
     "output_type": "stream",
     "text": [
      "EPOCH: 22/40\n"
     ]
    },
    {
     "name": "stderr",
     "output_type": "stream",
     "text": [
      " 46%|████▌     | 94/204 [02:18<02:42,  1.48s/it, disc_loss=-2.71, gen_loss=4.56, gp=0.0334]"
     ]
    }
   ],
   "source": [
    "trainer = Trainer(gen, disc, lr=4e-4)\n",
    "\n",
    "for step in range(len(args[\"BATCH_SIZES\"])):\n",
    "    loader, _ = get_loader(\n",
    "        args[\"IMAGE_SIZES\"][step],\n",
    "        dataset_root=\"/home/kdhsimplepro/kdhsimplepro/AI/ffhq/\",\n",
    "        batch_size=args[\"BATCH_SIZES\"][step]\n",
    "    )\n",
    "    trainer.run(step=step, epochs=args[\"EPOCHS\"][step], loader=loader)"
   ]
  }
 ],
 "metadata": {
  "kernelspec": {
   "display_name": "Python 3",
   "language": "python",
   "name": "python3"
  },
  "language_info": {
   "codemirror_mode": {
    "name": "ipython",
    "version": 3
   },
   "file_extension": ".py",
   "mimetype": "text/x-python",
   "name": "python",
   "nbconvert_exporter": "python",
   "pygments_lexer": "ipython3",
   "version": "3.10.6"
  },
  "orig_nbformat": 4,
  "vscode": {
   "interpreter": {
    "hash": "916dbcbb3f70747c44a77c7bcd40155683ae19c65e1c03b4aa3499c5328201f1"
   }
  }
 },
 "nbformat": 4,
 "nbformat_minor": 2
}
