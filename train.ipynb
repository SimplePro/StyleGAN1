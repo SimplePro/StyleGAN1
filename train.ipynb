{
 "cells": [
  {
   "cell_type": "code",
   "execution_count": 1,
   "metadata": {},
   "outputs": [
    {
     "name": "stderr",
     "output_type": "stream",
     "text": [
      "/home/kdhsimplepro/.local/lib/python3.10/site-packages/tqdm/auto.py:22: TqdmWarning: IProgress not found. Please update jupyter and ipywidgets. See https://ipywidgets.readthedocs.io/en/stable/user_install.html\n",
      "  from .autonotebook import tqdm as notebook_tqdm\n"
     ]
    }
   ],
   "source": [
    "import torch\n",
    "\n",
    "import wandb\n",
    "\n",
    "from trainer import Trainer\n",
    "from models import Generator, Discriminator\n",
    "from utils import get_loader"
   ]
  },
  {
   "cell_type": "code",
   "execution_count": 2,
   "metadata": {},
   "outputs": [],
   "source": [
    "def train_step(\n",
    "    gen_state_dict=None,\n",
    "    disc_state_dict=None,\n",
    "    z_dim=512,\n",
    "    w_dim=512,\n",
    "    step=0,\n",
    "    epochs=50,\n",
    "    lr=0.0002,\n",
    "    betas=(0.5, 0.99),\n",
    "    alpha=1e-7,\n",
    "    could_gp=True,\n",
    "    image_size=4,\n",
    "    dataset_root=\"/home/kdhsimplepro/kdhsimplepro/AI/ffhq/\",\n",
    "    batch_size=4,\n",
    "):\n",
    "    trainer = Trainer(\n",
    "        gen_state_dict,\n",
    "        disc_state_dict,\n",
    "        z_dim,\n",
    "        w_dim,\n",
    "        lr=lr,\n",
    "        betas=betas,\n",
    "        alpha=alpha,\n",
    "        step=step,\n",
    "        could_gp=could_gp\n",
    "    )\n",
    "\n",
    "    loader, _ = get_loader(\n",
    "        image_size=image_size,\n",
    "        dataset_root=dataset_root,\n",
    "        batch_size=batch_size\n",
    "    )\n",
    "\n",
    "    trainer.run(epochs=epochs, loader=loader)\n",
    "\n",
    "    torch.save(trainer.gen.state_dict(), f\"./state_dict/step{step}/gen_state_dict.pt\")\n",
    "    torch.save(trainer.disc.state_dict(), f\"./state_dict/step{step}/disc_state_dict.pt\")"
   ]
  },
  {
   "cell_type": "code",
   "execution_count": 3,
   "metadata": {},
   "outputs": [
    {
     "data": {
      "application/javascript": "IPython.notebook.set_autosave_interval(60000)"
     },
     "metadata": {},
     "output_type": "display_data"
    },
    {
     "name": "stdout",
     "output_type": "stream",
     "text": [
      "Autosaving every 60 seconds\n"
     ]
    }
   ],
   "source": [
    "%autosave 60"
   ]
  },
  {
   "attachments": {},
   "cell_type": "markdown",
   "metadata": {},
   "source": [
    "### Step 0"
   ]
  },
  {
   "cell_type": "code",
   "execution_count": 3,
   "metadata": {},
   "outputs": [
    {
     "name": "stderr",
     "output_type": "stream",
     "text": [
      "Failed to detect the name of this notebook, you can set it manually with the WANDB_NOTEBOOK_NAME environment variable to enable code saving.\n",
      "\u001b[34m\u001b[1mwandb\u001b[0m: Currently logged in as: \u001b[33mdonghwankim\u001b[0m. Use \u001b[1m`wandb login --relogin`\u001b[0m to force relogin\n"
     ]
    },
    {
     "data": {
      "text/html": [
       "wandb version 0.13.9 is available!  To upgrade, please run:\n",
       " $ pip install wandb --upgrade"
      ],
      "text/plain": [
       "<IPython.core.display.HTML object>"
      ]
     },
     "metadata": {},
     "output_type": "display_data"
    },
    {
     "data": {
      "text/html": [
       "Tracking run with wandb version 0.13.7"
      ],
      "text/plain": [
       "<IPython.core.display.HTML object>"
      ]
     },
     "metadata": {},
     "output_type": "display_data"
    },
    {
     "data": {
      "text/html": [
       "Run data is saved locally in <code>/home/kdhsimplepro/kdhsimplepro/AI/StyleGAN1/wandb/run-20230128_194224-uujxawrj</code>"
      ],
      "text/plain": [
       "<IPython.core.display.HTML object>"
      ]
     },
     "metadata": {},
     "output_type": "display_data"
    },
    {
     "data": {
      "text/html": [
       "Syncing run <strong><a href=\"https://wandb.ai/donghwankim/StyleGAN1/runs/uujxawrj\" target=\"_blank\">auspicious-springroll-61</a></strong> to <a href=\"https://wandb.ai/donghwankim/StyleGAN1\" target=\"_blank\">Weights & Biases</a> (<a href=\"https://wandb.me/run\" target=\"_blank\">docs</a>)<br/>"
      ],
      "text/plain": [
       "<IPython.core.display.HTML object>"
      ]
     },
     "metadata": {},
     "output_type": "display_data"
    },
    {
     "name": "stderr",
     "output_type": "stream",
     "text": [
      "\u001b[34m\u001b[1mwandb\u001b[0m: \u001b[33mWARNING\u001b[0m Calling wandb.run.save without any arguments is deprecated.Changes to attributes are automatically persisted.\n"
     ]
    },
    {
     "name": "stdout",
     "output_type": "stream",
     "text": [
      "\n",
      "\n",
      "Image Size: 4x4\n",
      "\n",
      "EPOCH: 1/20\n"
     ]
    },
    {
     "name": "stderr",
     "output_type": "stream",
     "text": [
      "100%|██████████| 204/204 [05:01<00:00,  1.48s/it, disc_loss=-9.69, gen_loss=14.7, gp=0.345]\n"
     ]
    },
    {
     "name": "stdout",
     "output_type": "stream",
     "text": [
      "EPOCH: 2/20\n"
     ]
    },
    {
     "name": "stderr",
     "output_type": "stream",
     "text": [
      "100%|██████████| 204/204 [05:00<00:00,  1.47s/it, disc_loss=-5.5, gen_loss=7.12, gp=0.313] \n"
     ]
    },
    {
     "name": "stdout",
     "output_type": "stream",
     "text": [
      "EPOCH: 3/20\n"
     ]
    },
    {
     "name": "stderr",
     "output_type": "stream",
     "text": [
      "100%|██████████| 204/204 [05:00<00:00,  1.47s/it, disc_loss=-4.03, gen_loss=2.28, gp=0.16]  \n"
     ]
    },
    {
     "name": "stdout",
     "output_type": "stream",
     "text": [
      "EPOCH: 4/20\n"
     ]
    },
    {
     "name": "stderr",
     "output_type": "stream",
     "text": [
      "100%|██████████| 204/204 [05:00<00:00,  1.47s/it, disc_loss=-6.14, gen_loss=6.01, gp=0.103] \n"
     ]
    },
    {
     "name": "stdout",
     "output_type": "stream",
     "text": [
      "EPOCH: 5/20\n"
     ]
    },
    {
     "name": "stderr",
     "output_type": "stream",
     "text": [
      "100%|██████████| 204/204 [05:00<00:00,  1.47s/it, disc_loss=-4.78, gen_loss=2.46, gp=0.0366]\n"
     ]
    },
    {
     "name": "stdout",
     "output_type": "stream",
     "text": [
      "EPOCH: 6/20\n"
     ]
    },
    {
     "name": "stderr",
     "output_type": "stream",
     "text": [
      "100%|██████████| 204/204 [05:00<00:00,  1.47s/it, disc_loss=-3.43, gen_loss=3.9, gp=0.0898] \n"
     ]
    },
    {
     "name": "stdout",
     "output_type": "stream",
     "text": [
      "EPOCH: 7/20\n"
     ]
    },
    {
     "name": "stderr",
     "output_type": "stream",
     "text": [
      "100%|██████████| 204/204 [05:00<00:00,  1.47s/it, disc_loss=-3.11, gen_loss=3.47, gp=0.0362]\n"
     ]
    },
    {
     "name": "stdout",
     "output_type": "stream",
     "text": [
      "EPOCH: 8/20\n"
     ]
    },
    {
     "name": "stderr",
     "output_type": "stream",
     "text": [
      "100%|██████████| 204/204 [05:00<00:00,  1.47s/it, disc_loss=-3.39, gen_loss=4.63, gp=0.0322]\n"
     ]
    },
    {
     "name": "stdout",
     "output_type": "stream",
     "text": [
      "EPOCH: 9/20\n"
     ]
    },
    {
     "name": "stderr",
     "output_type": "stream",
     "text": [
      "100%|██████████| 204/204 [05:00<00:00,  1.47s/it, disc_loss=-2.39, gen_loss=3.18, gp=0.0437]\n"
     ]
    },
    {
     "name": "stdout",
     "output_type": "stream",
     "text": [
      "EPOCH: 10/20\n"
     ]
    },
    {
     "name": "stderr",
     "output_type": "stream",
     "text": [
      "100%|██████████| 204/204 [05:00<00:00,  1.47s/it, disc_loss=-2.46, gen_loss=3.42, gp=0.0254]\n"
     ]
    },
    {
     "name": "stdout",
     "output_type": "stream",
     "text": [
      "EPOCH: 11/20\n"
     ]
    },
    {
     "name": "stderr",
     "output_type": "stream",
     "text": [
      "100%|██████████| 204/204 [05:00<00:00,  1.47s/it, disc_loss=-1.42, gen_loss=2.46, gp=0.0331]\n"
     ]
    },
    {
     "name": "stdout",
     "output_type": "stream",
     "text": [
      "EPOCH: 12/20\n"
     ]
    },
    {
     "name": "stderr",
     "output_type": "stream",
     "text": [
      "100%|██████████| 204/204 [05:00<00:00,  1.47s/it, disc_loss=-1.07, gen_loss=1.6, gp=0.0246]  \n"
     ]
    },
    {
     "name": "stdout",
     "output_type": "stream",
     "text": [
      "EPOCH: 13/20\n"
     ]
    },
    {
     "name": "stderr",
     "output_type": "stream",
     "text": [
      "100%|██████████| 204/204 [05:00<00:00,  1.47s/it, disc_loss=-1.11, gen_loss=1.26, gp=0.0162]   \n"
     ]
    },
    {
     "name": "stdout",
     "output_type": "stream",
     "text": [
      "EPOCH: 14/20\n"
     ]
    },
    {
     "name": "stderr",
     "output_type": "stream",
     "text": [
      "100%|██████████| 204/204 [05:00<00:00,  1.47s/it, disc_loss=-.827, gen_loss=1.17, gp=0.00621]\n"
     ]
    },
    {
     "name": "stdout",
     "output_type": "stream",
     "text": [
      "EPOCH: 15/20\n"
     ]
    },
    {
     "name": "stderr",
     "output_type": "stream",
     "text": [
      "100%|██████████| 204/204 [05:00<00:00,  1.47s/it, disc_loss=-.86, gen_loss=1.11, gp=0.00481]  \n"
     ]
    },
    {
     "name": "stdout",
     "output_type": "stream",
     "text": [
      "EPOCH: 16/20\n"
     ]
    },
    {
     "name": "stderr",
     "output_type": "stream",
     "text": [
      "100%|██████████| 204/204 [05:00<00:00,  1.47s/it, disc_loss=-.223, gen_loss=0.291, gp=0.019]  \n"
     ]
    },
    {
     "name": "stdout",
     "output_type": "stream",
     "text": [
      "EPOCH: 17/20\n"
     ]
    },
    {
     "name": "stderr",
     "output_type": "stream",
     "text": [
      "100%|██████████| 204/204 [05:00<00:00,  1.47s/it, disc_loss=-.352, gen_loss=0.465, gp=0.0133]  \n"
     ]
    },
    {
     "name": "stdout",
     "output_type": "stream",
     "text": [
      "EPOCH: 18/20\n"
     ]
    },
    {
     "name": "stderr",
     "output_type": "stream",
     "text": [
      "100%|██████████| 204/204 [05:00<00:00,  1.47s/it, disc_loss=-.2, gen_loss=0.273, gp=0.0232]    \n"
     ]
    },
    {
     "name": "stdout",
     "output_type": "stream",
     "text": [
      "EPOCH: 19/20\n"
     ]
    },
    {
     "name": "stderr",
     "output_type": "stream",
     "text": [
      "100%|██████████| 204/204 [05:00<00:00,  1.47s/it, disc_loss=-.237, gen_loss=0.239, gp=0.00494] \n"
     ]
    },
    {
     "name": "stdout",
     "output_type": "stream",
     "text": [
      "EPOCH: 20/20\n"
     ]
    },
    {
     "name": "stderr",
     "output_type": "stream",
     "text": [
      "100%|██████████| 204/204 [05:00<00:00,  1.47s/it, disc_loss=-.233, gen_loss=0.727, gp=0.0141]   \n"
     ]
    }
   ],
   "source": [
    "DEVICE = torch.device(\"cuda\" if torch.cuda.is_available() else \"cpu\")\n",
    "\n",
    "args = {\n",
    "    \"Z_DIM\": 512,\n",
    "    \"W_DIM\": 512,\n",
    "    \"LAMBDA_GP\": 10,\n",
    "    \"EPOCHS\": [20, 20, 20, 50, 50, 75, 75, 100],\n",
    "    \"BATCH_SIZES\": [256, 256, 128, 64, 32, 16, 8, 4],\n",
    "    \"IMAGE_SIZES\": [4, 8, 16, 32, 64, 128, 256, 512],\n",
    "    \"STEP\": 0,\n",
    "}\n",
    "\n",
    "wandb.init(project=\"StyleGAN1\", entity=\"donghwankim\")\n",
    "\n",
    "wandb.run.name = f'ffhq/LAMBDA_GP:{args[\"LAMBDA_GP\"]}/z_dim:{args[\"Z_DIM\"]}/w_dim:{args[\"W_DIM\"]}/step:{args[\"STEP\"]}'\n",
    "wandb.save()\n",
    "\n",
    "wandb.config.update(args)\n",
    "\n",
    "train_step(\n",
    "    gen_state_dict=None,\n",
    "    disc_state_dict=None,\n",
    "    z_dim=args[\"Z_DIM\"],\n",
    "    w_dim=args[\"W_DIM\"],\n",
    "    step=args[\"STEP\"],\n",
    "    epochs=args[\"EPOCHS\"][args[\"STEP\"]],\n",
    "    lr=0.001,\n",
    "    betas=(0.5, 0.99),\n",
    "    alpha=1e-7,\n",
    "    could_gp=True,\n",
    "    image_size=args[\"IMAGE_SIZES\"][args[\"STEP\"]],\n",
    "    dataset_root=\"/home/kdhsimplepro/kdhsimplepro/AI/ffhq/\",\n",
    "    batch_size=args[\"BATCH_SIZES\"][args[\"STEP\"]]\n",
    ")"
   ]
  },
  {
   "attachments": {},
   "cell_type": "markdown",
   "metadata": {},
   "source": [
    "### Step 1"
   ]
  },
  {
   "cell_type": "code",
   "execution_count": 3,
   "metadata": {},
   "outputs": [
    {
     "name": "stderr",
     "output_type": "stream",
     "text": [
      "Failed to detect the name of this notebook, you can set it manually with the WANDB_NOTEBOOK_NAME environment variable to enable code saving.\n",
      "\u001b[34m\u001b[1mwandb\u001b[0m: Currently logged in as: \u001b[33mdonghwankim\u001b[0m. Use \u001b[1m`wandb login --relogin`\u001b[0m to force relogin\n"
     ]
    },
    {
     "data": {
      "text/html": [
       "wandb version 0.13.9 is available!  To upgrade, please run:\n",
       " $ pip install wandb --upgrade"
      ],
      "text/plain": [
       "<IPython.core.display.HTML object>"
      ]
     },
     "metadata": {},
     "output_type": "display_data"
    },
    {
     "data": {
      "text/html": [
       "Tracking run with wandb version 0.13.7"
      ],
      "text/plain": [
       "<IPython.core.display.HTML object>"
      ]
     },
     "metadata": {},
     "output_type": "display_data"
    },
    {
     "data": {
      "text/html": [
       "Run data is saved locally in <code>/home/kdhsimplepro/kdhsimplepro/AI/StyleGAN1/wandb/run-20230128_213115-255v4en9</code>"
      ],
      "text/plain": [
       "<IPython.core.display.HTML object>"
      ]
     },
     "metadata": {},
     "output_type": "display_data"
    },
    {
     "data": {
      "text/html": [
       "Syncing run <strong><a href=\"https://wandb.ai/donghwankim/StyleGAN1/runs/255v4en9\" target=\"_blank\">dancing-mandu-62</a></strong> to <a href=\"https://wandb.ai/donghwankim/StyleGAN1\" target=\"_blank\">Weights & Biases</a> (<a href=\"https://wandb.me/run\" target=\"_blank\">docs</a>)<br/>"
      ],
      "text/plain": [
       "<IPython.core.display.HTML object>"
      ]
     },
     "metadata": {},
     "output_type": "display_data"
    },
    {
     "name": "stderr",
     "output_type": "stream",
     "text": [
      "\u001b[34m\u001b[1mwandb\u001b[0m: \u001b[33mWARNING\u001b[0m Calling wandb.run.save without any arguments is deprecated.Changes to attributes are automatically persisted.\n"
     ]
    },
    {
     "name": "stdout",
     "output_type": "stream",
     "text": [
      "\n",
      "\n",
      "Image Size: 8x8\n",
      "\n",
      "EPOCH: 1/20\n"
     ]
    },
    {
     "name": "stderr",
     "output_type": "stream",
     "text": [
      "100%|██████████| 204/204 [05:40<00:00,  1.67s/it, disc_loss=0.0165, gen_loss=1.98, gp=0.015]    \n"
     ]
    },
    {
     "name": "stdout",
     "output_type": "stream",
     "text": [
      "EPOCH: 2/20\n"
     ]
    },
    {
     "name": "stderr",
     "output_type": "stream",
     "text": [
      "100%|██████████| 204/204 [05:39<00:00,  1.66s/it, disc_loss=-.0643, gen_loss=0.177, gp=0.00895]\n"
     ]
    },
    {
     "name": "stdout",
     "output_type": "stream",
     "text": [
      "EPOCH: 3/20\n"
     ]
    },
    {
     "name": "stderr",
     "output_type": "stream",
     "text": [
      "100%|██████████| 204/204 [05:39<00:00,  1.66s/it, disc_loss=-.204, gen_loss=0.176, gp=0.00357]  \n"
     ]
    },
    {
     "name": "stdout",
     "output_type": "stream",
     "text": [
      "EPOCH: 4/20\n"
     ]
    },
    {
     "name": "stderr",
     "output_type": "stream",
     "text": [
      "100%|██████████| 204/204 [05:39<00:00,  1.66s/it, disc_loss=-.129, gen_loss=0.523, gp=0.00417]  \n"
     ]
    },
    {
     "name": "stdout",
     "output_type": "stream",
     "text": [
      "EPOCH: 5/20\n"
     ]
    },
    {
     "name": "stderr",
     "output_type": "stream",
     "text": [
      "100%|██████████| 204/204 [05:39<00:00,  1.66s/it, disc_loss=-.176, gen_loss=0.737, gp=0.00561]  \n"
     ]
    },
    {
     "name": "stdout",
     "output_type": "stream",
     "text": [
      "EPOCH: 6/20\n"
     ]
    },
    {
     "name": "stderr",
     "output_type": "stream",
     "text": [
      "100%|██████████| 204/204 [05:39<00:00,  1.66s/it, disc_loss=-.425, gen_loss=0.853, gp=0.0133]  \n"
     ]
    },
    {
     "name": "stdout",
     "output_type": "stream",
     "text": [
      "EPOCH: 7/20\n"
     ]
    },
    {
     "name": "stderr",
     "output_type": "stream",
     "text": [
      "100%|██████████| 204/204 [05:39<00:00,  1.66s/it, disc_loss=-.0587, gen_loss=0.0875, gp=0.0106]\n"
     ]
    },
    {
     "name": "stdout",
     "output_type": "stream",
     "text": [
      "EPOCH: 8/20\n"
     ]
    },
    {
     "name": "stderr",
     "output_type": "stream",
     "text": [
      "100%|██████████| 204/204 [05:39<00:00,  1.66s/it, disc_loss=-.161, gen_loss=-.0575, gp=0.00898] \n"
     ]
    },
    {
     "name": "stdout",
     "output_type": "stream",
     "text": [
      "EPOCH: 9/20\n"
     ]
    },
    {
     "name": "stderr",
     "output_type": "stream",
     "text": [
      "100%|██████████| 204/204 [05:39<00:00,  1.67s/it, disc_loss=-.262, gen_loss=0.249, gp=0.0086]   \n"
     ]
    },
    {
     "name": "stdout",
     "output_type": "stream",
     "text": [
      "EPOCH: 10/20\n"
     ]
    },
    {
     "name": "stderr",
     "output_type": "stream",
     "text": [
      "100%|██████████| 204/204 [05:39<00:00,  1.66s/it, disc_loss=-.13, gen_loss=0.525, gp=0.0106]   \n"
     ]
    },
    {
     "name": "stdout",
     "output_type": "stream",
     "text": [
      "EPOCH: 11/20\n"
     ]
    },
    {
     "name": "stderr",
     "output_type": "stream",
     "text": [
      "100%|██████████| 204/204 [05:39<00:00,  1.66s/it, disc_loss=-.426, gen_loss=0.535, gp=0.0166]   \n"
     ]
    },
    {
     "name": "stdout",
     "output_type": "stream",
     "text": [
      "EPOCH: 12/20\n"
     ]
    },
    {
     "name": "stderr",
     "output_type": "stream",
     "text": [
      "100%|██████████| 204/204 [05:39<00:00,  1.66s/it, disc_loss=-.211, gen_loss=0.608, gp=0.0132]   \n"
     ]
    },
    {
     "name": "stdout",
     "output_type": "stream",
     "text": [
      "EPOCH: 13/20\n"
     ]
    },
    {
     "name": "stderr",
     "output_type": "stream",
     "text": [
      "100%|██████████| 204/204 [05:39<00:00,  1.66s/it, disc_loss=-.161, gen_loss=0.631, gp=0.00964]  \n"
     ]
    },
    {
     "name": "stdout",
     "output_type": "stream",
     "text": [
      "EPOCH: 14/20\n"
     ]
    },
    {
     "name": "stderr",
     "output_type": "stream",
     "text": [
      "100%|██████████| 204/204 [05:39<00:00,  1.66s/it, disc_loss=-.0761, gen_loss=0.373, gp=0.00842]\n"
     ]
    },
    {
     "name": "stdout",
     "output_type": "stream",
     "text": [
      "EPOCH: 15/20\n"
     ]
    },
    {
     "name": "stderr",
     "output_type": "stream",
     "text": [
      "100%|██████████| 204/204 [05:39<00:00,  1.67s/it, disc_loss=-.292, gen_loss=1.07, gp=0.0127]   \n"
     ]
    },
    {
     "name": "stdout",
     "output_type": "stream",
     "text": [
      "EPOCH: 16/20\n"
     ]
    },
    {
     "name": "stderr",
     "output_type": "stream",
     "text": [
      "100%|██████████| 204/204 [05:39<00:00,  1.66s/it, disc_loss=-.488, gen_loss=0.546, gp=0.0105]  \n"
     ]
    },
    {
     "name": "stdout",
     "output_type": "stream",
     "text": [
      "EPOCH: 17/20\n"
     ]
    },
    {
     "name": "stderr",
     "output_type": "stream",
     "text": [
      "100%|██████████| 204/204 [05:39<00:00,  1.66s/it, disc_loss=-.243, gen_loss=0.0322, gp=0.0106]  \n"
     ]
    },
    {
     "name": "stdout",
     "output_type": "stream",
     "text": [
      "EPOCH: 18/20\n"
     ]
    },
    {
     "name": "stderr",
     "output_type": "stream",
     "text": [
      "100%|██████████| 204/204 [05:39<00:00,  1.66s/it, disc_loss=-.271, gen_loss=0.939, gp=0.0115]    \n"
     ]
    },
    {
     "name": "stdout",
     "output_type": "stream",
     "text": [
      "EPOCH: 19/20\n"
     ]
    },
    {
     "name": "stderr",
     "output_type": "stream",
     "text": [
      "100%|██████████| 204/204 [05:39<00:00,  1.66s/it, disc_loss=0.11, gen_loss=0.301, gp=0.0099]     \n"
     ]
    },
    {
     "name": "stdout",
     "output_type": "stream",
     "text": [
      "EPOCH: 20/20\n"
     ]
    },
    {
     "name": "stderr",
     "output_type": "stream",
     "text": [
      "100%|██████████| 204/204 [05:39<00:00,  1.67s/it, disc_loss=0.222, gen_loss=-.178, gp=0.00904]   \n"
     ]
    }
   ],
   "source": [
    "DEVICE = torch.device(\"cuda\" if torch.cuda.is_available() else \"cpu\")\n",
    "\n",
    "args = {\n",
    "    \"Z_DIM\": 512,\n",
    "    \"W_DIM\": 512,\n",
    "    \"LAMBDA_GP\": 10,\n",
    "    \"EPOCHS\": [20, 20, 20, 50, 50, 75, 75, 100],\n",
    "    \"BATCH_SIZES\": [256, 256, 128, 64, 32, 16, 8, 4],\n",
    "    \"IMAGE_SIZES\": [4, 8, 16, 32, 64, 128, 256, 512],\n",
    "    \"STEP\": 1,\n",
    "}\n",
    "\n",
    "wandb.init(project=\"StyleGAN1\", entity=\"donghwankim\")\n",
    "\n",
    "wandb.run.name = f'ffhq/LAMBDA_GP:{args[\"LAMBDA_GP\"]}/z_dim:{args[\"Z_DIM\"]}/w_dim:{args[\"W_DIM\"]}/step:{args[\"STEP\"]}'\n",
    "wandb.save()\n",
    "\n",
    "wandb.config.update(args)\n",
    "\n",
    "train_step(\n",
    "    gen_state_dict=torch.load(\"./state_dict/step0/gen_state_dict.pt\"),\n",
    "    disc_state_dict=torch.load(\"./state_dict/step0/disc_state_dict.pt\"),\n",
    "    z_dim=args[\"Z_DIM\"],\n",
    "    w_dim=args[\"W_DIM\"],\n",
    "    step=args[\"STEP\"],\n",
    "    epochs=args[\"EPOCHS\"][args[\"STEP\"]],\n",
    "    lr=0.0005,\n",
    "    betas=(0.5, 0.99),\n",
    "    alpha=1e-7,\n",
    "    could_gp=True,\n",
    "    image_size=args[\"IMAGE_SIZES\"][args[\"STEP\"]],\n",
    "    dataset_root=\"/home/kdhsimplepro/kdhsimplepro/AI/ffhq/\",\n",
    "    batch_size=args[\"BATCH_SIZES\"][args[\"STEP\"]]\n",
    ")"
   ]
  },
  {
   "attachments": {},
   "cell_type": "markdown",
   "metadata": {},
   "source": [
    "### Step 2"
   ]
  },
  {
   "cell_type": "code",
   "execution_count": 3,
   "metadata": {},
   "outputs": [
    {
     "name": "stderr",
     "output_type": "stream",
     "text": [
      "Failed to detect the name of this notebook, you can set it manually with the WANDB_NOTEBOOK_NAME environment variable to enable code saving.\n",
      "\u001b[34m\u001b[1mwandb\u001b[0m: Currently logged in as: \u001b[33mdonghwankim\u001b[0m. Use \u001b[1m`wandb login --relogin`\u001b[0m to force relogin\n"
     ]
    },
    {
     "data": {
      "text/html": [
       "wandb version 0.13.9 is available!  To upgrade, please run:\n",
       " $ pip install wandb --upgrade"
      ],
      "text/plain": [
       "<IPython.core.display.HTML object>"
      ]
     },
     "metadata": {},
     "output_type": "display_data"
    },
    {
     "data": {
      "text/html": [
       "Tracking run with wandb version 0.13.7"
      ],
      "text/plain": [
       "<IPython.core.display.HTML object>"
      ]
     },
     "metadata": {},
     "output_type": "display_data"
    },
    {
     "data": {
      "text/html": [
       "Run data is saved locally in <code>/home/kdhsimplepro/kdhsimplepro/AI/StyleGAN1/wandb/run-20230128_233042-1di378t8</code>"
      ],
      "text/plain": [
       "<IPython.core.display.HTML object>"
      ]
     },
     "metadata": {},
     "output_type": "display_data"
    },
    {
     "data": {
      "text/html": [
       "Syncing run <strong><a href=\"https://wandb.ai/donghwankim/StyleGAN1/runs/1di378t8\" target=\"_blank\">floating-kumquat-63</a></strong> to <a href=\"https://wandb.ai/donghwankim/StyleGAN1\" target=\"_blank\">Weights & Biases</a> (<a href=\"https://wandb.me/run\" target=\"_blank\">docs</a>)<br/>"
      ],
      "text/plain": [
       "<IPython.core.display.HTML object>"
      ]
     },
     "metadata": {},
     "output_type": "display_data"
    },
    {
     "name": "stderr",
     "output_type": "stream",
     "text": [
      "\u001b[34m\u001b[1mwandb\u001b[0m: \u001b[33mWARNING\u001b[0m Calling wandb.run.save without any arguments is deprecated.Changes to attributes are automatically persisted.\n"
     ]
    },
    {
     "name": "stdout",
     "output_type": "stream",
     "text": [
      "\n",
      "\n",
      "Image Size: 16x16\n",
      "\n",
      "EPOCH: 1/20\n"
     ]
    },
    {
     "name": "stderr",
     "output_type": "stream",
     "text": [
      "  5%|▍         | 20/407 [00:22<07:07,  1.10s/it, disc_loss=0.145, gen_loss=1.45, gp=0.0708] "
     ]
    }
   ],
   "source": [
    "DEVICE = torch.device(\"cuda\" if torch.cuda.is_available() else \"cpu\")\n",
    "\n",
    "args = {\n",
    "    \"Z_DIM\": 512,\n",
    "    \"W_DIM\": 512,\n",
    "    \"LAMBDA_GP\": 10,\n",
    "    \"EPOCHS\": [20, 20, 20, 50, 50, 75, 75, 100],\n",
    "    \"BATCH_SIZES\": [256, 256, 128, 64, 32, 16, 8, 4],\n",
    "    \"IMAGE_SIZES\": [4, 8, 16, 32, 64, 128, 256, 512],\n",
    "    \"STEP\": 2,\n",
    "}\n",
    "\n",
    "wandb.init(project=\"StyleGAN1\", entity=\"donghwankim\")\n",
    "\n",
    "wandb.run.name = f'ffhq/LAMBDA_GP:{args[\"LAMBDA_GP\"]}/z_dim:{args[\"Z_DIM\"]}/w_dim:{args[\"W_DIM\"]}/step:{args[\"STEP\"]}'\n",
    "wandb.save()\n",
    "\n",
    "wandb.config.update(args)\n",
    "\n",
    "train_step(\n",
    "    gen_state_dict=torch.load(f\"./state_dict/step{args['STEP']-1}/gen_state_dict.pt\"),\n",
    "    disc_state_dict=torch.load(f\"./state_dict/step{args['STEP']-1}/disc_state_dict.pt\"),\n",
    "    z_dim=args[\"Z_DIM\"],\n",
    "    w_dim=args[\"W_DIM\"],\n",
    "    step=args[\"STEP\"],\n",
    "    epochs=args[\"EPOCHS\"][args[\"STEP\"]],\n",
    "    lr=0.0004,\n",
    "    betas=(0.5, 0.99),\n",
    "    alpha=1e-7,\n",
    "    could_gp=True,\n",
    "    image_size=args[\"IMAGE_SIZES\"][args[\"STEP\"]],\n",
    "    dataset_root=\"/home/kdhsimplepro/kdhsimplepro/AI/ffhq/\",\n",
    "    batch_size=args[\"BATCH_SIZES\"][args[\"STEP\"]]\n",
    ")"
   ]
  },
  {
   "attachments": {},
   "cell_type": "markdown",
   "metadata": {},
   "source": [
    "### Step 3"
   ]
  },
  {
   "cell_type": "code",
   "execution_count": 3,
   "metadata": {},
   "outputs": [
    {
     "name": "stderr",
     "output_type": "stream",
     "text": [
      "Failed to detect the name of this notebook, you can set it manually with the WANDB_NOTEBOOK_NAME environment variable to enable code saving.\n",
      "\u001b[34m\u001b[1mwandb\u001b[0m: Currently logged in as: \u001b[33mdonghwankim\u001b[0m. Use \u001b[1m`wandb login --relogin`\u001b[0m to force relogin\n"
     ]
    },
    {
     "data": {
      "text/html": [
       "wandb version 0.13.9 is available!  To upgrade, please run:\n",
       " $ pip install wandb --upgrade"
      ],
      "text/plain": [
       "<IPython.core.display.HTML object>"
      ]
     },
     "metadata": {},
     "output_type": "display_data"
    },
    {
     "data": {
      "text/html": [
       "Tracking run with wandb version 0.13.7"
      ],
      "text/plain": [
       "<IPython.core.display.HTML object>"
      ]
     },
     "metadata": {},
     "output_type": "display_data"
    },
    {
     "data": {
      "text/html": [
       "Run data is saved locally in <code>/home/kdhsimplepro/kdhsimplepro/AI/StyleGAN1/wandb/run-20230129_085854-1u6h95e6</code>"
      ],
      "text/plain": [
       "<IPython.core.display.HTML object>"
      ]
     },
     "metadata": {},
     "output_type": "display_data"
    },
    {
     "data": {
      "text/html": [
       "Syncing run <strong><a href=\"https://wandb.ai/donghwankim/StyleGAN1/runs/1u6h95e6\" target=\"_blank\">vivid-laughter-64</a></strong> to <a href=\"https://wandb.ai/donghwankim/StyleGAN1\" target=\"_blank\">Weights & Biases</a> (<a href=\"https://wandb.me/run\" target=\"_blank\">docs</a>)<br/>"
      ],
      "text/plain": [
       "<IPython.core.display.HTML object>"
      ]
     },
     "metadata": {},
     "output_type": "display_data"
    },
    {
     "name": "stderr",
     "output_type": "stream",
     "text": [
      "\u001b[34m\u001b[1mwandb\u001b[0m: \u001b[33mWARNING\u001b[0m Calling wandb.run.save without any arguments is deprecated.Changes to attributes are automatically persisted.\n"
     ]
    },
    {
     "name": "stdout",
     "output_type": "stream",
     "text": [
      "\n",
      "\n",
      "Image Size: 32x32\n",
      "\n",
      "EPOCH: 1/50\n"
     ]
    },
    {
     "name": "stderr",
     "output_type": "stream",
     "text": [
      "100%|██████████| 813/813 [13:09<00:00,  1.03it/s, disc_loss=1.06, gen_loss=-3.46, gp=0.0179]    \n"
     ]
    },
    {
     "name": "stdout",
     "output_type": "stream",
     "text": [
      "EPOCH: 2/50\n"
     ]
    },
    {
     "name": "stderr",
     "output_type": "stream",
     "text": [
      "100%|██████████| 813/813 [13:08<00:00,  1.03it/s, disc_loss=0.0944, gen_loss=1.47, gp=0.00742]   \n"
     ]
    },
    {
     "name": "stdout",
     "output_type": "stream",
     "text": [
      "EPOCH: 3/50\n"
     ]
    },
    {
     "name": "stderr",
     "output_type": "stream",
     "text": [
      "100%|██████████| 813/813 [13:08<00:00,  1.03it/s, disc_loss=-.622, gen_loss=2.3, gp=0.0067]      \n"
     ]
    },
    {
     "name": "stdout",
     "output_type": "stream",
     "text": [
      "EPOCH: 4/50\n"
     ]
    },
    {
     "name": "stderr",
     "output_type": "stream",
     "text": [
      "100%|██████████| 813/813 [13:08<00:00,  1.03it/s, disc_loss=-.873, gen_loss=-2.67, gp=0.0196]   \n"
     ]
    },
    {
     "name": "stdout",
     "output_type": "stream",
     "text": [
      "EPOCH: 5/50\n"
     ]
    },
    {
     "name": "stderr",
     "output_type": "stream",
     "text": [
      "100%|██████████| 813/813 [13:08<00:00,  1.03it/s, disc_loss=0.115, gen_loss=0.154, gp=0.00692]  \n"
     ]
    },
    {
     "name": "stdout",
     "output_type": "stream",
     "text": [
      "EPOCH: 6/50\n"
     ]
    },
    {
     "name": "stderr",
     "output_type": "stream",
     "text": [
      "100%|██████████| 813/813 [13:08<00:00,  1.03it/s, disc_loss=-.598, gen_loss=2.45, gp=0.00745]   \n"
     ]
    },
    {
     "name": "stdout",
     "output_type": "stream",
     "text": [
      "EPOCH: 7/50\n"
     ]
    },
    {
     "name": "stderr",
     "output_type": "stream",
     "text": [
      "100%|██████████| 813/813 [13:08<00:00,  1.03it/s, disc_loss=-.205, gen_loss=0.93, gp=0.0349]    \n"
     ]
    },
    {
     "name": "stdout",
     "output_type": "stream",
     "text": [
      "EPOCH: 8/50\n"
     ]
    },
    {
     "name": "stderr",
     "output_type": "stream",
     "text": [
      "100%|██████████| 813/813 [13:08<00:00,  1.03it/s, disc_loss=-.29, gen_loss=2.92, gp=0.00728]     \n"
     ]
    },
    {
     "name": "stdout",
     "output_type": "stream",
     "text": [
      "EPOCH: 9/50\n"
     ]
    },
    {
     "name": "stderr",
     "output_type": "stream",
     "text": [
      "100%|██████████| 813/813 [13:08<00:00,  1.03it/s, disc_loss=0.704, gen_loss=0.255, gp=0.0187]   \n"
     ]
    },
    {
     "name": "stdout",
     "output_type": "stream",
     "text": [
      "EPOCH: 10/50\n"
     ]
    },
    {
     "name": "stderr",
     "output_type": "stream",
     "text": [
      "100%|██████████| 813/813 [13:08<00:00,  1.03it/s, disc_loss=-.227, gen_loss=2.73, gp=0.00787]    \n"
     ]
    },
    {
     "name": "stdout",
     "output_type": "stream",
     "text": [
      "EPOCH: 11/50\n"
     ]
    },
    {
     "name": "stderr",
     "output_type": "stream",
     "text": [
      "100%|██████████| 813/813 [13:08<00:00,  1.03it/s, disc_loss=-.767, gen_loss=0.826, gp=0.00833]  \n"
     ]
    },
    {
     "name": "stdout",
     "output_type": "stream",
     "text": [
      "EPOCH: 12/50\n"
     ]
    },
    {
     "name": "stderr",
     "output_type": "stream",
     "text": [
      "100%|██████████| 813/813 [13:08<00:00,  1.03it/s, disc_loss=0.113, gen_loss=-.803, gp=0.0103]   \n"
     ]
    },
    {
     "name": "stdout",
     "output_type": "stream",
     "text": [
      "EPOCH: 13/50\n"
     ]
    },
    {
     "name": "stderr",
     "output_type": "stream",
     "text": [
      "100%|██████████| 813/813 [13:08<00:00,  1.03it/s, disc_loss=0.144, gen_loss=2.39, gp=0.0138]    \n"
     ]
    },
    {
     "name": "stdout",
     "output_type": "stream",
     "text": [
      "EPOCH: 14/50\n"
     ]
    },
    {
     "name": "stderr",
     "output_type": "stream",
     "text": [
      "100%|██████████| 813/813 [13:08<00:00,  1.03it/s, disc_loss=-.604, gen_loss=-1.64, gp=0.00862]  \n"
     ]
    },
    {
     "name": "stdout",
     "output_type": "stream",
     "text": [
      "EPOCH: 15/50\n"
     ]
    },
    {
     "name": "stderr",
     "output_type": "stream",
     "text": [
      "100%|██████████| 813/813 [13:08<00:00,  1.03it/s, disc_loss=-.474, gen_loss=4.15, gp=0.00666]   \n"
     ]
    },
    {
     "name": "stdout",
     "output_type": "stream",
     "text": [
      "EPOCH: 16/50\n"
     ]
    },
    {
     "name": "stderr",
     "output_type": "stream",
     "text": [
      "100%|██████████| 813/813 [13:08<00:00,  1.03it/s, disc_loss=-1.07, gen_loss=0.828, gp=0.0496]   \n"
     ]
    },
    {
     "name": "stdout",
     "output_type": "stream",
     "text": [
      "EPOCH: 17/50\n"
     ]
    },
    {
     "name": "stderr",
     "output_type": "stream",
     "text": [
      "100%|██████████| 813/813 [13:08<00:00,  1.03it/s, disc_loss=-.654, gen_loss=0.974, gp=0.0439]   \n"
     ]
    },
    {
     "name": "stdout",
     "output_type": "stream",
     "text": [
      "EPOCH: 18/50\n"
     ]
    },
    {
     "name": "stderr",
     "output_type": "stream",
     "text": [
      "100%|██████████| 813/813 [13:08<00:00,  1.03it/s, disc_loss=-1, gen_loss=2.07, gp=0.045]         \n"
     ]
    },
    {
     "name": "stdout",
     "output_type": "stream",
     "text": [
      "EPOCH: 19/50\n"
     ]
    },
    {
     "name": "stderr",
     "output_type": "stream",
     "text": [
      "100%|██████████| 813/813 [13:08<00:00,  1.03it/s, disc_loss=0.159, gen_loss=4.64, gp=0.0108]    \n"
     ]
    },
    {
     "name": "stdout",
     "output_type": "stream",
     "text": [
      "EPOCH: 20/50\n"
     ]
    },
    {
     "name": "stderr",
     "output_type": "stream",
     "text": [
      "100%|██████████| 813/813 [13:08<00:00,  1.03it/s, disc_loss=-.635, gen_loss=6.72, gp=0.00716]   \n"
     ]
    },
    {
     "name": "stdout",
     "output_type": "stream",
     "text": [
      "EPOCH: 21/50\n"
     ]
    },
    {
     "name": "stderr",
     "output_type": "stream",
     "text": [
      "100%|██████████| 813/813 [13:09<00:00,  1.03it/s, disc_loss=-.0064, gen_loss=2.07, gp=0.0088]    \n"
     ]
    },
    {
     "name": "stdout",
     "output_type": "stream",
     "text": [
      "EPOCH: 22/50\n"
     ]
    },
    {
     "name": "stderr",
     "output_type": "stream",
     "text": [
      "100%|██████████| 813/813 [13:09<00:00,  1.03it/s, disc_loss=0.465, gen_loss=1.52, gp=0.0825]    \n"
     ]
    },
    {
     "name": "stdout",
     "output_type": "stream",
     "text": [
      "EPOCH: 23/50\n"
     ]
    },
    {
     "name": "stderr",
     "output_type": "stream",
     "text": [
      "100%|██████████| 813/813 [13:08<00:00,  1.03it/s, disc_loss=-.366, gen_loss=-1.46, gp=0.0163]   \n"
     ]
    },
    {
     "name": "stdout",
     "output_type": "stream",
     "text": [
      "EPOCH: 24/50\n"
     ]
    },
    {
     "name": "stderr",
     "output_type": "stream",
     "text": [
      "100%|██████████| 813/813 [13:09<00:00,  1.03it/s, disc_loss=-.606, gen_loss=0.935, gp=0.00767]  \n"
     ]
    },
    {
     "name": "stdout",
     "output_type": "stream",
     "text": [
      "EPOCH: 25/50\n"
     ]
    },
    {
     "name": "stderr",
     "output_type": "stream",
     "text": [
      "100%|██████████| 813/813 [13:08<00:00,  1.03it/s, disc_loss=-.389, gen_loss=-2.98, gp=0.00619]  \n"
     ]
    },
    {
     "name": "stdout",
     "output_type": "stream",
     "text": [
      "EPOCH: 26/50\n"
     ]
    },
    {
     "name": "stderr",
     "output_type": "stream",
     "text": [
      "100%|██████████| 813/813 [13:09<00:00,  1.03it/s, disc_loss=-.498, gen_loss=-.224, gp=0.00561]   \n"
     ]
    },
    {
     "name": "stdout",
     "output_type": "stream",
     "text": [
      "EPOCH: 27/50\n"
     ]
    },
    {
     "name": "stderr",
     "output_type": "stream",
     "text": [
      "100%|██████████| 813/813 [13:08<00:00,  1.03it/s, disc_loss=-.353, gen_loss=1.48, gp=0.0054]     \n"
     ]
    },
    {
     "name": "stdout",
     "output_type": "stream",
     "text": [
      "EPOCH: 28/50\n"
     ]
    },
    {
     "name": "stderr",
     "output_type": "stream",
     "text": [
      "100%|██████████| 813/813 [13:09<00:00,  1.03it/s, disc_loss=-.94, gen_loss=0.651, gp=0.0125]     \n"
     ]
    },
    {
     "name": "stdout",
     "output_type": "stream",
     "text": [
      "EPOCH: 29/50\n"
     ]
    },
    {
     "name": "stderr",
     "output_type": "stream",
     "text": [
      "100%|██████████| 813/813 [13:09<00:00,  1.03it/s, disc_loss=-.544, gen_loss=-.464, gp=0.0045]   \n"
     ]
    },
    {
     "name": "stdout",
     "output_type": "stream",
     "text": [
      "EPOCH: 30/50\n"
     ]
    },
    {
     "name": "stderr",
     "output_type": "stream",
     "text": [
      "100%|██████████| 813/813 [13:09<00:00,  1.03it/s, disc_loss=-1.08, gen_loss=-1.26, gp=0.013]    \n"
     ]
    },
    {
     "name": "stdout",
     "output_type": "stream",
     "text": [
      "EPOCH: 31/50\n"
     ]
    },
    {
     "name": "stderr",
     "output_type": "stream",
     "text": [
      "100%|██████████| 813/813 [13:09<00:00,  1.03it/s, disc_loss=-.842, gen_loss=0.939, gp=0.00752]  \n"
     ]
    },
    {
     "name": "stdout",
     "output_type": "stream",
     "text": [
      "EPOCH: 32/50\n"
     ]
    },
    {
     "name": "stderr",
     "output_type": "stream",
     "text": [
      "100%|██████████| 813/813 [13:09<00:00,  1.03it/s, disc_loss=0.278, gen_loss=-1.63, gp=0.0108]    \n"
     ]
    },
    {
     "name": "stdout",
     "output_type": "stream",
     "text": [
      "EPOCH: 33/50\n"
     ]
    },
    {
     "name": "stderr",
     "output_type": "stream",
     "text": [
      "100%|██████████| 813/813 [13:09<00:00,  1.03it/s, disc_loss=-.374, gen_loss=2.52, gp=0.0192]    \n"
     ]
    },
    {
     "name": "stdout",
     "output_type": "stream",
     "text": [
      "EPOCH: 34/50\n"
     ]
    },
    {
     "name": "stderr",
     "output_type": "stream",
     "text": [
      "100%|██████████| 813/813 [13:09<00:00,  1.03it/s, disc_loss=-.439, gen_loss=0.615, gp=0.00476]  \n"
     ]
    },
    {
     "name": "stdout",
     "output_type": "stream",
     "text": [
      "EPOCH: 35/50\n"
     ]
    },
    {
     "name": "stderr",
     "output_type": "stream",
     "text": [
      "100%|██████████| 813/813 [13:09<00:00,  1.03it/s, disc_loss=-.159, gen_loss=0.72, gp=0.00799]   \n"
     ]
    },
    {
     "name": "stdout",
     "output_type": "stream",
     "text": [
      "EPOCH: 36/50\n"
     ]
    },
    {
     "name": "stderr",
     "output_type": "stream",
     "text": [
      "100%|██████████| 813/813 [13:09<00:00,  1.03it/s, disc_loss=-.95, gen_loss=1.71, gp=0.00468]     \n"
     ]
    },
    {
     "name": "stdout",
     "output_type": "stream",
     "text": [
      "EPOCH: 37/50\n"
     ]
    },
    {
     "name": "stderr",
     "output_type": "stream",
     "text": [
      "100%|██████████| 813/813 [13:09<00:00,  1.03it/s, disc_loss=-1.53, gen_loss=1.49, gp=0.0131]    \n"
     ]
    },
    {
     "name": "stdout",
     "output_type": "stream",
     "text": [
      "EPOCH: 38/50\n"
     ]
    },
    {
     "name": "stderr",
     "output_type": "stream",
     "text": [
      "100%|██████████| 813/813 [13:09<00:00,  1.03it/s, disc_loss=-.318, gen_loss=2.51, gp=0.00953]   \n"
     ]
    },
    {
     "name": "stdout",
     "output_type": "stream",
     "text": [
      "EPOCH: 39/50\n"
     ]
    },
    {
     "name": "stderr",
     "output_type": "stream",
     "text": [
      "100%|██████████| 813/813 [13:09<00:00,  1.03it/s, disc_loss=-.869, gen_loss=-.13, gp=0.00691]    \n"
     ]
    },
    {
     "name": "stdout",
     "output_type": "stream",
     "text": [
      "EPOCH: 40/50\n"
     ]
    },
    {
     "name": "stderr",
     "output_type": "stream",
     "text": [
      "100%|██████████| 813/813 [13:09<00:00,  1.03it/s, disc_loss=-.133, gen_loss=0.736, gp=0.00537]   \n"
     ]
    },
    {
     "name": "stdout",
     "output_type": "stream",
     "text": [
      "EPOCH: 41/50\n"
     ]
    },
    {
     "name": "stderr",
     "output_type": "stream",
     "text": [
      " 74%|███████▍  | 602/813 [09:44<03:24,  1.03it/s, disc_loss=-.36, gen_loss=1.11, gp=0.0049]     "
     ]
    }
   ],
   "source": [
    "DEVICE = torch.device(\"cuda\" if torch.cuda.is_available() else \"cpu\")\n",
    "\n",
    "args = {\n",
    "    \"Z_DIM\": 512,\n",
    "    \"W_DIM\": 512,\n",
    "    \"LAMBDA_GP\": 10,\n",
    "    \"EPOCHS\": [20, 20, 20, 50, 50, 75, 75, 100],\n",
    "    \"BATCH_SIZES\": [256, 256, 128, 64, 32, 16, 8, 4],\n",
    "    \"IMAGE_SIZES\": [4, 8, 16, 32, 64, 128, 256, 512],\n",
    "    \"STEP\": 3,\n",
    "}\n",
    "\n",
    "wandb.init(project=\"StyleGAN1\", entity=\"donghwankim\")\n",
    "\n",
    "wandb.run.name = f'ffhq/LAMBDA_GP:{args[\"LAMBDA_GP\"]}/z_dim:{args[\"Z_DIM\"]}/w_dim:{args[\"W_DIM\"]}/step:{args[\"STEP\"]}'\n",
    "wandb.save()\n",
    "\n",
    "wandb.config.update(args)\n",
    "\n",
    "train_step(\n",
    "    gen_state_dict=torch.load(f\"./state_dict/step{args['STEP']-1}/gen_state_dict.pt\"),\n",
    "    disc_state_dict=torch.load(f\"./state_dict/step{args['STEP']-1}/disc_state_dict.pt\"),\n",
    "    z_dim=args[\"Z_DIM\"],\n",
    "    w_dim=args[\"W_DIM\"],\n",
    "    step=args[\"STEP\"],\n",
    "    epochs=args[\"EPOCHS\"][args[\"STEP\"]],\n",
    "    lr=0.0002,\n",
    "    betas=(0.5, 0.99),\n",
    "    alpha=1e-7,\n",
    "    could_gp=True,\n",
    "    image_size=args[\"IMAGE_SIZES\"][args[\"STEP\"]],\n",
    "    dataset_root=\"/home/kdhsimplepro/kdhsimplepro/AI/ffhq/\",\n",
    "    batch_size=args[\"BATCH_SIZES\"][args[\"STEP\"]]\n",
    ")"
   ]
  },
  {
   "attachments": {},
   "cell_type": "markdown",
   "metadata": {},
   "source": [
    "### Step 4"
   ]
  },
  {
   "cell_type": "code",
   "execution_count": 3,
   "metadata": {},
   "outputs": [
    {
     "name": "stderr",
     "output_type": "stream",
     "text": [
      "Failed to detect the name of this notebook, you can set it manually with the WANDB_NOTEBOOK_NAME environment variable to enable code saving.\n",
      "\u001b[34m\u001b[1mwandb\u001b[0m: Currently logged in as: \u001b[33mdonghwankim\u001b[0m. Use \u001b[1m`wandb login --relogin`\u001b[0m to force relogin\n"
     ]
    },
    {
     "data": {
      "text/html": [
       "wandb version 0.13.9 is available!  To upgrade, please run:\n",
       " $ pip install wandb --upgrade"
      ],
      "text/plain": [
       "<IPython.core.display.HTML object>"
      ]
     },
     "metadata": {},
     "output_type": "display_data"
    },
    {
     "data": {
      "text/html": [
       "Tracking run with wandb version 0.13.7"
      ],
      "text/plain": [
       "<IPython.core.display.HTML object>"
      ]
     },
     "metadata": {},
     "output_type": "display_data"
    },
    {
     "data": {
      "text/html": [
       "Run data is saved locally in <code>/home/kdhsimplepro/kdhsimplepro/AI/StyleGAN1/wandb/run-20230129_212324-3dzl47m7</code>"
      ],
      "text/plain": [
       "<IPython.core.display.HTML object>"
      ]
     },
     "metadata": {},
     "output_type": "display_data"
    },
    {
     "data": {
      "text/html": [
       "Syncing run <strong><a href=\"https://wandb.ai/donghwankim/StyleGAN1/runs/3dzl47m7\" target=\"_blank\">glowing-cake-65</a></strong> to <a href=\"https://wandb.ai/donghwankim/StyleGAN1\" target=\"_blank\">Weights & Biases</a> (<a href=\"https://wandb.me/run\" target=\"_blank\">docs</a>)<br/>"
      ],
      "text/plain": [
       "<IPython.core.display.HTML object>"
      ]
     },
     "metadata": {},
     "output_type": "display_data"
    },
    {
     "name": "stderr",
     "output_type": "stream",
     "text": [
      "\u001b[34m\u001b[1mwandb\u001b[0m: \u001b[33mWARNING\u001b[0m Calling wandb.run.save without any arguments is deprecated.Changes to attributes are automatically persisted.\n"
     ]
    },
    {
     "name": "stdout",
     "output_type": "stream",
     "text": [
      "\n",
      "\n",
      "Image Size: 64x64\n",
      "\n",
      "EPOCH: 1/50\n"
     ]
    },
    {
     "name": "stderr",
     "output_type": "stream",
     "text": [
      "100%|██████████| 1625/1625 [25:04<00:00,  1.08it/s, disc_loss=-1.66, gen_loss=3.06, gp=0.00399]    \n"
     ]
    },
    {
     "name": "stdout",
     "output_type": "stream",
     "text": [
      "EPOCH: 2/50\n"
     ]
    },
    {
     "name": "stderr",
     "output_type": "stream",
     "text": [
      "100%|██████████| 1625/1625 [25:04<00:00,  1.08it/s, disc_loss=-1.57, gen_loss=1.84, gp=0.00293]   \n"
     ]
    },
    {
     "name": "stdout",
     "output_type": "stream",
     "text": [
      "EPOCH: 3/50\n"
     ]
    },
    {
     "name": "stderr",
     "output_type": "stream",
     "text": [
      "100%|██████████| 1625/1625 [25:04<00:00,  1.08it/s, disc_loss=-1.47, gen_loss=0.336, gp=0.012]    \n"
     ]
    },
    {
     "name": "stdout",
     "output_type": "stream",
     "text": [
      "EPOCH: 4/50\n"
     ]
    },
    {
     "name": "stderr",
     "output_type": "stream",
     "text": [
      "100%|██████████| 1625/1625 [25:04<00:00,  1.08it/s, disc_loss=-1.16, gen_loss=3.45, gp=0.00651]   \n"
     ]
    },
    {
     "name": "stdout",
     "output_type": "stream",
     "text": [
      "EPOCH: 5/50\n"
     ]
    },
    {
     "name": "stderr",
     "output_type": "stream",
     "text": [
      "100%|██████████| 1625/1625 [25:03<00:00,  1.08it/s, disc_loss=-1.9, gen_loss=1.44, gp=0.00775]   \n"
     ]
    },
    {
     "name": "stdout",
     "output_type": "stream",
     "text": [
      "EPOCH: 6/50\n"
     ]
    },
    {
     "name": "stderr",
     "output_type": "stream",
     "text": [
      "100%|██████████| 1625/1625 [25:04<00:00,  1.08it/s, disc_loss=-1.48, gen_loss=1.23, gp=0.0146]   \n"
     ]
    },
    {
     "name": "stdout",
     "output_type": "stream",
     "text": [
      "EPOCH: 7/50\n"
     ]
    },
    {
     "name": "stderr",
     "output_type": "stream",
     "text": [
      "100%|██████████| 1625/1625 [25:04<00:00,  1.08it/s, disc_loss=-1.29, gen_loss=2.12, gp=0.0353]    \n"
     ]
    },
    {
     "name": "stdout",
     "output_type": "stream",
     "text": [
      "EPOCH: 8/50\n"
     ]
    },
    {
     "name": "stderr",
     "output_type": "stream",
     "text": [
      "100%|██████████| 1625/1625 [25:04<00:00,  1.08it/s, disc_loss=-.908, gen_loss=1.54, gp=0.00907]   \n"
     ]
    },
    {
     "name": "stdout",
     "output_type": "stream",
     "text": [
      "EPOCH: 9/50\n"
     ]
    },
    {
     "name": "stderr",
     "output_type": "stream",
     "text": [
      "100%|██████████| 1625/1625 [25:04<00:00,  1.08it/s, disc_loss=-.682, gen_loss=0.61, gp=0.00228]   \n"
     ]
    },
    {
     "name": "stdout",
     "output_type": "stream",
     "text": [
      "EPOCH: 10/50\n"
     ]
    },
    {
     "name": "stderr",
     "output_type": "stream",
     "text": [
      "100%|██████████| 1625/1625 [25:04<00:00,  1.08it/s, disc_loss=-.988, gen_loss=-.255, gp=0.00391]  \n"
     ]
    },
    {
     "name": "stdout",
     "output_type": "stream",
     "text": [
      "EPOCH: 11/50\n"
     ]
    },
    {
     "name": "stderr",
     "output_type": "stream",
     "text": [
      "100%|██████████| 1625/1625 [25:04<00:00,  1.08it/s, disc_loss=-.81, gen_loss=-2.03, gp=0.00527]   \n"
     ]
    },
    {
     "name": "stdout",
     "output_type": "stream",
     "text": [
      "EPOCH: 12/50\n"
     ]
    },
    {
     "name": "stderr",
     "output_type": "stream",
     "text": [
      "100%|██████████| 1625/1625 [25:05<00:00,  1.08it/s, disc_loss=-1.26, gen_loss=-1.62, gp=0.00353]  \n"
     ]
    },
    {
     "name": "stdout",
     "output_type": "stream",
     "text": [
      "EPOCH: 13/50\n"
     ]
    },
    {
     "name": "stderr",
     "output_type": "stream",
     "text": [
      "100%|██████████| 1625/1625 [25:04<00:00,  1.08it/s, disc_loss=0.0251, gen_loss=-2.4, gp=0.00413]   \n"
     ]
    },
    {
     "name": "stdout",
     "output_type": "stream",
     "text": [
      "EPOCH: 14/50\n"
     ]
    },
    {
     "name": "stderr",
     "output_type": "stream",
     "text": [
      "100%|██████████| 1625/1625 [25:04<00:00,  1.08it/s, disc_loss=-1.62, gen_loss=4.67, gp=0.00349]    \n"
     ]
    },
    {
     "name": "stdout",
     "output_type": "stream",
     "text": [
      "EPOCH: 15/50\n"
     ]
    },
    {
     "name": "stderr",
     "output_type": "stream",
     "text": [
      "100%|██████████| 1625/1625 [25:04<00:00,  1.08it/s, disc_loss=-.927, gen_loss=3.27, gp=0.00376]    \n"
     ]
    },
    {
     "name": "stdout",
     "output_type": "stream",
     "text": [
      "EPOCH: 16/50\n"
     ]
    },
    {
     "name": "stderr",
     "output_type": "stream",
     "text": [
      "100%|██████████| 1625/1625 [25:04<00:00,  1.08it/s, disc_loss=-.682, gen_loss=-1.96, gp=0.00365]   \n"
     ]
    },
    {
     "name": "stdout",
     "output_type": "stream",
     "text": [
      "EPOCH: 17/50\n"
     ]
    },
    {
     "name": "stderr",
     "output_type": "stream",
     "text": [
      "100%|██████████| 1625/1625 [25:04<00:00,  1.08it/s, disc_loss=-.672, gen_loss=3.11, gp=0.00986]    \n"
     ]
    },
    {
     "name": "stdout",
     "output_type": "stream",
     "text": [
      "EPOCH: 18/50\n"
     ]
    },
    {
     "name": "stderr",
     "output_type": "stream",
     "text": [
      "100%|██████████| 1625/1625 [25:04<00:00,  1.08it/s, disc_loss=-.884, gen_loss=4.85, gp=0.0052]    \n"
     ]
    },
    {
     "name": "stdout",
     "output_type": "stream",
     "text": [
      "EPOCH: 19/50\n"
     ]
    },
    {
     "name": "stderr",
     "output_type": "stream",
     "text": [
      "100%|██████████| 1625/1625 [25:04<00:00,  1.08it/s, disc_loss=-1.39, gen_loss=0.339, gp=0.00411]   \n"
     ]
    },
    {
     "name": "stdout",
     "output_type": "stream",
     "text": [
      "EPOCH: 20/50\n"
     ]
    },
    {
     "name": "stderr",
     "output_type": "stream",
     "text": [
      "100%|██████████| 1625/1625 [25:04<00:00,  1.08it/s, disc_loss=0.25, gen_loss=-.181, gp=0.00316]    \n"
     ]
    },
    {
     "name": "stdout",
     "output_type": "stream",
     "text": [
      "EPOCH: 21/50\n"
     ]
    },
    {
     "name": "stderr",
     "output_type": "stream",
     "text": [
      "100%|██████████| 1625/1625 [25:04<00:00,  1.08it/s, disc_loss=-.915, gen_loss=-.312, gp=0.00321]  \n"
     ]
    },
    {
     "name": "stdout",
     "output_type": "stream",
     "text": [
      "EPOCH: 22/50\n"
     ]
    },
    {
     "name": "stderr",
     "output_type": "stream",
     "text": [
      "100%|██████████| 1625/1625 [25:04<00:00,  1.08it/s, disc_loss=-1.19, gen_loss=3.29, gp=0.00271]   \n"
     ]
    },
    {
     "name": "stdout",
     "output_type": "stream",
     "text": [
      "EPOCH: 23/50\n"
     ]
    },
    {
     "name": "stderr",
     "output_type": "stream",
     "text": [
      "100%|██████████| 1625/1625 [25:04<00:00,  1.08it/s, disc_loss=-.926, gen_loss=-.283, gp=0.00442]  \n"
     ]
    },
    {
     "name": "stdout",
     "output_type": "stream",
     "text": [
      "EPOCH: 24/50\n"
     ]
    },
    {
     "name": "stderr",
     "output_type": "stream",
     "text": [
      "100%|██████████| 1625/1625 [25:04<00:00,  1.08it/s, disc_loss=-.792, gen_loss=0.912, gp=0.00594]  \n"
     ]
    },
    {
     "name": "stdout",
     "output_type": "stream",
     "text": [
      "EPOCH: 25/50\n"
     ]
    },
    {
     "name": "stderr",
     "output_type": "stream",
     "text": [
      "100%|██████████| 1625/1625 [25:04<00:00,  1.08it/s, disc_loss=-1.02, gen_loss=2.77, gp=0.00341]   \n"
     ]
    },
    {
     "name": "stdout",
     "output_type": "stream",
     "text": [
      "EPOCH: 26/50\n"
     ]
    },
    {
     "name": "stderr",
     "output_type": "stream",
     "text": [
      "100%|██████████| 1625/1625 [25:04<00:00,  1.08it/s, disc_loss=-1.03, gen_loss=1.74, gp=0.00347]    \n"
     ]
    },
    {
     "name": "stdout",
     "output_type": "stream",
     "text": [
      "EPOCH: 27/50\n"
     ]
    },
    {
     "name": "stderr",
     "output_type": "stream",
     "text": [
      "100%|██████████| 1625/1625 [25:04<00:00,  1.08it/s, disc_loss=-.323, gen_loss=3.18, gp=0.00257]   \n"
     ]
    },
    {
     "name": "stdout",
     "output_type": "stream",
     "text": [
      "EPOCH: 28/50\n"
     ]
    },
    {
     "name": "stderr",
     "output_type": "stream",
     "text": [
      "100%|██████████| 1625/1625 [25:04<00:00,  1.08it/s, disc_loss=-.227, gen_loss=-1.35, gp=0.00529]    \n"
     ]
    },
    {
     "name": "stdout",
     "output_type": "stream",
     "text": [
      "EPOCH: 29/50\n"
     ]
    },
    {
     "name": "stderr",
     "output_type": "stream",
     "text": [
      "100%|██████████| 1625/1625 [25:04<00:00,  1.08it/s, disc_loss=0.442, gen_loss=-1.19, gp=0.00504]   \n"
     ]
    },
    {
     "name": "stdout",
     "output_type": "stream",
     "text": [
      "EPOCH: 30/50\n"
     ]
    },
    {
     "name": "stderr",
     "output_type": "stream",
     "text": [
      "100%|██████████| 1625/1625 [25:04<00:00,  1.08it/s, disc_loss=-.757, gen_loss=0.989, gp=0.00141]  \n"
     ]
    },
    {
     "name": "stdout",
     "output_type": "stream",
     "text": [
      "EPOCH: 31/50\n"
     ]
    },
    {
     "name": "stderr",
     "output_type": "stream",
     "text": [
      "100%|██████████| 1625/1625 [25:04<00:00,  1.08it/s, disc_loss=0.283, gen_loss=2.32, gp=0.00313]   \n"
     ]
    },
    {
     "name": "stdout",
     "output_type": "stream",
     "text": [
      "EPOCH: 32/50\n"
     ]
    },
    {
     "name": "stderr",
     "output_type": "stream",
     "text": [
      "100%|██████████| 1625/1625 [25:04<00:00,  1.08it/s, disc_loss=-1.15, gen_loss=-1.67, gp=0.00381]  \n"
     ]
    },
    {
     "name": "stdout",
     "output_type": "stream",
     "text": [
      "EPOCH: 33/50\n"
     ]
    },
    {
     "name": "stderr",
     "output_type": "stream",
     "text": [
      "100%|██████████| 1625/1625 [25:04<00:00,  1.08it/s, disc_loss=-.242, gen_loss=-2.07, gp=0.00773]   \n"
     ]
    },
    {
     "name": "stdout",
     "output_type": "stream",
     "text": [
      "EPOCH: 34/50\n"
     ]
    },
    {
     "name": "stderr",
     "output_type": "stream",
     "text": [
      "100%|██████████| 1625/1625 [25:04<00:00,  1.08it/s, disc_loss=-.963, gen_loss=2.97, gp=0.00151]   \n"
     ]
    },
    {
     "name": "stdout",
     "output_type": "stream",
     "text": [
      "EPOCH: 35/50\n"
     ]
    },
    {
     "name": "stderr",
     "output_type": "stream",
     "text": [
      "100%|██████████| 1625/1625 [25:04<00:00,  1.08it/s, disc_loss=0.517, gen_loss=-2.05, gp=0.00701]  \n"
     ]
    },
    {
     "name": "stdout",
     "output_type": "stream",
     "text": [
      "EPOCH: 36/50\n"
     ]
    },
    {
     "name": "stderr",
     "output_type": "stream",
     "text": [
      "100%|██████████| 1625/1625 [25:05<00:00,  1.08it/s, disc_loss=-1.1, gen_loss=1.57, gp=0.00637]    \n"
     ]
    },
    {
     "name": "stdout",
     "output_type": "stream",
     "text": [
      "EPOCH: 37/50\n"
     ]
    },
    {
     "name": "stderr",
     "output_type": "stream",
     "text": [
      "100%|██████████| 1625/1625 [25:06<00:00,  1.08it/s, disc_loss=-2.03, gen_loss=-2.59, gp=0.0061]    \n"
     ]
    },
    {
     "name": "stdout",
     "output_type": "stream",
     "text": [
      "EPOCH: 38/50\n"
     ]
    },
    {
     "name": "stderr",
     "output_type": "stream",
     "text": [
      "100%|██████████| 1625/1625 [25:06<00:00,  1.08it/s, disc_loss=-.941, gen_loss=3.9, gp=0.00265]    \n"
     ]
    },
    {
     "name": "stdout",
     "output_type": "stream",
     "text": [
      "EPOCH: 39/50\n"
     ]
    },
    {
     "name": "stderr",
     "output_type": "stream",
     "text": [
      "100%|██████████| 1625/1625 [25:06<00:00,  1.08it/s, disc_loss=-.36, gen_loss=0.341, gp=0.00405]   \n"
     ]
    },
    {
     "name": "stdout",
     "output_type": "stream",
     "text": [
      "EPOCH: 40/50\n"
     ]
    },
    {
     "name": "stderr",
     "output_type": "stream",
     "text": [
      "100%|██████████| 1625/1625 [25:06<00:00,  1.08it/s, disc_loss=0.177, gen_loss=0.000462, gp=0.00909]\n"
     ]
    },
    {
     "name": "stdout",
     "output_type": "stream",
     "text": [
      "EPOCH: 41/50\n"
     ]
    },
    {
     "name": "stderr",
     "output_type": "stream",
     "text": [
      "100%|██████████| 1625/1625 [25:06<00:00,  1.08it/s, disc_loss=-.659, gen_loss=-.173, gp=0.0138]   \n"
     ]
    },
    {
     "name": "stdout",
     "output_type": "stream",
     "text": [
      "EPOCH: 42/50\n"
     ]
    },
    {
     "name": "stderr",
     "output_type": "stream",
     "text": [
      "100%|██████████| 1625/1625 [24:31<00:00,  1.10it/s, disc_loss=-.127, gen_loss=0.778, gp=0.00351]   \n"
     ]
    },
    {
     "name": "stdout",
     "output_type": "stream",
     "text": [
      "EPOCH: 43/50\n"
     ]
    },
    {
     "name": "stderr",
     "output_type": "stream",
     "text": [
      "100%|██████████| 1625/1625 [25:33<00:00,  1.06it/s, disc_loss=-.973, gen_loss=1.38, gp=0.00199]     \n"
     ]
    },
    {
     "name": "stdout",
     "output_type": "stream",
     "text": [
      "EPOCH: 44/50\n"
     ]
    },
    {
     "name": "stderr",
     "output_type": "stream",
     "text": [
      "100%|██████████| 1625/1625 [25:54<00:00,  1.05it/s, disc_loss=-.778, gen_loss=-1.21, gp=0.00806]  \n"
     ]
    },
    {
     "name": "stdout",
     "output_type": "stream",
     "text": [
      "EPOCH: 45/50\n"
     ]
    },
    {
     "name": "stderr",
     "output_type": "stream",
     "text": [
      "100%|██████████| 1625/1625 [24:28<00:00,  1.11it/s, disc_loss=-1.29, gen_loss=4.46, gp=0.0145]    \n"
     ]
    },
    {
     "name": "stdout",
     "output_type": "stream",
     "text": [
      "EPOCH: 46/50\n"
     ]
    },
    {
     "name": "stderr",
     "output_type": "stream",
     "text": [
      "100%|██████████| 1625/1625 [24:20<00:00,  1.11it/s, disc_loss=1.55, gen_loss=-2.2, gp=0.00411]    \n"
     ]
    },
    {
     "name": "stdout",
     "output_type": "stream",
     "text": [
      "EPOCH: 47/50\n"
     ]
    },
    {
     "name": "stderr",
     "output_type": "stream",
     "text": [
      "100%|██████████| 1625/1625 [24:18<00:00,  1.11it/s, disc_loss=-1.79, gen_loss=1.57, gp=0.00381]   \n"
     ]
    },
    {
     "name": "stdout",
     "output_type": "stream",
     "text": [
      "EPOCH: 48/50\n"
     ]
    },
    {
     "name": "stderr",
     "output_type": "stream",
     "text": [
      "100%|██████████| 1625/1625 [24:18<00:00,  1.11it/s, disc_loss=-1.21, gen_loss=4.13, gp=0.00232]   \n"
     ]
    },
    {
     "name": "stdout",
     "output_type": "stream",
     "text": [
      "EPOCH: 49/50\n"
     ]
    },
    {
     "name": "stderr",
     "output_type": "stream",
     "text": [
      "100%|██████████| 1625/1625 [24:23<00:00,  1.11it/s, disc_loss=-.832, gen_loss=-2.52, gp=0.00534]  \n"
     ]
    },
    {
     "name": "stdout",
     "output_type": "stream",
     "text": [
      "EPOCH: 50/50\n"
     ]
    },
    {
     "name": "stderr",
     "output_type": "stream",
     "text": [
      "100%|██████████| 1625/1625 [24:57<00:00,  1.09it/s, disc_loss=-1.03, gen_loss=3.19, gp=0.0054]    \n"
     ]
    }
   ],
   "source": [
    "DEVICE = torch.device(\"cuda\" if torch.cuda.is_available() else \"cpu\")\n",
    "\n",
    "args = {\n",
    "    \"Z_DIM\": 512,\n",
    "    \"W_DIM\": 512,\n",
    "    \"LAMBDA_GP\": 10,\n",
    "    \"EPOCHS\": [20, 20, 20, 50, 50, 75, 75, 100],\n",
    "    \"BATCH_SIZES\": [256, 256, 128, 64, 32, 16, 8, 4],\n",
    "    \"IMAGE_SIZES\": [4, 8, 16, 32, 64, 128, 256, 512],\n",
    "    \"STEP\": 4,\n",
    "}\n",
    "\n",
    "wandb.init(project=\"StyleGAN1\", entity=\"donghwankim\")\n",
    "\n",
    "wandb.run.name = f'ffhq/LAMBDA_GP:{args[\"LAMBDA_GP\"]}/z_dim:{args[\"Z_DIM\"]}/w_dim:{args[\"W_DIM\"]}/step:{args[\"STEP\"]}'\n",
    "wandb.save()\n",
    "\n",
    "wandb.config.update(args)\n",
    "\n",
    "train_step(\n",
    "    gen_state_dict=torch.load(f\"./state_dict/step{args['STEP']-1}/gen_state_dict.pt\"),\n",
    "    disc_state_dict=torch.load(f\"./state_dict/step{args['STEP']-1}/disc_state_dict.pt\"),\n",
    "    z_dim=args[\"Z_DIM\"],\n",
    "    w_dim=args[\"W_DIM\"],\n",
    "    step=args[\"STEP\"],\n",
    "    epochs=args[\"EPOCHS\"][args[\"STEP\"]],\n",
    "    lr=0.00005,\n",
    "    betas=(0.5, 0.99),\n",
    "    alpha=1e-7,\n",
    "    could_gp=True,\n",
    "    image_size=args[\"IMAGE_SIZES\"][args[\"STEP\"]],\n",
    "    dataset_root=\"/home/kdhsimplepro/kdhsimplepro/AI/ffhq/\",\n",
    "    batch_size=args[\"BATCH_SIZES\"][args[\"STEP\"]]\n",
    ")"
   ]
  },
  {
   "attachments": {},
   "cell_type": "markdown",
   "metadata": {},
   "source": [
    "### Step 5"
   ]
  },
  {
   "cell_type": "code",
   "execution_count": 6,
   "metadata": {},
   "outputs": [
    {
     "name": "stderr",
     "output_type": "stream",
     "text": [
      "\u001b[34m\u001b[1mwandb\u001b[0m: Currently logged in as: \u001b[33mdonghwankim\u001b[0m. Use \u001b[1m`wandb login --relogin`\u001b[0m to force relogin\n"
     ]
    },
    {
     "data": {
      "text/html": [
       "wandb version 0.13.9 is available!  To upgrade, please run:\n",
       " $ pip install wandb --upgrade"
      ],
      "text/plain": [
       "<IPython.core.display.HTML object>"
      ]
     },
     "metadata": {},
     "output_type": "display_data"
    },
    {
     "data": {
      "text/html": [
       "Tracking run with wandb version 0.13.7"
      ],
      "text/plain": [
       "<IPython.core.display.HTML object>"
      ]
     },
     "metadata": {},
     "output_type": "display_data"
    },
    {
     "data": {
      "text/html": [
       "Run data is saved locally in <code>/home/kdhsimplepro/kdhsimplepro/AI/StyleGAN1/wandb/run-20230130_182737-2ei7huiw</code>"
      ],
      "text/plain": [
       "<IPython.core.display.HTML object>"
      ]
     },
     "metadata": {},
     "output_type": "display_data"
    },
    {
     "data": {
      "text/html": [
       "Syncing run <strong><a href=\"https://wandb.ai/donghwankim/StyleGAN1/runs/2ei7huiw\" target=\"_blank\">brilliant-rat-66</a></strong> to <a href=\"https://wandb.ai/donghwankim/StyleGAN1\" target=\"_blank\">Weights & Biases</a> (<a href=\"https://wandb.me/run\" target=\"_blank\">docs</a>)<br/>"
      ],
      "text/plain": [
       "<IPython.core.display.HTML object>"
      ]
     },
     "metadata": {},
     "output_type": "display_data"
    },
    {
     "name": "stderr",
     "output_type": "stream",
     "text": [
      "\u001b[34m\u001b[1mwandb\u001b[0m: \u001b[33mWARNING\u001b[0m Calling wandb.run.save without any arguments is deprecated.Changes to attributes are automatically persisted.\n"
     ]
    },
    {
     "name": "stdout",
     "output_type": "stream",
     "text": [
      "\n",
      "\n",
      "Image Size: 128x128\n",
      "\n",
      "EPOCH: 1/75\n"
     ]
    },
    {
     "name": "stderr",
     "output_type": "stream",
     "text": [
      "100%|██████████| 3250/3250 [46:26<00:00,  1.17it/s, disc_loss=-1.07, gen_loss=4.71, gp=0.00954]  \n"
     ]
    },
    {
     "name": "stdout",
     "output_type": "stream",
     "text": [
      "EPOCH: 2/75\n"
     ]
    },
    {
     "name": "stderr",
     "output_type": "stream",
     "text": [
      "100%|██████████| 3250/3250 [46:20<00:00,  1.17it/s, disc_loss=-2.5, gen_loss=7.06, gp=0.016]      \n"
     ]
    },
    {
     "name": "stdout",
     "output_type": "stream",
     "text": [
      "EPOCH: 3/75\n"
     ]
    },
    {
     "name": "stderr",
     "output_type": "stream",
     "text": [
      "100%|██████████| 3250/3250 [46:22<00:00,  1.17it/s, disc_loss=-4.38, gen_loss=-1.67, gp=0.0384]    \n"
     ]
    },
    {
     "name": "stdout",
     "output_type": "stream",
     "text": [
      "EPOCH: 4/75\n"
     ]
    },
    {
     "name": "stderr",
     "output_type": "stream",
     "text": [
      "100%|██████████| 3250/3250 [46:15<00:00,  1.17it/s, disc_loss=-3.62, gen_loss=7.3, gp=0.00558]    \n"
     ]
    },
    {
     "name": "stdout",
     "output_type": "stream",
     "text": [
      "EPOCH: 5/75\n"
     ]
    },
    {
     "name": "stderr",
     "output_type": "stream",
     "text": [
      "100%|██████████| 3250/3250 [46:16<00:00,  1.17it/s, disc_loss=-6.51, gen_loss=12.1, gp=0.00634]    \n"
     ]
    },
    {
     "name": "stdout",
     "output_type": "stream",
     "text": [
      "EPOCH: 6/75\n"
     ]
    },
    {
     "name": "stderr",
     "output_type": "stream",
     "text": [
      "100%|██████████| 3250/3250 [46:16<00:00,  1.17it/s, disc_loss=-2.34, gen_loss=6.5, gp=0.00538]    \n"
     ]
    },
    {
     "name": "stdout",
     "output_type": "stream",
     "text": [
      "EPOCH: 7/75\n"
     ]
    },
    {
     "name": "stderr",
     "output_type": "stream",
     "text": [
      "100%|██████████| 3250/3250 [46:15<00:00,  1.17it/s, disc_loss=-5.95, gen_loss=7.29, gp=0.00917]   \n"
     ]
    },
    {
     "name": "stdout",
     "output_type": "stream",
     "text": [
      "EPOCH: 8/75\n"
     ]
    },
    {
     "name": "stderr",
     "output_type": "stream",
     "text": [
      "100%|██████████| 3250/3250 [46:14<00:00,  1.17it/s, disc_loss=0.239, gen_loss=-.445, gp=0.00874]   \n"
     ]
    },
    {
     "name": "stdout",
     "output_type": "stream",
     "text": [
      "EPOCH: 9/75\n"
     ]
    },
    {
     "name": "stderr",
     "output_type": "stream",
     "text": [
      "100%|██████████| 3250/3250 [46:15<00:00,  1.17it/s, disc_loss=-1.45, gen_loss=7.35, gp=0.00816]    \n"
     ]
    },
    {
     "name": "stdout",
     "output_type": "stream",
     "text": [
      "EPOCH: 10/75\n"
     ]
    },
    {
     "name": "stderr",
     "output_type": "stream",
     "text": [
      "100%|██████████| 3250/3250 [46:15<00:00,  1.17it/s, disc_loss=-5.72, gen_loss=-.978, gp=0.0118]   \n"
     ]
    },
    {
     "name": "stdout",
     "output_type": "stream",
     "text": [
      "EPOCH: 11/75\n"
     ]
    },
    {
     "name": "stderr",
     "output_type": "stream",
     "text": [
      "100%|██████████| 3250/3250 [46:14<00:00,  1.17it/s, disc_loss=-1.64, gen_loss=0.846, gp=0.00548]  \n"
     ]
    },
    {
     "name": "stdout",
     "output_type": "stream",
     "text": [
      "EPOCH: 12/75\n"
     ]
    },
    {
     "name": "stderr",
     "output_type": "stream",
     "text": [
      "100%|██████████| 3250/3250 [46:14<00:00,  1.17it/s, disc_loss=-2.3, gen_loss=-.461, gp=0.00283]   \n"
     ]
    },
    {
     "name": "stdout",
     "output_type": "stream",
     "text": [
      "EPOCH: 13/75\n"
     ]
    },
    {
     "name": "stderr",
     "output_type": "stream",
     "text": [
      "100%|██████████| 3250/3250 [46:14<00:00,  1.17it/s, disc_loss=1.42, gen_loss=12.1, gp=0.00701]    \n"
     ]
    },
    {
     "name": "stdout",
     "output_type": "stream",
     "text": [
      "EPOCH: 14/75\n"
     ]
    },
    {
     "name": "stderr",
     "output_type": "stream",
     "text": [
      "100%|██████████| 3250/3250 [46:14<00:00,  1.17it/s, disc_loss=-.822, gen_loss=13.2, gp=0.00697]    \n"
     ]
    },
    {
     "name": "stdout",
     "output_type": "stream",
     "text": [
      "EPOCH: 15/75\n"
     ]
    },
    {
     "name": "stderr",
     "output_type": "stream",
     "text": [
      "100%|██████████| 3250/3250 [46:14<00:00,  1.17it/s, disc_loss=-.292, gen_loss=-5.04, gp=0.00335]  \n"
     ]
    },
    {
     "name": "stdout",
     "output_type": "stream",
     "text": [
      "EPOCH: 16/75\n"
     ]
    },
    {
     "name": "stderr",
     "output_type": "stream",
     "text": [
      "100%|██████████| 3250/3250 [46:15<00:00,  1.17it/s, disc_loss=0.423, gen_loss=1.35, gp=0.0073]     \n"
     ]
    },
    {
     "name": "stdout",
     "output_type": "stream",
     "text": [
      "EPOCH: 17/75\n"
     ]
    },
    {
     "name": "stderr",
     "output_type": "stream",
     "text": [
      "100%|██████████| 3250/3250 [46:14<00:00,  1.17it/s, disc_loss=-2.44, gen_loss=1.33, gp=0.0071]    \n"
     ]
    },
    {
     "name": "stdout",
     "output_type": "stream",
     "text": [
      "EPOCH: 18/75\n"
     ]
    },
    {
     "name": "stderr",
     "output_type": "stream",
     "text": [
      "100%|██████████| 3250/3250 [46:14<00:00,  1.17it/s, disc_loss=-2.15, gen_loss=6.21, gp=0.00687]   \n"
     ]
    },
    {
     "name": "stdout",
     "output_type": "stream",
     "text": [
      "EPOCH: 19/75\n"
     ]
    },
    {
     "name": "stderr",
     "output_type": "stream",
     "text": [
      "100%|██████████| 3250/3250 [46:15<00:00,  1.17it/s, disc_loss=-2.19, gen_loss=-1.72, gp=0.00929]  \n"
     ]
    },
    {
     "name": "stdout",
     "output_type": "stream",
     "text": [
      "EPOCH: 20/75\n"
     ]
    },
    {
     "name": "stderr",
     "output_type": "stream",
     "text": [
      "100%|██████████| 3250/3250 [46:13<00:00,  1.17it/s, disc_loss=1.61, gen_loss=3.18, gp=0.00664]    \n"
     ]
    },
    {
     "name": "stdout",
     "output_type": "stream",
     "text": [
      "EPOCH: 21/75\n"
     ]
    },
    {
     "name": "stderr",
     "output_type": "stream",
     "text": [
      "100%|██████████| 3250/3250 [46:15<00:00,  1.17it/s, disc_loss=-4.75, gen_loss=1.2, gp=0.0735]     \n"
     ]
    },
    {
     "name": "stdout",
     "output_type": "stream",
     "text": [
      "EPOCH: 22/75\n"
     ]
    },
    {
     "name": "stderr",
     "output_type": "stream",
     "text": [
      "100%|██████████| 3250/3250 [46:14<00:00,  1.17it/s, disc_loss=-2.55, gen_loss=3.74, gp=0.00426]   \n"
     ]
    },
    {
     "name": "stdout",
     "output_type": "stream",
     "text": [
      "EPOCH: 23/75\n"
     ]
    },
    {
     "name": "stderr",
     "output_type": "stream",
     "text": [
      "100%|██████████| 3250/3250 [46:14<00:00,  1.17it/s, disc_loss=-1.63, gen_loss=0.869, gp=0.0315]    \n"
     ]
    },
    {
     "name": "stdout",
     "output_type": "stream",
     "text": [
      "EPOCH: 24/75\n"
     ]
    },
    {
     "name": "stderr",
     "output_type": "stream",
     "text": [
      "100%|██████████| 3250/3250 [46:17<00:00,  1.17it/s, disc_loss=0.755, gen_loss=5.48, gp=0.00721]   \n"
     ]
    },
    {
     "name": "stdout",
     "output_type": "stream",
     "text": [
      "EPOCH: 25/75\n"
     ]
    },
    {
     "name": "stderr",
     "output_type": "stream",
     "text": [
      "100%|██████████| 3250/3250 [46:23<00:00,  1.17it/s, disc_loss=2.07, gen_loss=5.33, gp=0.0102]      \n"
     ]
    },
    {
     "name": "stdout",
     "output_type": "stream",
     "text": [
      "EPOCH: 26/75\n"
     ]
    },
    {
     "name": "stderr",
     "output_type": "stream",
     "text": [
      "100%|██████████| 3250/3250 [46:21<00:00,  1.17it/s, disc_loss=-2.35, gen_loss=-3.6, gp=0.00611]   \n"
     ]
    },
    {
     "name": "stdout",
     "output_type": "stream",
     "text": [
      "EPOCH: 27/75\n"
     ]
    },
    {
     "name": "stderr",
     "output_type": "stream",
     "text": [
      "100%|██████████| 3250/3250 [46:19<00:00,  1.17it/s, disc_loss=-1.47, gen_loss=3.37, gp=0.00417]   \n"
     ]
    },
    {
     "name": "stdout",
     "output_type": "stream",
     "text": [
      "EPOCH: 28/75\n"
     ]
    },
    {
     "name": "stderr",
     "output_type": "stream",
     "text": [
      "100%|██████████| 3250/3250 [46:21<00:00,  1.17it/s, disc_loss=-1.12, gen_loss=-4.26, gp=0.0199]   \n"
     ]
    },
    {
     "name": "stdout",
     "output_type": "stream",
     "text": [
      "EPOCH: 29/75\n"
     ]
    },
    {
     "name": "stderr",
     "output_type": "stream",
     "text": [
      "100%|██████████| 3250/3250 [46:21<00:00,  1.17it/s, disc_loss=1.13, gen_loss=-.245, gp=0.00365]   \n"
     ]
    },
    {
     "name": "stdout",
     "output_type": "stream",
     "text": [
      "EPOCH: 30/75\n"
     ]
    },
    {
     "name": "stderr",
     "output_type": "stream",
     "text": [
      "100%|██████████| 3250/3250 [46:21<00:00,  1.17it/s, disc_loss=-5.77, gen_loss=0.986, gp=0.00403]  \n"
     ]
    },
    {
     "name": "stdout",
     "output_type": "stream",
     "text": [
      "EPOCH: 31/75\n"
     ]
    },
    {
     "name": "stderr",
     "output_type": "stream",
     "text": [
      "100%|██████████| 3250/3250 [46:21<00:00,  1.17it/s, disc_loss=1.61, gen_loss=1.65, gp=0.00574]    \n"
     ]
    },
    {
     "name": "stdout",
     "output_type": "stream",
     "text": [
      "EPOCH: 32/75\n"
     ]
    },
    {
     "name": "stderr",
     "output_type": "stream",
     "text": [
      "100%|██████████| 3250/3250 [46:20<00:00,  1.17it/s, disc_loss=-2.33, gen_loss=-.661, gp=0.00366]  \n"
     ]
    },
    {
     "name": "stdout",
     "output_type": "stream",
     "text": [
      "EPOCH: 33/75\n"
     ]
    },
    {
     "name": "stderr",
     "output_type": "stream",
     "text": [
      "100%|██████████| 3250/3250 [46:19<00:00,  1.17it/s, disc_loss=-1.57, gen_loss=-2.87, gp=0.00618]   \n"
     ]
    },
    {
     "name": "stdout",
     "output_type": "stream",
     "text": [
      "EPOCH: 34/75\n"
     ]
    },
    {
     "name": "stderr",
     "output_type": "stream",
     "text": [
      "100%|██████████| 3250/3250 [46:21<00:00,  1.17it/s, disc_loss=-2.66, gen_loss=-4.38, gp=0.00771]   \n"
     ]
    },
    {
     "name": "stdout",
     "output_type": "stream",
     "text": [
      "EPOCH: 35/75\n"
     ]
    },
    {
     "name": "stderr",
     "output_type": "stream",
     "text": [
      "100%|██████████| 3250/3250 [46:21<00:00,  1.17it/s, disc_loss=-.797, gen_loss=3.1, gp=0.0159]     \n"
     ]
    },
    {
     "name": "stdout",
     "output_type": "stream",
     "text": [
      "EPOCH: 36/75\n"
     ]
    },
    {
     "name": "stderr",
     "output_type": "stream",
     "text": [
      "100%|██████████| 3250/3250 [46:19<00:00,  1.17it/s, disc_loss=-2.13, gen_loss=3.2, gp=0.00637]    \n"
     ]
    },
    {
     "name": "stdout",
     "output_type": "stream",
     "text": [
      "EPOCH: 37/75\n"
     ]
    },
    {
     "name": "stderr",
     "output_type": "stream",
     "text": [
      "100%|██████████| 3250/3250 [46:20<00:00,  1.17it/s, disc_loss=-6.17, gen_loss=-.564, gp=0.00392]   \n"
     ]
    },
    {
     "name": "stdout",
     "output_type": "stream",
     "text": [
      "EPOCH: 38/75\n"
     ]
    },
    {
     "name": "stderr",
     "output_type": "stream",
     "text": [
      "100%|██████████| 3250/3250 [46:20<00:00,  1.17it/s, disc_loss=0.769, gen_loss=-.587, gp=0.0044]    \n"
     ]
    },
    {
     "name": "stdout",
     "output_type": "stream",
     "text": [
      "EPOCH: 39/75\n"
     ]
    },
    {
     "name": "stderr",
     "output_type": "stream",
     "text": [
      "100%|██████████| 3250/3250 [46:21<00:00,  1.17it/s, disc_loss=-4.46, gen_loss=-2.7, gp=0.00494]    \n"
     ]
    },
    {
     "name": "stdout",
     "output_type": "stream",
     "text": [
      "EPOCH: 40/75\n"
     ]
    },
    {
     "name": "stderr",
     "output_type": "stream",
     "text": [
      "100%|██████████| 3250/3250 [46:19<00:00,  1.17it/s, disc_loss=-3.54, gen_loss=6.09, gp=0.0234]    \n"
     ]
    },
    {
     "name": "stdout",
     "output_type": "stream",
     "text": [
      "EPOCH: 41/75\n"
     ]
    },
    {
     "name": "stderr",
     "output_type": "stream",
     "text": [
      " 87%|████████▋ | 2831/3250 [40:22<05:56,  1.18it/s, disc_loss=1.71, gen_loss=-.532, gp=0.00698]   wandb: Network error (ReadTimeout), entering retry loop.\n",
      "100%|██████████| 3250/3250 [46:20<00:00,  1.17it/s, disc_loss=-2.09, gen_loss=-2.76, gp=0.00642]  \n"
     ]
    },
    {
     "name": "stdout",
     "output_type": "stream",
     "text": [
      "EPOCH: 42/75\n"
     ]
    },
    {
     "name": "stderr",
     "output_type": "stream",
     "text": [
      "100%|██████████| 3250/3250 [46:20<00:00,  1.17it/s, disc_loss=-1.27, gen_loss=1.2, gp=0.0204]      \n"
     ]
    },
    {
     "name": "stdout",
     "output_type": "stream",
     "text": [
      "EPOCH: 43/75\n"
     ]
    },
    {
     "name": "stderr",
     "output_type": "stream",
     "text": [
      "100%|██████████| 3250/3250 [46:22<00:00,  1.17it/s, disc_loss=-1.63, gen_loss=-.686, gp=0.0353]   \n"
     ]
    },
    {
     "name": "stdout",
     "output_type": "stream",
     "text": [
      "EPOCH: 44/75\n"
     ]
    },
    {
     "name": "stderr",
     "output_type": "stream",
     "text": [
      "100%|██████████| 3250/3250 [46:21<00:00,  1.17it/s, disc_loss=-1.25, gen_loss=-2.26, gp=0.0265]    \n"
     ]
    },
    {
     "name": "stdout",
     "output_type": "stream",
     "text": [
      "EPOCH: 45/75\n"
     ]
    },
    {
     "name": "stderr",
     "output_type": "stream",
     "text": [
      "100%|██████████| 3250/3250 [46:17<00:00,  1.17it/s, disc_loss=-.922, gen_loss=7.22, gp=0.00561]   \n"
     ]
    },
    {
     "name": "stdout",
     "output_type": "stream",
     "text": [
      "EPOCH: 46/75\n"
     ]
    },
    {
     "name": "stderr",
     "output_type": "stream",
     "text": [
      "100%|██████████| 3250/3250 [46:21<00:00,  1.17it/s, disc_loss=0.735, gen_loss=-3.73, gp=0.0115]    \n"
     ]
    },
    {
     "name": "stdout",
     "output_type": "stream",
     "text": [
      "EPOCH: 47/75\n"
     ]
    },
    {
     "name": "stderr",
     "output_type": "stream",
     "text": [
      "100%|██████████| 3250/3250 [46:20<00:00,  1.17it/s, disc_loss=-.769, gen_loss=0.00694, gp=0.0246] \n"
     ]
    },
    {
     "name": "stdout",
     "output_type": "stream",
     "text": [
      "EPOCH: 48/75\n"
     ]
    },
    {
     "name": "stderr",
     "output_type": "stream",
     "text": [
      "100%|██████████| 3250/3250 [46:20<00:00,  1.17it/s, disc_loss=-1.73, gen_loss=3.28, gp=0.0422]     \n"
     ]
    },
    {
     "name": "stdout",
     "output_type": "stream",
     "text": [
      "EPOCH: 49/75\n"
     ]
    },
    {
     "name": "stderr",
     "output_type": "stream",
     "text": [
      "100%|██████████| 3250/3250 [46:21<00:00,  1.17it/s, disc_loss=-1.17, gen_loss=0.0295, gp=0.00566] \n"
     ]
    },
    {
     "name": "stdout",
     "output_type": "stream",
     "text": [
      "EPOCH: 50/75\n"
     ]
    },
    {
     "name": "stderr",
     "output_type": "stream",
     "text": [
      "100%|██████████| 3250/3250 [46:21<00:00,  1.17it/s, disc_loss=1.43, gen_loss=5.82, gp=0.00258]    \n"
     ]
    },
    {
     "name": "stdout",
     "output_type": "stream",
     "text": [
      "EPOCH: 51/75\n"
     ]
    },
    {
     "name": "stderr",
     "output_type": "stream",
     "text": [
      "100%|██████████| 3250/3250 [46:21<00:00,  1.17it/s, disc_loss=-.927, gen_loss=9.99, gp=0.00565]   \n"
     ]
    },
    {
     "name": "stdout",
     "output_type": "stream",
     "text": [
      "EPOCH: 52/75\n"
     ]
    },
    {
     "name": "stderr",
     "output_type": "stream",
     "text": [
      "100%|██████████| 3250/3250 [46:22<00:00,  1.17it/s, disc_loss=-1.77, gen_loss=0.668, gp=0.00397]  \n"
     ]
    },
    {
     "name": "stdout",
     "output_type": "stream",
     "text": [
      "EPOCH: 53/75\n"
     ]
    },
    {
     "name": "stderr",
     "output_type": "stream",
     "text": [
      "100%|██████████| 3250/3250 [46:22<00:00,  1.17it/s, disc_loss=1.87, gen_loss=2.4, gp=0.0674]      \n"
     ]
    },
    {
     "name": "stdout",
     "output_type": "stream",
     "text": [
      "EPOCH: 54/75\n"
     ]
    },
    {
     "name": "stderr",
     "output_type": "stream",
     "text": [
      "100%|██████████| 3250/3250 [46:19<00:00,  1.17it/s, disc_loss=-2.1, gen_loss=1.98, gp=0.00537]    \n"
     ]
    },
    {
     "name": "stdout",
     "output_type": "stream",
     "text": [
      "EPOCH: 55/75\n"
     ]
    },
    {
     "name": "stderr",
     "output_type": "stream",
     "text": [
      "100%|██████████| 3250/3250 [46:09<00:00,  1.17it/s, disc_loss=-5.03, gen_loss=3.05, gp=0.0063]       \n"
     ]
    },
    {
     "name": "stdout",
     "output_type": "stream",
     "text": [
      "EPOCH: 56/75\n"
     ]
    },
    {
     "name": "stderr",
     "output_type": "stream",
     "text": [
      "100%|██████████| 3250/3250 [45:51<00:00,  1.18it/s, disc_loss=-1.19, gen_loss=-5.13, gp=0.018]     \n"
     ]
    },
    {
     "name": "stdout",
     "output_type": "stream",
     "text": [
      "EPOCH: 57/75\n"
     ]
    },
    {
     "name": "stderr",
     "output_type": "stream",
     "text": [
      "100%|██████████| 3250/3250 [46:12<00:00,  1.17it/s, disc_loss=-2.05, gen_loss=10.7, gp=0.0109]    \n"
     ]
    },
    {
     "name": "stdout",
     "output_type": "stream",
     "text": [
      "EPOCH: 58/75\n"
     ]
    },
    {
     "name": "stderr",
     "output_type": "stream",
     "text": [
      "100%|██████████| 3250/3250 [45:59<00:00,  1.18it/s, disc_loss=-2.52, gen_loss=11, gp=0.00269]     \n"
     ]
    },
    {
     "name": "stdout",
     "output_type": "stream",
     "text": [
      "EPOCH: 59/75\n"
     ]
    },
    {
     "name": "stderr",
     "output_type": "stream",
     "text": [
      "100%|██████████| 3250/3250 [45:58<00:00,  1.18it/s, disc_loss=-2.27, gen_loss=4.95, gp=0.00256]   \n"
     ]
    },
    {
     "name": "stdout",
     "output_type": "stream",
     "text": [
      "EPOCH: 60/75\n"
     ]
    },
    {
     "name": "stderr",
     "output_type": "stream",
     "text": [
      "100%|██████████| 3250/3250 [45:58<00:00,  1.18it/s, disc_loss=-1.69, gen_loss=-.93, gp=0.0155]    \n"
     ]
    },
    {
     "name": "stdout",
     "output_type": "stream",
     "text": [
      "EPOCH: 61/75\n"
     ]
    },
    {
     "name": "stderr",
     "output_type": "stream",
     "text": [
      "100%|██████████| 3250/3250 [46:21<00:00,  1.17it/s, disc_loss=-2.43, gen_loss=-2.61, gp=0.0244]    \n"
     ]
    },
    {
     "name": "stdout",
     "output_type": "stream",
     "text": [
      "EPOCH: 62/75\n"
     ]
    },
    {
     "name": "stderr",
     "output_type": "stream",
     "text": [
      "100%|██████████| 3250/3250 [46:02<00:00,  1.18it/s, disc_loss=-2.12, gen_loss=-5.11, gp=0.00461]  \n"
     ]
    },
    {
     "name": "stdout",
     "output_type": "stream",
     "text": [
      "EPOCH: 63/75\n"
     ]
    },
    {
     "name": "stderr",
     "output_type": "stream",
     "text": [
      "100%|██████████| 3250/3250 [46:05<00:00,  1.18it/s, disc_loss=0.958, gen_loss=7.65, gp=0.00143]   \n"
     ]
    },
    {
     "name": "stdout",
     "output_type": "stream",
     "text": [
      "EPOCH: 64/75\n"
     ]
    },
    {
     "name": "stderr",
     "output_type": "stream",
     "text": [
      "100%|██████████| 3250/3250 [45:56<00:00,  1.18it/s, disc_loss=-2.95, gen_loss=-3.04, gp=0.0175]   \n"
     ]
    },
    {
     "name": "stdout",
     "output_type": "stream",
     "text": [
      "EPOCH: 65/75\n"
     ]
    },
    {
     "name": "stderr",
     "output_type": "stream",
     "text": [
      "100%|██████████| 3250/3250 [45:57<00:00,  1.18it/s, disc_loss=-.396, gen_loss=3.73, gp=0.0318]    \n"
     ]
    },
    {
     "name": "stdout",
     "output_type": "stream",
     "text": [
      "EPOCH: 66/75\n"
     ]
    },
    {
     "name": "stderr",
     "output_type": "stream",
     "text": [
      "100%|██████████| 3250/3250 [45:59<00:00,  1.18it/s, disc_loss=-1.75, gen_loss=5.62, gp=0.0042]     \n"
     ]
    },
    {
     "name": "stdout",
     "output_type": "stream",
     "text": [
      "EPOCH: 67/75\n"
     ]
    },
    {
     "name": "stderr",
     "output_type": "stream",
     "text": [
      "100%|██████████| 3250/3250 [45:56<00:00,  1.18it/s, disc_loss=-.0181, gen_loss=2.99, gp=0.134]    \n"
     ]
    },
    {
     "name": "stdout",
     "output_type": "stream",
     "text": [
      "EPOCH: 68/75\n"
     ]
    },
    {
     "name": "stderr",
     "output_type": "stream",
     "text": [
      "100%|██████████| 3250/3250 [45:59<00:00,  1.18it/s, disc_loss=-.265, gen_loss=-4.73, gp=0.0104]   \n"
     ]
    },
    {
     "name": "stdout",
     "output_type": "stream",
     "text": [
      "EPOCH: 69/75\n"
     ]
    },
    {
     "name": "stderr",
     "output_type": "stream",
     "text": [
      "100%|██████████| 3250/3250 [45:55<00:00,  1.18it/s, disc_loss=-.852, gen_loss=1.1, gp=0.00377]     \n"
     ]
    },
    {
     "name": "stdout",
     "output_type": "stream",
     "text": [
      "EPOCH: 70/75\n"
     ]
    },
    {
     "name": "stderr",
     "output_type": "stream",
     "text": [
      "100%|██████████| 3250/3250 [45:56<00:00,  1.18it/s, disc_loss=1.64, gen_loss=4.42, gp=0.00532]    \n"
     ]
    },
    {
     "name": "stdout",
     "output_type": "stream",
     "text": [
      "EPOCH: 71/75\n"
     ]
    },
    {
     "name": "stderr",
     "output_type": "stream",
     "text": [
      "100%|██████████| 3250/3250 [45:55<00:00,  1.18it/s, disc_loss=-1.59, gen_loss=2.15, gp=0.00879]    \n"
     ]
    },
    {
     "name": "stdout",
     "output_type": "stream",
     "text": [
      "EPOCH: 72/75\n"
     ]
    },
    {
     "name": "stderr",
     "output_type": "stream",
     "text": [
      "100%|██████████| 3250/3250 [45:56<00:00,  1.18it/s, disc_loss=0.054, gen_loss=2.47, gp=0.00414]   \n"
     ]
    },
    {
     "name": "stdout",
     "output_type": "stream",
     "text": [
      "EPOCH: 73/75\n"
     ]
    },
    {
     "name": "stderr",
     "output_type": "stream",
     "text": [
      "100%|██████████| 3250/3250 [45:56<00:00,  1.18it/s, disc_loss=1.88, gen_loss=5.67, gp=0.0154]      \n"
     ]
    },
    {
     "name": "stdout",
     "output_type": "stream",
     "text": [
      "EPOCH: 74/75\n"
     ]
    },
    {
     "name": "stderr",
     "output_type": "stream",
     "text": [
      "100%|██████████| 3250/3250 [45:56<00:00,  1.18it/s, disc_loss=0.433, gen_loss=-1.16, gp=0.0107]    \n"
     ]
    },
    {
     "name": "stdout",
     "output_type": "stream",
     "text": [
      "EPOCH: 75/75\n"
     ]
    },
    {
     "name": "stderr",
     "output_type": "stream",
     "text": [
      "100%|██████████| 3250/3250 [45:57<00:00,  1.18it/s, disc_loss=-2.69, gen_loss=1.66, gp=0.00507]    \n"
     ]
    },
    {
     "name": "stderr",
     "output_type": "stream",
     "text": [
      "wandb: Network error (ConnectionError), entering retry loop.\n"
     ]
    }
   ],
   "source": [
    "DEVICE = torch.device(\"cuda\" if torch.cuda.is_available() else \"cpu\")\n",
    "\n",
    "args = {\n",
    "    \"Z_DIM\": 512,\n",
    "    \"W_DIM\": 512,\n",
    "    \"LAMBDA_GP\": 10,\n",
    "    \"EPOCHS\": [20, 20, 20, 50, 50, 75, 75, 100],\n",
    "    \"BATCH_SIZES\": [256, 256, 128, 64, 32, 16, 8, 4],\n",
    "    \"IMAGE_SIZES\": [4, 8, 16, 32, 64, 128, 256, 512],\n",
    "    \"STEP\": 5,\n",
    "}\n",
    "\n",
    "wandb.init(project=\"StyleGAN1\", entity=\"donghwankim\")\n",
    "\n",
    "wandb.run.name = f'ffhq/LAMBDA_GP:{args[\"LAMBDA_GP\"]}/z_dim:{args[\"Z_DIM\"]}/w_dim:{args[\"W_DIM\"]}/step:{args[\"STEP\"]}'\n",
    "wandb.save()\n",
    "\n",
    "wandb.config.update(args)\n",
    "\n",
    "train_step(\n",
    "    gen_state_dict=torch.load(f\"./state_dict/step{args['STEP']-1}/gen_state_dict.pt\"),\n",
    "    disc_state_dict=torch.load(f\"./state_dict/step{args['STEP']-1}/disc_state_dict.pt\"),\n",
    "    z_dim=args[\"Z_DIM\"],\n",
    "    w_dim=args[\"W_DIM\"],\n",
    "    step=args[\"STEP\"],\n",
    "    epochs=args[\"EPOCHS\"][args[\"STEP\"]],\n",
    "    lr=0.00004,\n",
    "    betas=(0.5, 0.99),\n",
    "    alpha=1e-7,\n",
    "    could_gp=True,\n",
    "    image_size=args[\"IMAGE_SIZES\"][args[\"STEP\"]],\n",
    "    dataset_root=\"/home/kdhsimplepro/kdhsimplepro/AI/ffhq/\",\n",
    "    batch_size=args[\"BATCH_SIZES\"][args[\"STEP\"]]\n",
    ")"
   ]
  },
  {
   "attachments": {},
   "cell_type": "markdown",
   "metadata": {},
   "source": [
    "### Step 6"
   ]
  },
  {
   "cell_type": "code",
   "execution_count": 4,
   "metadata": {},
   "outputs": [
    {
     "name": "stderr",
     "output_type": "stream",
     "text": [
      "\u001b[34m\u001b[1mwandb\u001b[0m: Currently logged in as: \u001b[33mdonghwankim\u001b[0m. Use \u001b[1m`wandb login --relogin`\u001b[0m to force relogin\n"
     ]
    },
    {
     "data": {
      "text/html": [
       "wandb version 0.13.9 is available!  To upgrade, please run:\n",
       " $ pip install wandb --upgrade"
      ],
      "text/plain": [
       "<IPython.core.display.HTML object>"
      ]
     },
     "metadata": {},
     "output_type": "display_data"
    },
    {
     "data": {
      "text/html": [
       "Tracking run with wandb version 0.13.7"
      ],
      "text/plain": [
       "<IPython.core.display.HTML object>"
      ]
     },
     "metadata": {},
     "output_type": "display_data"
    },
    {
     "data": {
      "text/html": [
       "Run data is saved locally in <code>/home/kdhsimplepro/kdhsimplepro/AI/StyleGAN1/wandb/run-20230202_104329-2qvoiait</code>"
      ],
      "text/plain": [
       "<IPython.core.display.HTML object>"
      ]
     },
     "metadata": {},
     "output_type": "display_data"
    },
    {
     "data": {
      "text/html": [
       "Syncing run <strong><a href=\"https://wandb.ai/donghwankim/StyleGAN1/runs/2qvoiait\" target=\"_blank\">abundant-springroll-67</a></strong> to <a href=\"https://wandb.ai/donghwankim/StyleGAN1\" target=\"_blank\">Weights & Biases</a> (<a href=\"https://wandb.me/run\" target=\"_blank\">docs</a>)<br/>"
      ],
      "text/plain": [
       "<IPython.core.display.HTML object>"
      ]
     },
     "metadata": {},
     "output_type": "display_data"
    },
    {
     "name": "stderr",
     "output_type": "stream",
     "text": [
      "\u001b[34m\u001b[1mwandb\u001b[0m: \u001b[33mWARNING\u001b[0m Calling wandb.run.save without any arguments is deprecated.Changes to attributes are automatically persisted.\n"
     ]
    },
    {
     "name": "stdout",
     "output_type": "stream",
     "text": [
      "\n",
      "\n",
      "Image Size: 256x256\n",
      "\n",
      "EPOCH: 1/75\n"
     ]
    },
    {
     "name": "stderr",
     "output_type": "stream",
     "text": [
      "100%|██████████| 6500/6500 [1:36:26<00:00,  1.12it/s, disc_loss=-.276, gen_loss=8.77, gp=0.00487]  \n"
     ]
    },
    {
     "name": "stdout",
     "output_type": "stream",
     "text": [
      "EPOCH: 2/75\n"
     ]
    },
    {
     "name": "stderr",
     "output_type": "stream",
     "text": [
      "100%|██████████| 6500/6500 [1:38:32<00:00,  1.10it/s, disc_loss=-1.7, gen_loss=-9.17, gp=0.131]     \n"
     ]
    },
    {
     "name": "stdout",
     "output_type": "stream",
     "text": [
      "EPOCH: 3/75\n"
     ]
    },
    {
     "name": "stderr",
     "output_type": "stream",
     "text": [
      "100%|██████████| 6500/6500 [1:38:32<00:00,  1.10it/s, disc_loss=-3.23, gen_loss=13.3, gp=0.0346]    \n"
     ]
    },
    {
     "name": "stdout",
     "output_type": "stream",
     "text": [
      "EPOCH: 4/75\n"
     ]
    },
    {
     "name": "stderr",
     "output_type": "stream",
     "text": [
      "100%|██████████| 6500/6500 [1:37:27<00:00,  1.11it/s, disc_loss=-5.29, gen_loss=6.34, gp=0.00929]    \n"
     ]
    },
    {
     "name": "stdout",
     "output_type": "stream",
     "text": [
      "EPOCH: 5/75\n"
     ]
    },
    {
     "name": "stderr",
     "output_type": "stream",
     "text": [
      "100%|██████████| 6500/6500 [1:38:28<00:00,  1.10it/s, disc_loss=-6.96, gen_loss=-.682, gp=0.0108]   \n"
     ]
    },
    {
     "name": "stdout",
     "output_type": "stream",
     "text": [
      "EPOCH: 6/75\n"
     ]
    },
    {
     "name": "stderr",
     "output_type": "stream",
     "text": [
      "100%|██████████| 6500/6500 [1:38:30<00:00,  1.10it/s, disc_loss=-3.42, gen_loss=-6.4, gp=0.0236]    \n"
     ]
    },
    {
     "name": "stdout",
     "output_type": "stream",
     "text": [
      "EPOCH: 7/75\n"
     ]
    },
    {
     "name": "stderr",
     "output_type": "stream",
     "text": [
      "100%|██████████| 6500/6500 [1:38:40<00:00,  1.10it/s, disc_loss=-6.71, gen_loss=7.05, gp=0.0654]    \n"
     ]
    },
    {
     "name": "stdout",
     "output_type": "stream",
     "text": [
      "EPOCH: 8/75\n"
     ]
    },
    {
     "name": "stderr",
     "output_type": "stream",
     "text": [
      "100%|██████████| 6500/6500 [1:38:19<00:00,  1.10it/s, disc_loss=-3.77, gen_loss=6.9, gp=0.00569]    \n"
     ]
    },
    {
     "name": "stdout",
     "output_type": "stream",
     "text": [
      "EPOCH: 9/75\n"
     ]
    },
    {
     "name": "stderr",
     "output_type": "stream",
     "text": [
      " 95%|█████████▍| 6146/6500 [1:32:58<05:20,  1.11it/s, disc_loss=-2.39, gen_loss=-2.09, gp=0.00838]  wandb: Network error (ReadTimeout), entering retry loop.\n",
      " 96%|█████████▌| 6251/6500 [1:34:34<03:45,  1.10it/s, disc_loss=-5.01, gen_loss=11.5, gp=0.0076]  wandb: Network error (ReadTimeout), entering retry loop.\n",
      "100%|██████████| 6500/6500 [1:38:20<00:00,  1.10it/s, disc_loss=-5.33, gen_loss=5.5, gp=0.00736]   \n"
     ]
    },
    {
     "name": "stdout",
     "output_type": "stream",
     "text": [
      "EPOCH: 10/75\n"
     ]
    },
    {
     "name": "stderr",
     "output_type": "stream",
     "text": [
      "100%|██████████| 6500/6500 [1:38:18<00:00,  1.10it/s, disc_loss=-10.2, gen_loss=2.16, gp=0.0772]     \n"
     ]
    },
    {
     "name": "stdout",
     "output_type": "stream",
     "text": [
      "EPOCH: 11/75\n"
     ]
    },
    {
     "name": "stderr",
     "output_type": "stream",
     "text": [
      "100%|██████████| 6500/6500 [1:38:20<00:00,  1.10it/s, disc_loss=1.42, gen_loss=7.75, gp=0.00336]    \n"
     ]
    },
    {
     "name": "stdout",
     "output_type": "stream",
     "text": [
      "EPOCH: 12/75\n"
     ]
    },
    {
     "name": "stderr",
     "output_type": "stream",
     "text": [
      "100%|██████████| 6500/6500 [1:38:20<00:00,  1.10it/s, disc_loss=-6.88, gen_loss=-3.85, gp=0.00788]  \n"
     ]
    },
    {
     "name": "stdout",
     "output_type": "stream",
     "text": [
      "EPOCH: 13/75\n"
     ]
    },
    {
     "name": "stderr",
     "output_type": "stream",
     "text": [
      "100%|██████████| 6500/6500 [1:38:20<00:00,  1.10it/s, disc_loss=6.55, gen_loss=2.25, gp=0.00228]    \n"
     ]
    },
    {
     "name": "stdout",
     "output_type": "stream",
     "text": [
      "EPOCH: 14/75\n"
     ]
    },
    {
     "name": "stderr",
     "output_type": "stream",
     "text": [
      "100%|██████████| 6500/6500 [1:38:21<00:00,  1.10it/s, disc_loss=1.48, gen_loss=9.95, gp=0.0139]      \n"
     ]
    },
    {
     "name": "stdout",
     "output_type": "stream",
     "text": [
      "EPOCH: 15/75\n"
     ]
    },
    {
     "name": "stderr",
     "output_type": "stream",
     "text": [
      "100%|██████████| 6500/6500 [1:38:20<00:00,  1.10it/s, disc_loss=1.27, gen_loss=-2.67, gp=0.0265]    \n"
     ]
    },
    {
     "name": "stdout",
     "output_type": "stream",
     "text": [
      "EPOCH: 16/75\n"
     ]
    },
    {
     "name": "stderr",
     "output_type": "stream",
     "text": [
      " 52%|█████▏    | 3383/6500 [51:11<46:57,  1.11it/s, disc_loss=1.03, gen_loss=-2.25, gp=0.00579]    wandb: Network error (ReadTimeout), entering retry loop.\n",
      "100%|██████████| 6500/6500 [1:37:47<00:00,  1.11it/s, disc_loss=-1.57, gen_loss=-.0108, gp=0.00235] \n"
     ]
    },
    {
     "name": "stdout",
     "output_type": "stream",
     "text": [
      "EPOCH: 17/75\n"
     ]
    },
    {
     "name": "stderr",
     "output_type": "stream",
     "text": [
      "100%|██████████| 6500/6500 [1:37:10<00:00,  1.11it/s, disc_loss=1.9, gen_loss=-9.17, gp=0.00925]    \n"
     ]
    },
    {
     "name": "stdout",
     "output_type": "stream",
     "text": [
      "EPOCH: 18/75\n"
     ]
    },
    {
     "name": "stderr",
     "output_type": "stream",
     "text": [
      "100%|██████████| 6500/6500 [1:38:32<00:00,  1.10it/s, disc_loss=1.06, gen_loss=5.76, gp=0.0118]     \n"
     ]
    },
    {
     "name": "stdout",
     "output_type": "stream",
     "text": [
      "EPOCH: 19/75\n"
     ]
    },
    {
     "name": "stderr",
     "output_type": "stream",
     "text": [
      "100%|██████████| 6500/6500 [1:37:17<00:00,  1.11it/s, disc_loss=-2.86, gen_loss=1.97, gp=0.00941]   \n"
     ]
    },
    {
     "name": "stdout",
     "output_type": "stream",
     "text": [
      "EPOCH: 20/75\n"
     ]
    },
    {
     "name": "stderr",
     "output_type": "stream",
     "text": [
      "100%|██████████| 6500/6500 [1:39:43<00:00,  1.09it/s, disc_loss=1.04, gen_loss=5.9, gp=0.0354]      \n"
     ]
    },
    {
     "name": "stdout",
     "output_type": "stream",
     "text": [
      "EPOCH: 21/75\n"
     ]
    },
    {
     "name": "stderr",
     "output_type": "stream",
     "text": [
      "100%|██████████| 6500/6500 [1:39:14<00:00,  1.09it/s, disc_loss=-2.23, gen_loss=-4.05, gp=0.00565]  \n"
     ]
    },
    {
     "name": "stdout",
     "output_type": "stream",
     "text": [
      "EPOCH: 22/75\n"
     ]
    },
    {
     "name": "stderr",
     "output_type": "stream",
     "text": [
      "100%|██████████| 6500/6500 [1:39:18<00:00,  1.09it/s, disc_loss=-1.52, gen_loss=5.32, gp=0.0661]    \n"
     ]
    },
    {
     "name": "stdout",
     "output_type": "stream",
     "text": [
      "EPOCH: 23/75\n"
     ]
    },
    {
     "name": "stderr",
     "output_type": "stream",
     "text": [
      "100%|██████████| 6500/6500 [1:39:23<00:00,  1.09it/s, disc_loss=-4.95, gen_loss=0.738, gp=0.0921]   \n"
     ]
    },
    {
     "name": "stdout",
     "output_type": "stream",
     "text": [
      "EPOCH: 24/75\n"
     ]
    },
    {
     "name": "stderr",
     "output_type": "stream",
     "text": [
      "100%|██████████| 6500/6500 [1:39:30<00:00,  1.09it/s, disc_loss=2.69, gen_loss=1.69, gp=0.0127]      \n"
     ]
    },
    {
     "name": "stdout",
     "output_type": "stream",
     "text": [
      "EPOCH: 25/75\n"
     ]
    },
    {
     "name": "stderr",
     "output_type": "stream",
     "text": [
      "100%|██████████| 6500/6500 [1:39:32<00:00,  1.09it/s, disc_loss=-7.66, gen_loss=-8.22, gp=0.0162]   \n"
     ]
    },
    {
     "name": "stdout",
     "output_type": "stream",
     "text": [
      "EPOCH: 26/75\n"
     ]
    },
    {
     "name": "stderr",
     "output_type": "stream",
     "text": [
      "100%|██████████| 6500/6500 [1:39:13<00:00,  1.09it/s, disc_loss=-10.7, gen_loss=-8.15, gp=0.0812]   \n"
     ]
    },
    {
     "name": "stdout",
     "output_type": "stream",
     "text": [
      "EPOCH: 27/75\n"
     ]
    },
    {
     "name": "stderr",
     "output_type": "stream",
     "text": [
      "100%|██████████| 6500/6500 [1:39:11<00:00,  1.09it/s, disc_loss=-3.32, gen_loss=-2.23, gp=0.0102]    \n"
     ]
    },
    {
     "name": "stdout",
     "output_type": "stream",
     "text": [
      "EPOCH: 28/75\n"
     ]
    },
    {
     "name": "stderr",
     "output_type": "stream",
     "text": [
      "100%|██████████| 6500/6500 [1:39:12<00:00,  1.09it/s, disc_loss=9.41, gen_loss=10.8, gp=0.0135]      \n"
     ]
    },
    {
     "name": "stdout",
     "output_type": "stream",
     "text": [
      "EPOCH: 29/75\n"
     ]
    },
    {
     "name": "stderr",
     "output_type": "stream",
     "text": [
      "100%|██████████| 6500/6500 [1:39:11<00:00,  1.09it/s, disc_loss=-1.7, gen_loss=3.66, gp=0.0115]     \n"
     ]
    },
    {
     "name": "stdout",
     "output_type": "stream",
     "text": [
      "EPOCH: 30/75\n"
     ]
    },
    {
     "name": "stderr",
     "output_type": "stream",
     "text": [
      "100%|██████████| 6500/6500 [1:39:09<00:00,  1.09it/s, disc_loss=-2.37, gen_loss=14, gp=0.0159]       \n"
     ]
    },
    {
     "name": "stdout",
     "output_type": "stream",
     "text": [
      "EPOCH: 31/75\n"
     ]
    },
    {
     "name": "stderr",
     "output_type": "stream",
     "text": [
      "100%|██████████| 6500/6500 [1:39:10<00:00,  1.09it/s, disc_loss=-.213, gen_loss=2.28, gp=0.00757]   \n"
     ]
    },
    {
     "name": "stdout",
     "output_type": "stream",
     "text": [
      "EPOCH: 32/75\n"
     ]
    },
    {
     "name": "stderr",
     "output_type": "stream",
     "text": [
      "100%|██████████| 6500/6500 [1:38:18<00:00,  1.10it/s, disc_loss=-1.31, gen_loss=-10, gp=0.00426]    \n"
     ]
    },
    {
     "name": "stdout",
     "output_type": "stream",
     "text": [
      "EPOCH: 33/75\n"
     ]
    },
    {
     "name": "stderr",
     "output_type": "stream",
     "text": [
      "100%|██████████| 6500/6500 [1:38:23<00:00,  1.10it/s, disc_loss=-1.7, gen_loss=-6.71, gp=0.027]    \n"
     ]
    },
    {
     "name": "stdout",
     "output_type": "stream",
     "text": [
      "EPOCH: 34/75\n"
     ]
    },
    {
     "name": "stderr",
     "output_type": "stream",
     "text": [
      "100%|██████████| 6500/6500 [1:39:09<00:00,  1.09it/s, disc_loss=-6.47, gen_loss=0.693, gp=0.00682]   \n"
     ]
    },
    {
     "name": "stdout",
     "output_type": "stream",
     "text": [
      "EPOCH: 35/75\n"
     ]
    },
    {
     "name": "stderr",
     "output_type": "stream",
     "text": [
      "100%|██████████| 6500/6500 [1:39:36<00:00,  1.09it/s, disc_loss=-.77, gen_loss=-4.9, gp=0.00594]    \n"
     ]
    },
    {
     "name": "stdout",
     "output_type": "stream",
     "text": [
      "EPOCH: 36/75\n"
     ]
    },
    {
     "name": "stderr",
     "output_type": "stream",
     "text": [
      "100%|██████████| 6500/6500 [1:39:17<00:00,  1.09it/s, disc_loss=-4.68, gen_loss=-6.15, gp=0.0368]   \n"
     ]
    },
    {
     "name": "stdout",
     "output_type": "stream",
     "text": [
      "EPOCH: 37/75\n"
     ]
    },
    {
     "name": "stderr",
     "output_type": "stream",
     "text": [
      "100%|██████████| 6500/6500 [1:39:17<00:00,  1.09it/s, disc_loss=1.13, gen_loss=-.631, gp=0.00978]   \n"
     ]
    },
    {
     "name": "stdout",
     "output_type": "stream",
     "text": [
      "EPOCH: 38/75\n"
     ]
    },
    {
     "name": "stderr",
     "output_type": "stream",
     "text": [
      "100%|██████████| 6500/6500 [1:39:16<00:00,  1.09it/s, disc_loss=3.74, gen_loss=7.8, gp=0.00293]     \n"
     ]
    },
    {
     "name": "stdout",
     "output_type": "stream",
     "text": [
      "EPOCH: 39/75\n"
     ]
    },
    {
     "name": "stderr",
     "output_type": "stream",
     "text": [
      "100%|██████████| 6500/6500 [1:39:18<00:00,  1.09it/s, disc_loss=-2.53, gen_loss=1.1, gp=0.012]       \n"
     ]
    },
    {
     "name": "stdout",
     "output_type": "stream",
     "text": [
      "EPOCH: 40/75\n"
     ]
    },
    {
     "name": "stderr",
     "output_type": "stream",
     "text": [
      "100%|██████████| 6500/6500 [1:39:17<00:00,  1.09it/s, disc_loss=6.42, gen_loss=0.95, gp=0.00559]    \n"
     ]
    },
    {
     "name": "stdout",
     "output_type": "stream",
     "text": [
      "EPOCH: 41/75\n"
     ]
    },
    {
     "name": "stderr",
     "output_type": "stream",
     "text": [
      "100%|██████████| 6500/6500 [1:39:18<00:00,  1.09it/s, disc_loss=-3.31, gen_loss=-6.72, gp=0.0152]   \n"
     ]
    },
    {
     "name": "stdout",
     "output_type": "stream",
     "text": [
      "EPOCH: 42/75\n"
     ]
    },
    {
     "name": "stderr",
     "output_type": "stream",
     "text": [
      "100%|██████████| 6500/6500 [1:39:18<00:00,  1.09it/s, disc_loss=-.981, gen_loss=9.9, gp=0.00857]    \n"
     ]
    },
    {
     "name": "stdout",
     "output_type": "stream",
     "text": [
      "EPOCH: 43/75\n"
     ]
    },
    {
     "name": "stderr",
     "output_type": "stream",
     "text": [
      "100%|██████████| 6500/6500 [1:39:17<00:00,  1.09it/s, disc_loss=-1.09, gen_loss=-4.4, gp=0.00377]   \n"
     ]
    },
    {
     "name": "stdout",
     "output_type": "stream",
     "text": [
      "EPOCH: 44/75\n"
     ]
    },
    {
     "name": "stderr",
     "output_type": "stream",
     "text": [
      "100%|██████████| 6500/6500 [1:39:15<00:00,  1.09it/s, disc_loss=-3.12, gen_loss=-.812, gp=0.0354]    \n"
     ]
    },
    {
     "name": "stdout",
     "output_type": "stream",
     "text": [
      "EPOCH: 45/75\n"
     ]
    },
    {
     "name": "stderr",
     "output_type": "stream",
     "text": [
      "100%|██████████| 6500/6500 [1:39:17<00:00,  1.09it/s, disc_loss=-6.37, gen_loss=4.46, gp=0.00297]    \n"
     ]
    },
    {
     "name": "stdout",
     "output_type": "stream",
     "text": [
      "EPOCH: 46/75\n"
     ]
    },
    {
     "name": "stderr",
     "output_type": "stream",
     "text": [
      "100%|██████████| 6500/6500 [1:39:15<00:00,  1.09it/s, disc_loss=1.36, gen_loss=0.53, gp=0.00606]     \n"
     ]
    },
    {
     "name": "stdout",
     "output_type": "stream",
     "text": [
      "EPOCH: 47/75\n"
     ]
    },
    {
     "name": "stderr",
     "output_type": "stream",
     "text": [
      "100%|██████████| 6500/6500 [1:39:17<00:00,  1.09it/s, disc_loss=6.42, gen_loss=10.8, gp=0.0113]      \n"
     ]
    },
    {
     "name": "stdout",
     "output_type": "stream",
     "text": [
      "EPOCH: 48/75\n"
     ]
    },
    {
     "name": "stderr",
     "output_type": "stream",
     "text": [
      "100%|██████████| 6500/6500 [1:38:04<00:00,  1.10it/s, disc_loss=-2.15, gen_loss=6.73, gp=0.134]     \n"
     ]
    },
    {
     "name": "stdout",
     "output_type": "stream",
     "text": [
      "EPOCH: 49/75\n"
     ]
    },
    {
     "name": "stderr",
     "output_type": "stream",
     "text": [
      "100%|██████████| 6500/6500 [1:37:49<00:00,  1.11it/s, disc_loss=2.12, gen_loss=8.9, gp=0.0757]       \n"
     ]
    },
    {
     "name": "stdout",
     "output_type": "stream",
     "text": [
      "EPOCH: 50/75\n"
     ]
    },
    {
     "name": "stderr",
     "output_type": "stream",
     "text": [
      "100%|██████████| 6500/6500 [1:37:53<00:00,  1.11it/s, disc_loss=-4.3, gen_loss=3.13, gp=0.00473]     \n"
     ]
    },
    {
     "name": "stdout",
     "output_type": "stream",
     "text": [
      "EPOCH: 51/75\n"
     ]
    },
    {
     "name": "stderr",
     "output_type": "stream",
     "text": [
      "100%|██████████| 6500/6500 [1:37:57<00:00,  1.11it/s, disc_loss=-3.53, gen_loss=16.6, gp=0.00459]   \n"
     ]
    },
    {
     "name": "stdout",
     "output_type": "stream",
     "text": [
      "EPOCH: 52/75\n"
     ]
    },
    {
     "name": "stderr",
     "output_type": "stream",
     "text": [
      "100%|██████████| 6500/6500 [1:38:04<00:00,  1.10it/s, disc_loss=-3.53, gen_loss=4.82, gp=0.00441]    \n"
     ]
    },
    {
     "name": "stdout",
     "output_type": "stream",
     "text": [
      "EPOCH: 53/75\n"
     ]
    },
    {
     "name": "stderr",
     "output_type": "stream",
     "text": [
      "100%|██████████| 6500/6500 [1:38:05<00:00,  1.10it/s, disc_loss=-3.69, gen_loss=3.89, gp=0.0101]     \n"
     ]
    },
    {
     "name": "stdout",
     "output_type": "stream",
     "text": [
      "EPOCH: 54/75\n"
     ]
    },
    {
     "name": "stderr",
     "output_type": "stream",
     "text": [
      "100%|██████████| 6500/6500 [1:38:10<00:00,  1.10it/s, disc_loss=-.421, gen_loss=7.09, gp=0.00621]    \n"
     ]
    },
    {
     "name": "stdout",
     "output_type": "stream",
     "text": [
      "EPOCH: 55/75\n"
     ]
    },
    {
     "name": "stderr",
     "output_type": "stream",
     "text": [
      "100%|██████████| 6500/6500 [1:37:48<00:00,  1.11it/s, disc_loss=-6.15, gen_loss=1.14, gp=0.0133]    \n"
     ]
    },
    {
     "name": "stdout",
     "output_type": "stream",
     "text": [
      "EPOCH: 56/75\n"
     ]
    },
    {
     "name": "stderr",
     "output_type": "stream",
     "text": [
      "100%|██████████| 6500/6500 [1:37:47<00:00,  1.11it/s, disc_loss=-3.03, gen_loss=-6.85, gp=0.0725]   \n"
     ]
    },
    {
     "name": "stdout",
     "output_type": "stream",
     "text": [
      "EPOCH: 57/75\n"
     ]
    },
    {
     "name": "stderr",
     "output_type": "stream",
     "text": [
      "100%|██████████| 6500/6500 [1:37:46<00:00,  1.11it/s, disc_loss=-2.03, gen_loss=5.75, gp=0.0312]    \n"
     ]
    },
    {
     "name": "stdout",
     "output_type": "stream",
     "text": [
      "EPOCH: 58/75\n"
     ]
    },
    {
     "name": "stderr",
     "output_type": "stream",
     "text": [
      "100%|██████████| 6500/6500 [1:37:47<00:00,  1.11it/s, disc_loss=-7.72, gen_loss=9.26, gp=0.0375]    \n"
     ]
    },
    {
     "name": "stdout",
     "output_type": "stream",
     "text": [
      "EPOCH: 59/75\n"
     ]
    },
    {
     "name": "stderr",
     "output_type": "stream",
     "text": [
      "100%|██████████| 6500/6500 [1:37:47<00:00,  1.11it/s, disc_loss=0.44, gen_loss=5.29, gp=0.052]      \n"
     ]
    },
    {
     "name": "stdout",
     "output_type": "stream",
     "text": [
      "EPOCH: 60/75\n"
     ]
    },
    {
     "name": "stderr",
     "output_type": "stream",
     "text": [
      "100%|██████████| 6500/6500 [1:37:08<00:00,  1.12it/s, disc_loss=-2.25, gen_loss=-3.43, gp=0.0105]   \n"
     ]
    },
    {
     "name": "stdout",
     "output_type": "stream",
     "text": [
      "EPOCH: 61/75\n"
     ]
    },
    {
     "name": "stderr",
     "output_type": "stream",
     "text": [
      "100%|██████████| 6500/6500 [1:37:29<00:00,  1.11it/s, disc_loss=0.0456, gen_loss=3.43, gp=0.0134]   \n"
     ]
    },
    {
     "name": "stdout",
     "output_type": "stream",
     "text": [
      "EPOCH: 62/75\n"
     ]
    },
    {
     "name": "stderr",
     "output_type": "stream",
     "text": [
      "100%|██████████| 6500/6500 [1:37:28<00:00,  1.11it/s, disc_loss=-3.57, gen_loss=8.96, gp=0.0138]    \n"
     ]
    },
    {
     "name": "stdout",
     "output_type": "stream",
     "text": [
      "EPOCH: 63/75\n"
     ]
    },
    {
     "name": "stderr",
     "output_type": "stream",
     "text": [
      "100%|██████████| 6500/6500 [1:38:29<00:00,  1.10it/s, disc_loss=-3.7, gen_loss=-1.54, gp=0.015]      \n"
     ]
    },
    {
     "name": "stdout",
     "output_type": "stream",
     "text": [
      "EPOCH: 64/75\n"
     ]
    },
    {
     "name": "stderr",
     "output_type": "stream",
     "text": [
      "100%|██████████| 6500/6500 [1:37:26<00:00,  1.11it/s, disc_loss=-1.33, gen_loss=-.292, gp=0.0545]   \n"
     ]
    },
    {
     "name": "stdout",
     "output_type": "stream",
     "text": [
      "EPOCH: 65/75\n"
     ]
    },
    {
     "name": "stderr",
     "output_type": "stream",
     "text": [
      "100%|██████████| 6500/6500 [1:37:57<00:00,  1.11it/s, disc_loss=0.542, gen_loss=1.36, gp=0.00726]   \n"
     ]
    },
    {
     "name": "stdout",
     "output_type": "stream",
     "text": [
      "EPOCH: 66/75\n"
     ]
    },
    {
     "name": "stderr",
     "output_type": "stream",
     "text": [
      "100%|██████████| 6500/6500 [1:38:02<00:00,  1.10it/s, disc_loss=-2.84, gen_loss=0.743, gp=0.00324]  \n"
     ]
    },
    {
     "name": "stdout",
     "output_type": "stream",
     "text": [
      "EPOCH: 67/75\n"
     ]
    },
    {
     "name": "stderr",
     "output_type": "stream",
     "text": [
      "100%|██████████| 6500/6500 [1:38:06<00:00,  1.10it/s, disc_loss=0.298, gen_loss=4.71, gp=0.0413]    \n"
     ]
    },
    {
     "name": "stdout",
     "output_type": "stream",
     "text": [
      "EPOCH: 68/75\n"
     ]
    },
    {
     "name": "stderr",
     "output_type": "stream",
     "text": [
      "100%|██████████| 6500/6500 [1:37:46<00:00,  1.11it/s, disc_loss=-.308, gen_loss=-3.83, gp=0.023]    \n"
     ]
    },
    {
     "name": "stdout",
     "output_type": "stream",
     "text": [
      "EPOCH: 69/75\n"
     ]
    },
    {
     "name": "stderr",
     "output_type": "stream",
     "text": [
      "100%|██████████| 6500/6500 [1:37:46<00:00,  1.11it/s, disc_loss=-6.21, gen_loss=-11, gp=0.0126]     \n"
     ]
    },
    {
     "name": "stdout",
     "output_type": "stream",
     "text": [
      "EPOCH: 70/75\n"
     ]
    },
    {
     "name": "stderr",
     "output_type": "stream",
     "text": [
      "100%|██████████| 6500/6500 [1:37:47<00:00,  1.11it/s, disc_loss=-3.94, gen_loss=4.24, gp=0.0112]     \n"
     ]
    },
    {
     "name": "stdout",
     "output_type": "stream",
     "text": [
      "EPOCH: 71/75\n"
     ]
    },
    {
     "name": "stderr",
     "output_type": "stream",
     "text": [
      "100%|██████████| 6500/6500 [1:37:47<00:00,  1.11it/s, disc_loss=-3.02, gen_loss=3.07, gp=0.00675]    \n"
     ]
    },
    {
     "name": "stdout",
     "output_type": "stream",
     "text": [
      "EPOCH: 72/75\n"
     ]
    },
    {
     "name": "stderr",
     "output_type": "stream",
     "text": [
      "100%|██████████| 6500/6500 [1:37:46<00:00,  1.11it/s, disc_loss=-2.11, gen_loss=2.64, gp=0.00759]   \n"
     ]
    },
    {
     "name": "stdout",
     "output_type": "stream",
     "text": [
      "EPOCH: 73/75\n"
     ]
    },
    {
     "name": "stderr",
     "output_type": "stream",
     "text": [
      "100%|██████████| 6500/6500 [1:37:49<00:00,  1.11it/s, disc_loss=2.69, gen_loss=-1.75, gp=0.0146]     \n"
     ]
    },
    {
     "name": "stdout",
     "output_type": "stream",
     "text": [
      "EPOCH: 74/75\n"
     ]
    },
    {
     "name": "stderr",
     "output_type": "stream",
     "text": [
      "100%|██████████| 6500/6500 [1:37:48<00:00,  1.11it/s, disc_loss=1.4, gen_loss=2.54, gp=0.00761]     \n"
     ]
    },
    {
     "name": "stdout",
     "output_type": "stream",
     "text": [
      "EPOCH: 75/75\n"
     ]
    },
    {
     "name": "stderr",
     "output_type": "stream",
     "text": [
      "100%|██████████| 6500/6500 [1:39:02<00:00,  1.09it/s, disc_loss=-1.54, gen_loss=-7.54, gp=0.00603]  \n"
     ]
    }
   ],
   "source": [
    "DEVICE = torch.device(\"cuda\" if torch.cuda.is_available() else \"cpu\")\n",
    "\n",
    "args = {\n",
    "    \"Z_DIM\": 512,\n",
    "    \"W_DIM\": 512,\n",
    "    \"LAMBDA_GP\": 10,\n",
    "    \"EPOCHS\": [20, 20, 20, 50, 50, 75, 75, 100],\n",
    "    \"BATCH_SIZES\": [256, 256, 128, 64, 32, 16, 8, 4],\n",
    "    \"IMAGE_SIZES\": [4, 8, 16, 32, 64, 128, 256, 512],\n",
    "    \"STEP\": 6,\n",
    "}\n",
    "\n",
    "wandb.init(project=\"StyleGAN1\", entity=\"donghwankim\")\n",
    "\n",
    "wandb.run.name = f'ffhq/LAMBDA_GP:{args[\"LAMBDA_GP\"]}/z_dim:{args[\"Z_DIM\"]}/w_dim:{args[\"W_DIM\"]}/step:{args[\"STEP\"]}'\n",
    "wandb.save()\n",
    "\n",
    "wandb.config.update(args)\n",
    "\n",
    "train_step(\n",
    "    gen_state_dict=torch.load(f\"./state_dict/step{args['STEP']-1}/gen_state_dict.pt\"),\n",
    "    disc_state_dict=torch.load(f\"./state_dict/step{args['STEP']-1}/disc_state_dict.pt\"),\n",
    "    z_dim=args[\"Z_DIM\"],\n",
    "    w_dim=args[\"W_DIM\"],\n",
    "    step=args[\"STEP\"],\n",
    "    epochs=args[\"EPOCHS\"][args[\"STEP\"]],\n",
    "    lr=0.00002,\n",
    "    betas=(0.5, 0.99),\n",
    "    alpha=1e-7,\n",
    "    could_gp=True,\n",
    "    image_size=args[\"IMAGE_SIZES\"][args[\"STEP\"]],\n",
    "    dataset_root=\"/home/kdhsimplepro/kdhsimplepro/AI/ffhq/\",\n",
    "    batch_size=args[\"BATCH_SIZES\"][args[\"STEP\"]]\n",
    ")"
   ]
  },
  {
   "attachments": {},
   "cell_type": "markdown",
   "metadata": {},
   "source": [
    "### Make prediction_image.jpg, train_history.gif"
   ]
  },
  {
   "cell_type": "code",
   "execution_count": 4,
   "metadata": {},
   "outputs": [
    {
     "data": {
      "text/plain": [
       "Generator(\n",
       "  (mapping_network): MappingNetwork(\n",
       "    (mapping_network): Sequential(\n",
       "      (0): PixelNorm()\n",
       "      (1): WSLinear(\n",
       "        (linear): Linear(in_features=512, out_features=512, bias=False)\n",
       "      )\n",
       "      (2): ReLU()\n",
       "      (3): WSLinear(\n",
       "        (linear): Linear(in_features=512, out_features=512, bias=False)\n",
       "      )\n",
       "      (4): ReLU()\n",
       "      (5): WSLinear(\n",
       "        (linear): Linear(in_features=512, out_features=512, bias=False)\n",
       "      )\n",
       "      (6): ReLU()\n",
       "      (7): WSLinear(\n",
       "        (linear): Linear(in_features=512, out_features=512, bias=False)\n",
       "      )\n",
       "      (8): ReLU()\n",
       "      (9): WSLinear(\n",
       "        (linear): Linear(in_features=512, out_features=512, bias=False)\n",
       "      )\n",
       "      (10): ReLU()\n",
       "      (11): WSLinear(\n",
       "        (linear): Linear(in_features=512, out_features=512, bias=False)\n",
       "      )\n",
       "      (12): ReLU()\n",
       "      (13): WSLinear(\n",
       "        (linear): Linear(in_features=512, out_features=512, bias=False)\n",
       "      )\n",
       "      (14): ReLU()\n",
       "      (15): WSLinear(\n",
       "        (linear): Linear(in_features=512, out_features=512, bias=False)\n",
       "      )\n",
       "    )\n",
       "  )\n",
       "  (initial_inject_noise1): InjectNoise()\n",
       "  (initial_adain1): AdaIN(\n",
       "    (instance_norm): InstanceNorm2d(512, eps=1e-05, momentum=0.1, affine=False, track_running_stats=False)\n",
       "    (style_scale): Linear(in_features=512, out_features=512, bias=True)\n",
       "    (style_bias): Linear(in_features=512, out_features=512, bias=True)\n",
       "  )\n",
       "  (initial_conv): WSConv2d(\n",
       "    (conv): Conv2d(512, 512, kernel_size=(3, 3), stride=(1, 1), padding=(1, 1), bias=False)\n",
       "  )\n",
       "  (initial_inject_noise2): InjectNoise()\n",
       "  (initial_adain2): AdaIN(\n",
       "    (instance_norm): InstanceNorm2d(512, eps=1e-05, momentum=0.1, affine=False, track_running_stats=False)\n",
       "    (style_scale): Linear(in_features=512, out_features=512, bias=True)\n",
       "    (style_bias): Linear(in_features=512, out_features=512, bias=True)\n",
       "  )\n",
       "  (leaky): LeakyReLU(negative_slope=0.2, inplace=True)\n",
       "  (prog_blocks): ModuleList(\n",
       "    (0): GenBlock(\n",
       "      (conv1): WSConv2d(\n",
       "        (conv): Conv2d(512, 512, kernel_size=(3, 3), stride=(1, 1), padding=(1, 1), bias=False)\n",
       "      )\n",
       "      (conv2): WSConv2d(\n",
       "        (conv): Conv2d(512, 512, kernel_size=(3, 3), stride=(1, 1), padding=(1, 1), bias=False)\n",
       "      )\n",
       "      (inject_noise1): InjectNoise()\n",
       "      (inject_noise2): InjectNoise()\n",
       "      (adain1): AdaIN(\n",
       "        (instance_norm): InstanceNorm2d(512, eps=1e-05, momentum=0.1, affine=False, track_running_stats=False)\n",
       "        (style_scale): Linear(in_features=512, out_features=512, bias=True)\n",
       "        (style_bias): Linear(in_features=512, out_features=512, bias=True)\n",
       "      )\n",
       "      (adain2): AdaIN(\n",
       "        (instance_norm): InstanceNorm2d(512, eps=1e-05, momentum=0.1, affine=False, track_running_stats=False)\n",
       "        (style_scale): Linear(in_features=512, out_features=512, bias=True)\n",
       "        (style_bias): Linear(in_features=512, out_features=512, bias=True)\n",
       "      )\n",
       "      (leaky): LeakyReLU(negative_slope=0.2, inplace=True)\n",
       "    )\n",
       "    (1): GenBlock(\n",
       "      (conv1): WSConv2d(\n",
       "        (conv): Conv2d(512, 512, kernel_size=(3, 3), stride=(1, 1), padding=(1, 1), bias=False)\n",
       "      )\n",
       "      (conv2): WSConv2d(\n",
       "        (conv): Conv2d(512, 512, kernel_size=(3, 3), stride=(1, 1), padding=(1, 1), bias=False)\n",
       "      )\n",
       "      (inject_noise1): InjectNoise()\n",
       "      (inject_noise2): InjectNoise()\n",
       "      (adain1): AdaIN(\n",
       "        (instance_norm): InstanceNorm2d(512, eps=1e-05, momentum=0.1, affine=False, track_running_stats=False)\n",
       "        (style_scale): Linear(in_features=512, out_features=512, bias=True)\n",
       "        (style_bias): Linear(in_features=512, out_features=512, bias=True)\n",
       "      )\n",
       "      (adain2): AdaIN(\n",
       "        (instance_norm): InstanceNorm2d(512, eps=1e-05, momentum=0.1, affine=False, track_running_stats=False)\n",
       "        (style_scale): Linear(in_features=512, out_features=512, bias=True)\n",
       "        (style_bias): Linear(in_features=512, out_features=512, bias=True)\n",
       "      )\n",
       "      (leaky): LeakyReLU(negative_slope=0.2, inplace=True)\n",
       "    )\n",
       "    (2): GenBlock(\n",
       "      (conv1): WSConv2d(\n",
       "        (conv): Conv2d(512, 512, kernel_size=(3, 3), stride=(1, 1), padding=(1, 1), bias=False)\n",
       "      )\n",
       "      (conv2): WSConv2d(\n",
       "        (conv): Conv2d(512, 512, kernel_size=(3, 3), stride=(1, 1), padding=(1, 1), bias=False)\n",
       "      )\n",
       "      (inject_noise1): InjectNoise()\n",
       "      (inject_noise2): InjectNoise()\n",
       "      (adain1): AdaIN(\n",
       "        (instance_norm): InstanceNorm2d(512, eps=1e-05, momentum=0.1, affine=False, track_running_stats=False)\n",
       "        (style_scale): Linear(in_features=512, out_features=512, bias=True)\n",
       "        (style_bias): Linear(in_features=512, out_features=512, bias=True)\n",
       "      )\n",
       "      (adain2): AdaIN(\n",
       "        (instance_norm): InstanceNorm2d(512, eps=1e-05, momentum=0.1, affine=False, track_running_stats=False)\n",
       "        (style_scale): Linear(in_features=512, out_features=512, bias=True)\n",
       "        (style_bias): Linear(in_features=512, out_features=512, bias=True)\n",
       "      )\n",
       "      (leaky): LeakyReLU(negative_slope=0.2, inplace=True)\n",
       "    )\n",
       "    (3): GenBlock(\n",
       "      (conv1): WSConv2d(\n",
       "        (conv): Conv2d(512, 256, kernel_size=(3, 3), stride=(1, 1), padding=(1, 1), bias=False)\n",
       "      )\n",
       "      (conv2): WSConv2d(\n",
       "        (conv): Conv2d(256, 256, kernel_size=(3, 3), stride=(1, 1), padding=(1, 1), bias=False)\n",
       "      )\n",
       "      (inject_noise1): InjectNoise()\n",
       "      (inject_noise2): InjectNoise()\n",
       "      (adain1): AdaIN(\n",
       "        (instance_norm): InstanceNorm2d(256, eps=1e-05, momentum=0.1, affine=False, track_running_stats=False)\n",
       "        (style_scale): Linear(in_features=512, out_features=256, bias=True)\n",
       "        (style_bias): Linear(in_features=512, out_features=256, bias=True)\n",
       "      )\n",
       "      (adain2): AdaIN(\n",
       "        (instance_norm): InstanceNorm2d(256, eps=1e-05, momentum=0.1, affine=False, track_running_stats=False)\n",
       "        (style_scale): Linear(in_features=512, out_features=256, bias=True)\n",
       "        (style_bias): Linear(in_features=512, out_features=256, bias=True)\n",
       "      )\n",
       "      (leaky): LeakyReLU(negative_slope=0.2, inplace=True)\n",
       "    )\n",
       "    (4): GenBlock(\n",
       "      (conv1): WSConv2d(\n",
       "        (conv): Conv2d(256, 128, kernel_size=(3, 3), stride=(1, 1), padding=(1, 1), bias=False)\n",
       "      )\n",
       "      (conv2): WSConv2d(\n",
       "        (conv): Conv2d(128, 128, kernel_size=(3, 3), stride=(1, 1), padding=(1, 1), bias=False)\n",
       "      )\n",
       "      (inject_noise1): InjectNoise()\n",
       "      (inject_noise2): InjectNoise()\n",
       "      (adain1): AdaIN(\n",
       "        (instance_norm): InstanceNorm2d(128, eps=1e-05, momentum=0.1, affine=False, track_running_stats=False)\n",
       "        (style_scale): Linear(in_features=512, out_features=128, bias=True)\n",
       "        (style_bias): Linear(in_features=512, out_features=128, bias=True)\n",
       "      )\n",
       "      (adain2): AdaIN(\n",
       "        (instance_norm): InstanceNorm2d(128, eps=1e-05, momentum=0.1, affine=False, track_running_stats=False)\n",
       "        (style_scale): Linear(in_features=512, out_features=128, bias=True)\n",
       "        (style_bias): Linear(in_features=512, out_features=128, bias=True)\n",
       "      )\n",
       "      (leaky): LeakyReLU(negative_slope=0.2, inplace=True)\n",
       "    )\n",
       "    (5): GenBlock(\n",
       "      (conv1): WSConv2d(\n",
       "        (conv): Conv2d(128, 64, kernel_size=(3, 3), stride=(1, 1), padding=(1, 1), bias=False)\n",
       "      )\n",
       "      (conv2): WSConv2d(\n",
       "        (conv): Conv2d(64, 64, kernel_size=(3, 3), stride=(1, 1), padding=(1, 1), bias=False)\n",
       "      )\n",
       "      (inject_noise1): InjectNoise()\n",
       "      (inject_noise2): InjectNoise()\n",
       "      (adain1): AdaIN(\n",
       "        (instance_norm): InstanceNorm2d(64, eps=1e-05, momentum=0.1, affine=False, track_running_stats=False)\n",
       "        (style_scale): Linear(in_features=512, out_features=64, bias=True)\n",
       "        (style_bias): Linear(in_features=512, out_features=64, bias=True)\n",
       "      )\n",
       "      (adain2): AdaIN(\n",
       "        (instance_norm): InstanceNorm2d(64, eps=1e-05, momentum=0.1, affine=False, track_running_stats=False)\n",
       "        (style_scale): Linear(in_features=512, out_features=64, bias=True)\n",
       "        (style_bias): Linear(in_features=512, out_features=64, bias=True)\n",
       "      )\n",
       "      (leaky): LeakyReLU(negative_slope=0.2, inplace=True)\n",
       "    )\n",
       "    (6): GenBlock(\n",
       "      (conv1): WSConv2d(\n",
       "        (conv): Conv2d(64, 32, kernel_size=(3, 3), stride=(1, 1), padding=(1, 1), bias=False)\n",
       "      )\n",
       "      (conv2): WSConv2d(\n",
       "        (conv): Conv2d(32, 32, kernel_size=(3, 3), stride=(1, 1), padding=(1, 1), bias=False)\n",
       "      )\n",
       "      (inject_noise1): InjectNoise()\n",
       "      (inject_noise2): InjectNoise()\n",
       "      (adain1): AdaIN(\n",
       "        (instance_norm): InstanceNorm2d(32, eps=1e-05, momentum=0.1, affine=False, track_running_stats=False)\n",
       "        (style_scale): Linear(in_features=512, out_features=32, bias=True)\n",
       "        (style_bias): Linear(in_features=512, out_features=32, bias=True)\n",
       "      )\n",
       "      (adain2): AdaIN(\n",
       "        (instance_norm): InstanceNorm2d(32, eps=1e-05, momentum=0.1, affine=False, track_running_stats=False)\n",
       "        (style_scale): Linear(in_features=512, out_features=32, bias=True)\n",
       "        (style_bias): Linear(in_features=512, out_features=32, bias=True)\n",
       "      )\n",
       "      (leaky): LeakyReLU(negative_slope=0.2, inplace=True)\n",
       "    )\n",
       "  )\n",
       "  (to_rgbs): ModuleList(\n",
       "    (0): WSConv2d(\n",
       "      (conv): Conv2d(512, 3, kernel_size=(1, 1), stride=(1, 1), bias=False)\n",
       "    )\n",
       "    (1): WSConv2d(\n",
       "      (conv): Conv2d(512, 3, kernel_size=(1, 1), stride=(1, 1), bias=False)\n",
       "    )\n",
       "    (2): WSConv2d(\n",
       "      (conv): Conv2d(512, 3, kernel_size=(1, 1), stride=(1, 1), bias=False)\n",
       "    )\n",
       "    (3): WSConv2d(\n",
       "      (conv): Conv2d(512, 3, kernel_size=(1, 1), stride=(1, 1), bias=False)\n",
       "    )\n",
       "    (4): WSConv2d(\n",
       "      (conv): Conv2d(256, 3, kernel_size=(1, 1), stride=(1, 1), bias=False)\n",
       "    )\n",
       "    (5): WSConv2d(\n",
       "      (conv): Conv2d(128, 3, kernel_size=(1, 1), stride=(1, 1), bias=False)\n",
       "    )\n",
       "    (6): WSConv2d(\n",
       "      (conv): Conv2d(64, 3, kernel_size=(1, 1), stride=(1, 1), bias=False)\n",
       "    )\n",
       "    (7): WSConv2d(\n",
       "      (conv): Conv2d(32, 3, kernel_size=(1, 1), stride=(1, 1), bias=False)\n",
       "    )\n",
       "  )\n",
       ")"
      ]
     },
     "execution_count": 4,
     "metadata": {},
     "output_type": "execute_result"
    }
   ],
   "source": [
    "device = torch.device(\"cuda\" if torch.cuda.is_available() else \"cpu\")\n",
    "\n",
    "generator = Generator(z_dim=512, w_dim=512).to(device)\n",
    "generator.load_state_dict(torch.load(\"./state_dict/step6/gen_state_dict.pt\"))\n",
    "generator.eval()"
   ]
  },
  {
   "cell_type": "code",
   "execution_count": 14,
   "metadata": {},
   "outputs": [],
   "source": [
    "from torchvision.utils import make_grid\n",
    "from torchvision.transforms.functional import to_pil_image\n",
    "\n",
    "with torch.no_grad():\n",
    "    test_z = torch.randn((64, 512)).to(device)\n",
    "    for step in range(7):\n",
    "        size = 4*2**step\n",
    "        pred = torch.zeros((64, 3, size, size)).to(device)\n",
    "\n",
    "        for i in range(64):\n",
    "            pred[i] = generator(test_z[i].unsqueeze(0), 1, step)\n",
    "\n",
    "        image = make_grid(pred, nrow=8, normalize=True)\n",
    "        image = to_pil_image(image)\n",
    "        image.save(f\"./prediction_image({size}x{size}).jpg\")"
   ]
  },
  {
   "cell_type": "code",
   "execution_count": 20,
   "metadata": {},
   "outputs": [],
   "source": [
    "from glob import glob\n",
    "from PIL import Image\n",
    "\n",
    "def make_gif(paths, save_path, fps=10, size=2066):\n",
    "    img, *imgs = [Image.open(path).resize((size, size)) for path in paths]\n",
    "    img.save(fp=save_path, format=\"GIF\", append_images=imgs, save_all=True, duration=fps, loop=1)\n",
    "\n",
    "paths = []\n",
    "for i in range(6):\n",
    "    paths += sorted(glob(f\"./test_images/{i}/*.jpg\"), key=lambda x: int(x.split('/')[-1].split(\".\")[0]))\n",
    "\n",
    "make_gif(paths=paths, save_path=\"./train_history.gif\", fps=10, size=512)"
   ]
  }
 ],
 "metadata": {
  "kernelspec": {
   "display_name": "Python 3",
   "language": "python",
   "name": "python3"
  },
  "language_info": {
   "codemirror_mode": {
    "name": "ipython",
    "version": 3
   },
   "file_extension": ".py",
   "mimetype": "text/x-python",
   "name": "python",
   "nbconvert_exporter": "python",
   "pygments_lexer": "ipython3",
   "version": "3.10.6"
  },
  "orig_nbformat": 4,
  "vscode": {
   "interpreter": {
    "hash": "916dbcbb3f70747c44a77c7bcd40155683ae19c65e1c03b4aa3499c5328201f1"
   }
  }
 },
 "nbformat": 4,
 "nbformat_minor": 2
}
